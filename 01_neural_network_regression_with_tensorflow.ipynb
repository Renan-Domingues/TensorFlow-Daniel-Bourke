{
  "nbformat": 4,
  "nbformat_minor": 0,
  "metadata": {
    "colab": {
      "provenance": [],
      "authorship_tag": "ABX9TyMwdR7enBZhqeFhvRZF15c2",
      "include_colab_link": true
    },
    "kernelspec": {
      "name": "python3",
      "display_name": "Python 3"
    },
    "language_info": {
      "name": "python"
    }
  },
  "cells": [
    {
      "cell_type": "markdown",
      "metadata": {
        "id": "view-in-github",
        "colab_type": "text"
      },
      "source": [
        "<a href=\"https://colab.research.google.com/github/Renan-Domingues/TensorFlow-Daniel-Bourke/blob/main/01_neural_network_regression_with_tensorflow.ipynb\" target=\"_parent\"><img src=\"https://colab.research.google.com/assets/colab-badge.svg\" alt=\"Open In Colab\"/></a>"
      ]
    },
    {
      "cell_type": "markdown",
      "source": [
        "# Introduction to regression with neural networks in TensorFlow\n",
        "\n",
        "There are many definitions for a regression problem...\n",
        "But to keep it short... It is predicting a number"
      ],
      "metadata": {
        "id": "2L-lw5VEXALh"
      }
    },
    {
      "cell_type": "code",
      "source": [
        "# Import TensorFlow\n",
        "import tensorflow as tf\n",
        "print(tf.__version__)"
      ],
      "metadata": {
        "colab": {
          "base_uri": "https://localhost:8080/"
        },
        "id": "uhQmahSrXTfr",
        "outputId": "8456e78a-a345-41a3-c204-5fe93ecfb878"
      },
      "execution_count": 1,
      "outputs": [
        {
          "output_type": "stream",
          "name": "stdout",
          "text": [
            "2.13.0\n"
          ]
        }
      ]
    },
    {
      "cell_type": "markdown",
      "source": [
        "## Creating data to view and fit"
      ],
      "metadata": {
        "id": "TF9JquEmXsZ6"
      }
    },
    {
      "cell_type": "code",
      "source": [
        "import numpy as np\n",
        "import matplotlib.pyplot as plt\n",
        "\n",
        "# Create features\n",
        "X = np.array([-7., -4., -1., 2., 5., 8., 11., 14.])\n",
        "\n",
        "# Create labels\n",
        "y = np.array([3.0, 6.0, 9.0, 12.0, 15.0, 18.0, 21.0, 24.0,])\n",
        "\n",
        "# Visualize it\n",
        "plt.scatter(X, y)"
      ],
      "metadata": {
        "colab": {
          "base_uri": "https://localhost:8080/",
          "height": 452
        },
        "id": "Gpb8rRq_XnZy",
        "outputId": "d9398b33-6301-4045-e503-f6c9b7fc01fb"
      },
      "execution_count": 2,
      "outputs": [
        {
          "output_type": "execute_result",
          "data": {
            "text/plain": [
              "<matplotlib.collections.PathCollection at 0x79ee98e95c60>"
            ]
          },
          "metadata": {},
          "execution_count": 2
        },
        {
          "output_type": "display_data",
          "data": {
            "text/plain": [
              "<Figure size 640x480 with 1 Axes>"
            ],
            "image/png": "[encoded data removed]"
          },
          "metadata": {}
        }
      ]
    },
    {
      "cell_type": "code",
      "source": [
        "y == X + 10"
      ],
      "metadata": {
        "colab": {
          "base_uri": "https://localhost:8080/"
        },
        "id": "9kmw9_znYch3",
        "outputId": "51e575ea-6ff8-4be8-b6d9-3f075959e686"
      },
      "execution_count": 3,
      "outputs": [
        {
          "output_type": "execute_result",
          "data": {
            "text/plain": [
              "array([ True,  True,  True,  True,  True,  True,  True,  True])"
            ]
          },
          "metadata": {},
          "execution_count": 3
        }
      ]
    },
    {
      "cell_type": "markdown",
      "source": [
        "## Input and output shapes"
      ],
      "metadata": {
        "id": "tmp0XER4YtcQ"
      }
    },
    {
      "cell_type": "code",
      "source": [
        "# Create a demo tansor for our housing price prediction problem\n",
        "house_info = tf.constant([\"bedroom\", \"bathroom\", \"garage\"])\n",
        "house_price = tf.constant([939700])\n",
        "house_info, house_price"
      ],
      "metadata": {
        "colab": {
          "base_uri": "https://localhost:8080/"
        },
        "id": "MUzN_8BfYqfY",
        "outputId": "674432ab-8d99-4e5c-c19c-559236a50a25"
      },
      "execution_count": 4,
      "outputs": [
        {
          "output_type": "execute_result",
          "data": {
            "text/plain": [
              "(<tf.Tensor: shape=(3,), dtype=string, numpy=array([b'bedroom', b'bathroom', b'garage'], dtype=object)>,\n",
              " <tf.Tensor: shape=(1,), dtype=int32, numpy=array([939700], dtype=int32)>)"
            ]
          },
          "metadata": {},
          "execution_count": 4
        }
      ]
    },
    {
      "cell_type": "code",
      "source": [
        "X[0], y[0]"
      ],
      "metadata": {
        "colab": {
          "base_uri": "https://localhost:8080/"
        },
        "id": "PZqatBg3Z4F6",
        "outputId": "aa52f1a4-2fe8-46b7-864e-9900f001fc84"
      },
      "execution_count": 5,
      "outputs": [
        {
          "output_type": "execute_result",
          "data": {
            "text/plain": [
              "(-7.0, 3.0)"
            ]
          },
          "metadata": {},
          "execution_count": 5
        }
      ]
    },
    {
      "cell_type": "code",
      "source": [
        "X[1], y[1]"
      ],
      "metadata": {
        "colab": {
          "base_uri": "https://localhost:8080/"
        },
        "id": "uO0gLql-Z7qY",
        "outputId": "7899e2ad-ceaa-491f-d925-2b58c4a33bea"
      },
      "execution_count": 6,
      "outputs": [
        {
          "output_type": "execute_result",
          "data": {
            "text/plain": [
              "(-4.0, 6.0)"
            ]
          },
          "metadata": {},
          "execution_count": 6
        }
      ]
    },
    {
      "cell_type": "code",
      "source": [
        "input_shape = X[0].shape\n",
        "output_shape = y[0].shape\n",
        "input_shape, output_shape"
      ],
      "metadata": {
        "colab": {
          "base_uri": "https://localhost:8080/"
        },
        "id": "YQWdRf5zZbyo",
        "outputId": "18305a90-c1cf-424a-d8c4-215af77ca1e5"
      },
      "execution_count": 7,
      "outputs": [
        {
          "output_type": "execute_result",
          "data": {
            "text/plain": [
              "((), ())"
            ]
          },
          "metadata": {},
          "execution_count": 7
        }
      ]
    },
    {
      "cell_type": "code",
      "source": [
        "X[0].ndim"
      ],
      "metadata": {
        "colab": {
          "base_uri": "https://localhost:8080/"
        },
        "id": "BQKY4dlFZs64",
        "outputId": "041c6f49-896d-4620-ea0b-65fe088c5851"
      },
      "execution_count": 8,
      "outputs": [
        {
          "output_type": "execute_result",
          "data": {
            "text/plain": [
              "0"
            ]
          },
          "metadata": {},
          "execution_count": 8
        }
      ]
    },
    {
      "cell_type": "code",
      "source": [
        "X[0], y[0]"
      ],
      "metadata": {
        "colab": {
          "base_uri": "https://localhost:8080/"
        },
        "id": "HvMLALBsaSor",
        "outputId": "6dfdd61e-84ff-40a6-cc18-e60584abdb98"
      },
      "execution_count": 9,
      "outputs": [
        {
          "output_type": "execute_result",
          "data": {
            "text/plain": [
              "(-7.0, 3.0)"
            ]
          },
          "metadata": {},
          "execution_count": 9
        }
      ]
    },
    {
      "cell_type": "code",
      "source": [
        "# Turn our NumPy arrays into tensor  with dtype float 32\n",
        "\n",
        "X = tf.cast(tf.constant(X), dtype=tf.float32)\n",
        "y = tf.cast(tf.constant(y), dtype=tf.float32)\n",
        "\n",
        "X, y"
      ],
      "metadata": {
        "id": "1yoCmkoUaYAk",
        "colab": {
          "base_uri": "https://localhost:8080/"
        },
        "outputId": "b523349c-1af8-48e7-9425-fd90bfd3fdca"
      },
      "execution_count": 10,
      "outputs": [
        {
          "output_type": "execute_result",
          "data": {
            "text/plain": [
              "(<tf.Tensor: shape=(8,), dtype=float32, numpy=array([-7., -4., -1.,  2.,  5.,  8., 11., 14.], dtype=float32)>,\n",
              " <tf.Tensor: shape=(8,), dtype=float32, numpy=array([ 3.,  6.,  9., 12., 15., 18., 21., 24.], dtype=float32)>)"
            ]
          },
          "metadata": {},
          "execution_count": 10
        }
      ]
    },
    {
      "cell_type": "code",
      "source": [
        "input_shape = X[0].shape\n",
        "output_shape = y[0].shape\n",
        "\n",
        "input_shape, output_shape"
      ],
      "metadata": {
        "colab": {
          "base_uri": "https://localhost:8080/"
        },
        "id": "JEch8h1RdMcd",
        "outputId": "be5a270f-23d5-4c6a-a1bb-8b1870567374"
      },
      "execution_count": 11,
      "outputs": [
        {
          "output_type": "execute_result",
          "data": {
            "text/plain": [
              "(TensorShape([]), TensorShape([]))"
            ]
          },
          "metadata": {},
          "execution_count": 11
        }
      ]
    },
    {
      "cell_type": "code",
      "source": [
        "plt.scatter(X, y)"
      ],
      "metadata": {
        "colab": {
          "base_uri": "https://localhost:8080/",
          "height": 452
        },
        "id": "KAJaMyrQdUNS",
        "outputId": "52b942bc-d0ec-4789-e9cd-5dd9fa2d57a9"
      },
      "execution_count": 12,
      "outputs": [
        {
          "output_type": "execute_result",
          "data": {
            "text/plain": [
              "<matplotlib.collections.PathCollection at 0x79ee98d3ffd0>"
            ]
          },
          "metadata": {},
          "execution_count": 12
        },
        {
          "output_type": "display_data",
          "data": {
            "text/plain": [
              "<Figure size 640x480 with 1 Axes>"
            ],
            "image/png": "[encoded data removed]"
          },
          "metadata": {}
        }
      ]
    },
    {
      "cell_type": "markdown",
      "source": [
        "## Steps in modelling with TensorFlow\n",
        "\n",
        "1. Creating a model - Define the input and output layers, as well as the hidden layers of a deep learning model.\n",
        "2. Compiling a model -  Define the loss function and optimizer and evaluation metrics\n",
        "3. Fitting a model - letting the model try to find patterns between X & y (features and labels)"
      ],
      "metadata": {
        "id": "rddk7k-QdhVb"
      }
    },
    {
      "cell_type": "code",
      "source": [
        "# set random seed\n",
        "tf.random.set_seed(42)\n",
        "# 1. Create a model using the sequential api\n",
        "model = tf.keras.Sequential([\n",
        "    tf.keras.layers.Dense(1)\n",
        "])\n",
        "\n",
        "# 2. Compile the model\n",
        "model.compile(loss=tf.keras.losses.mae, # MAE  == Mean  absolut erro\n",
        "              optimizer=tf.keras.optimizers.SGD(),  # SGD == Stocastic gradient descent\n",
        "              metrics=[\"mae\"])\n",
        "\n",
        "# 3. fit the model\n",
        "model.fit(tf.expand_dims(X, axis=-1), y, epochs=5) # Tive que expandir uma dimensão para transformar em uma matrix"
      ],
      "metadata": {
        "id": "p21j0_OKdd34",
        "colab": {
          "base_uri": "https://localhost:8080/"
        },
        "outputId": "67e6cebb-9be3-40f9-92ff-027cb4a75f66"
      },
      "execution_count": 13,
      "outputs": [
        {
          "output_type": "stream",
          "name": "stdout",
          "text": [
            "Epoch 1/5\n",
            "1/1 [==============================] - 1s 619ms/step - loss: 17.4167 - mae: 17.4167\n",
            "Epoch 2/5\n",
            "1/1 [==============================] - 0s 8ms/step - loss: 17.1354 - mae: 17.1354\n",
            "Epoch 3/5\n",
            "1/1 [==============================] - 0s 6ms/step - loss: 16.8542 - mae: 16.8542\n",
            "Epoch 4/5\n",
            "1/1 [==============================] - 0s 6ms/step - loss: 16.5729 - mae: 16.5729\n",
            "Epoch 5/5\n",
            "1/1 [==============================] - 0s 8ms/step - loss: 16.2917 - mae: 16.2917\n"
          ]
        },
        {
          "output_type": "execute_result",
          "data": {
            "text/plain": [
              "<keras.src.callbacks.History at 0x79ee94328cd0>"
            ]
          },
          "metadata": {},
          "execution_count": 13
        }
      ]
    },
    {
      "cell_type": "code",
      "source": [
        "X, tf.expand_dims(X, axis=-1)"
      ],
      "metadata": {
        "colab": {
          "base_uri": "https://localhost:8080/"
        },
        "id": "aV3UYpaU86OU",
        "outputId": "85e2c1d6-86b1-4d1d-f87c-811e6993f7d3"
      },
      "execution_count": 14,
      "outputs": [
        {
          "output_type": "execute_result",
          "data": {
            "text/plain": [
              "(<tf.Tensor: shape=(8,), dtype=float32, numpy=array([-7., -4., -1.,  2.,  5.,  8., 11., 14.], dtype=float32)>,\n",
              " <tf.Tensor: shape=(8, 1), dtype=float32, numpy=\n",
              " array([[-7.],\n",
              "        [-4.],\n",
              "        [-1.],\n",
              "        [ 2.],\n",
              "        [ 5.],\n",
              "        [ 8.],\n",
              "        [11.],\n",
              "        [14.]], dtype=float32)>)"
            ]
          },
          "metadata": {},
          "execution_count": 14
        }
      ]
    },
    {
      "cell_type": "code",
      "source": [
        "# Check out X and y\n",
        "X, y"
      ],
      "metadata": {
        "colab": {
          "base_uri": "https://localhost:8080/"
        },
        "id": "LFUZ8VHln9Pk",
        "outputId": "3c601916-cef2-4b8c-a022-596b0baed6ec"
      },
      "execution_count": 15,
      "outputs": [
        {
          "output_type": "execute_result",
          "data": {
            "text/plain": [
              "(<tf.Tensor: shape=(8,), dtype=float32, numpy=array([-7., -4., -1.,  2.,  5.,  8., 11., 14.], dtype=float32)>,\n",
              " <tf.Tensor: shape=(8,), dtype=float32, numpy=array([ 3.,  6.,  9., 12., 15., 18., 21., 24.], dtype=float32)>)"
            ]
          },
          "metadata": {},
          "execution_count": 15
        }
      ]
    },
    {
      "cell_type": "code",
      "source": [
        "# Try and make a prediction using our model\n",
        "y_pred = model.predict([17.0])\n",
        "y_pred"
      ],
      "metadata": {
        "colab": {
          "base_uri": "https://localhost:8080/"
        },
        "id": "Es-b-mxSoAeV",
        "outputId": "e4a3ebb0-67d3-4ce9-f032-2791627a29b0"
      },
      "execution_count": 16,
      "outputs": [
        {
          "output_type": "stream",
          "name": "stdout",
          "text": [
            "1/1 [==============================] - 0s 126ms/step\n"
          ]
        },
        {
          "output_type": "execute_result",
          "data": {
            "text/plain": [
              "array([[-10.611125]], dtype=float32)"
            ]
          },
          "metadata": {},
          "execution_count": 16
        }
      ]
    },
    {
      "cell_type": "markdown",
      "source": [
        "## Improving our model\n",
        "\n",
        "We can  improve our model by altering the steps we took to create a model\n",
        "\n",
        "1. **Creating a model** - here we might add more layers, increase the number of hidden  units withing hidden layers, change activation function of each layer.\n",
        "\n",
        "2. **Compile a model** - here we might change the optimization function or perhaps the **learning rate** of the optimization function\n",
        "\n",
        "3. **Fitting a model** - here we might fit a model for more **epochs** or on more data (Give the model more examples to learn from)."
      ],
      "metadata": {
        "id": "TxXwxq5vonGg"
      }
    },
    {
      "cell_type": "code",
      "source": [
        "# Let's rebuid our model\n",
        "\n",
        "# 1. Create the  model\n",
        "model = tf.keras.Sequential([\n",
        "    tf.keras.layers.Dense(1)\n",
        "])\n",
        "\n",
        "# 2. Compile model\n",
        "model.compile(loss=tf.keras.losses.mae,\n",
        "              optimizer=tf.keras.optimizers.SGD(),\n",
        "              metrics=\"mae\")\n",
        "\n",
        "# 3. fit the model\n",
        "model.fit(tf.expand_dims(X, axis=-1), y, epochs=100)"
      ],
      "metadata": {
        "id": "A1VQAhL2rFy_",
        "colab": {
          "base_uri": "https://localhost:8080/"
        },
        "outputId": "43a25ac5-57b2-4dfe-eb6d-516628c39486"
      },
      "execution_count": 17,
      "outputs": [
        {
          "output_type": "stream",
          "name": "stdout",
          "text": [
            "Epoch 1/100\n",
            "1/1 [==============================] - 0s 330ms/step - loss: 9.3006 - mae: 9.3006\n",
            "Epoch 2/100\n",
            "1/1 [==============================] - 0s 24ms/step - loss: 9.1681 - mae: 9.1681\n",
            "Epoch 3/100\n",
            "1/1 [==============================] - 0s 7ms/step - loss: 9.0356 - mae: 9.0356\n",
            "Epoch 4/100\n",
            "1/1 [==============================] - 0s 9ms/step - loss: 8.9031 - mae: 8.9031\n",
            "Epoch 5/100\n",
            "1/1 [==============================] - 0s 8ms/step - loss: 8.7706 - mae: 8.7706\n",
            "Epoch 6/100\n",
            "1/1 [==============================] - 0s 12ms/step - loss: 8.6381 - mae: 8.6381\n",
            "Epoch 7/100\n",
            "1/1 [==============================] - 0s 18ms/step - loss: 8.5056 - mae: 8.5056\n",
            "Epoch 8/100\n",
            "1/1 [==============================] - 0s 8ms/step - loss: 8.3731 - mae: 8.3731\n",
            "Epoch 9/100\n",
            "1/1 [==============================] - 0s 7ms/step - loss: 8.2406 - mae: 8.2406\n",
            "Epoch 10/100\n",
            "1/1 [==============================] - 0s 8ms/step - loss: 8.1081 - mae: 8.1081\n",
            "Epoch 11/100\n",
            "1/1 [==============================] - 0s 21ms/step - loss: 7.9756 - mae: 7.9756\n",
            "Epoch 12/100\n",
            "1/1 [==============================] - 0s 8ms/step - loss: 7.8431 - mae: 7.8431\n",
            "Epoch 13/100\n",
            "1/1 [==============================] - 0s 16ms/step - loss: 7.7106 - mae: 7.7106\n",
            "Epoch 14/100\n",
            "1/1 [==============================] - 0s 16ms/step - loss: 7.5781 - mae: 7.5781\n",
            "Epoch 15/100\n",
            "1/1 [==============================] - 0s 14ms/step - loss: 7.4456 - mae: 7.4456\n",
            "Epoch 16/100\n",
            "1/1 [==============================] - 0s 23ms/step - loss: 7.3875 - mae: 7.3875\n",
            "Epoch 17/100\n",
            "1/1 [==============================] - 0s 13ms/step - loss: 7.3819 - mae: 7.3819\n",
            "Epoch 18/100\n",
            "1/1 [==============================] - 0s 11ms/step - loss: 7.3763 - mae: 7.3763\n",
            "Epoch 19/100\n",
            "1/1 [==============================] - 0s 23ms/step - loss: 7.3706 - mae: 7.3706\n",
            "Epoch 20/100\n",
            "1/1 [==============================] - 0s 13ms/step - loss: 7.3650 - mae: 7.3650\n",
            "Epoch 21/100\n",
            "1/1 [==============================] - 0s 11ms/step - loss: 7.3594 - mae: 7.3594\n",
            "Epoch 22/100\n",
            "1/1 [==============================] - 0s 12ms/step - loss: 7.3538 - mae: 7.3538\n",
            "Epoch 23/100\n",
            "1/1 [==============================] - 0s 14ms/step - loss: 7.3481 - mae: 7.3481\n",
            "Epoch 24/100\n",
            "1/1 [==============================] - 0s 13ms/step - loss: 7.3425 - mae: 7.3425\n",
            "Epoch 25/100\n",
            "1/1 [==============================] - 0s 10ms/step - loss: 7.3369 - mae: 7.3369\n",
            "Epoch 26/100\n",
            "1/1 [==============================] - 0s 8ms/step - loss: 7.3313 - mae: 7.3313\n",
            "Epoch 27/100\n",
            "1/1 [==============================] - 0s 10ms/step - loss: 7.3256 - mae: 7.3256\n",
            "Epoch 28/100\n",
            "1/1 [==============================] - 0s 12ms/step - loss: 7.3200 - mae: 7.3200\n",
            "Epoch 29/100\n",
            "1/1 [==============================] - 0s 10ms/step - loss: 7.3144 - mae: 7.3144\n",
            "Epoch 30/100\n",
            "1/1 [==============================] - 0s 11ms/step - loss: 7.3088 - mae: 7.3088\n",
            "Epoch 31/100\n",
            "1/1 [==============================] - 0s 13ms/step - loss: 7.3031 - mae: 7.3031\n",
            "Epoch 32/100\n",
            "1/1 [==============================] - 0s 12ms/step - loss: 7.2975 - mae: 7.2975\n",
            "Epoch 33/100\n",
            "1/1 [==============================] - 0s 21ms/step - loss: 7.2919 - mae: 7.2919\n",
            "Epoch 34/100\n",
            "1/1 [==============================] - 0s 9ms/step - loss: 7.2863 - mae: 7.2863\n",
            "Epoch 35/100\n",
            "1/1 [==============================] - 0s 6ms/step - loss: 7.2806 - mae: 7.2806\n",
            "Epoch 36/100\n",
            "1/1 [==============================] - 0s 7ms/step - loss: 7.2750 - mae: 7.2750\n",
            "Epoch 37/100\n",
            "1/1 [==============================] - 0s 8ms/step - loss: 7.2694 - mae: 7.2694\n",
            "Epoch 38/100\n",
            "1/1 [==============================] - 0s 14ms/step - loss: 7.2638 - mae: 7.2638\n",
            "Epoch 39/100\n",
            "1/1 [==============================] - 0s 19ms/step - loss: 7.2581 - mae: 7.2581\n",
            "Epoch 40/100\n",
            "1/1 [==============================] - 0s 16ms/step - loss: 7.2525 - mae: 7.2525\n",
            "Epoch 41/100\n",
            "1/1 [==============================] - 0s 10ms/step - loss: 7.2469 - mae: 7.2469\n",
            "Epoch 42/100\n",
            "1/1 [==============================] - 0s 12ms/step - loss: 7.2413 - mae: 7.2413\n",
            "Epoch 43/100\n",
            "1/1 [==============================] - 0s 13ms/step - loss: 7.2356 - mae: 7.2356\n",
            "Epoch 44/100\n",
            "1/1 [==============================] - 0s 8ms/step - loss: 7.2300 - mae: 7.2300\n",
            "Epoch 45/100\n",
            "1/1 [==============================] - 0s 9ms/step - loss: 7.2244 - mae: 7.2244\n",
            "Epoch 46/100\n",
            "1/1 [==============================] - 0s 10ms/step - loss: 7.2188 - mae: 7.2188\n",
            "Epoch 47/100\n",
            "1/1 [==============================] - 0s 9ms/step - loss: 7.2131 - mae: 7.2131\n",
            "Epoch 48/100\n",
            "1/1 [==============================] - 0s 12ms/step - loss: 7.2075 - mae: 7.2075\n",
            "Epoch 49/100\n",
            "1/1 [==============================] - 0s 9ms/step - loss: 7.2019 - mae: 7.2019\n",
            "Epoch 50/100\n",
            "1/1 [==============================] - 0s 20ms/step - loss: 7.1963 - mae: 7.1963\n",
            "Epoch 51/100\n",
            "1/1 [==============================] - 0s 10ms/step - loss: 7.1906 - mae: 7.1906\n",
            "Epoch 52/100\n",
            "1/1 [==============================] - 0s 8ms/step - loss: 7.1850 - mae: 7.1850\n",
            "Epoch 53/100\n",
            "1/1 [==============================] - 0s 8ms/step - loss: 7.1794 - mae: 7.1794\n",
            "Epoch 54/100\n",
            "1/1 [==============================] - 0s 7ms/step - loss: 7.1738 - mae: 7.1738\n",
            "Epoch 55/100\n",
            "1/1 [==============================] - 0s 12ms/step - loss: 7.1681 - mae: 7.1681\n",
            "Epoch 56/100\n",
            "1/1 [==============================] - 0s 11ms/step - loss: 7.1625 - mae: 7.1625\n",
            "Epoch 57/100\n",
            "1/1 [==============================] - 0s 7ms/step - loss: 7.1569 - mae: 7.1569\n",
            "Epoch 58/100\n",
            "1/1 [==============================] - 0s 8ms/step - loss: 7.1513 - mae: 7.1513\n",
            "Epoch 59/100\n",
            "1/1 [==============================] - 0s 10ms/step - loss: 7.1456 - mae: 7.1456\n",
            "Epoch 60/100\n",
            "1/1 [==============================] - 0s 11ms/step - loss: 7.1400 - mae: 7.1400\n",
            "Epoch 61/100\n",
            "1/1 [==============================] - 0s 19ms/step - loss: 7.1344 - mae: 7.1344\n",
            "Epoch 62/100\n",
            "1/1 [==============================] - 0s 12ms/step - loss: 7.1288 - mae: 7.1288\n",
            "Epoch 63/100\n",
            "1/1 [==============================] - 0s 8ms/step - loss: 7.1231 - mae: 7.1231\n",
            "Epoch 64/100\n",
            "1/1 [==============================] - 0s 8ms/step - loss: 7.1175 - mae: 7.1175\n",
            "Epoch 65/100\n",
            "1/1 [==============================] - 0s 8ms/step - loss: 7.1119 - mae: 7.1119\n",
            "Epoch 66/100\n",
            "1/1 [==============================] - 0s 7ms/step - loss: 7.1063 - mae: 7.1063\n",
            "Epoch 67/100\n",
            "1/1 [==============================] - 0s 7ms/step - loss: 7.1006 - mae: 7.1006\n",
            "Epoch 68/100\n",
            "1/1 [==============================] - 0s 9ms/step - loss: 7.0950 - mae: 7.0950\n",
            "Epoch 69/100\n",
            "1/1 [==============================] - 0s 7ms/step - loss: 7.0894 - mae: 7.0894\n",
            "Epoch 70/100\n",
            "1/1 [==============================] - 0s 13ms/step - loss: 7.0838 - mae: 7.0838\n",
            "Epoch 71/100\n",
            "1/1 [==============================] - 0s 6ms/step - loss: 7.0781 - mae: 7.0781\n",
            "Epoch 72/100\n",
            "1/1 [==============================] - 0s 6ms/step - loss: 7.0725 - mae: 7.0725\n",
            "Epoch 73/100\n",
            "1/1 [==============================] - 0s 6ms/step - loss: 7.0669 - mae: 7.0669\n",
            "Epoch 74/100\n",
            "1/1 [==============================] - 0s 6ms/step - loss: 7.0613 - mae: 7.0613\n",
            "Epoch 75/100\n",
            "1/1 [==============================] - 0s 6ms/step - loss: 7.0556 - mae: 7.0556\n",
            "Epoch 76/100\n",
            "1/1 [==============================] - 0s 8ms/step - loss: 7.0500 - mae: 7.0500\n",
            "Epoch 77/100\n",
            "1/1 [==============================] - 0s 6ms/step - loss: 7.0444 - mae: 7.0444\n",
            "Epoch 78/100\n",
            "1/1 [==============================] - 0s 7ms/step - loss: 7.0388 - mae: 7.0388\n",
            "Epoch 79/100\n",
            "1/1 [==============================] - 0s 7ms/step - loss: 7.0331 - mae: 7.0331\n",
            "Epoch 80/100\n",
            "1/1 [==============================] - 0s 17ms/step - loss: 7.0275 - mae: 7.0275\n",
            "Epoch 81/100\n",
            "1/1 [==============================] - 0s 10ms/step - loss: 7.0219 - mae: 7.0219\n",
            "Epoch 82/100\n",
            "1/1 [==============================] - 0s 10ms/step - loss: 7.0163 - mae: 7.0163\n",
            "Epoch 83/100\n",
            "1/1 [==============================] - 0s 9ms/step - loss: 7.0106 - mae: 7.0106\n",
            "Epoch 84/100\n",
            "1/1 [==============================] - 0s 8ms/step - loss: 7.0050 - mae: 7.0050\n",
            "Epoch 85/100\n",
            "1/1 [==============================] - 0s 7ms/step - loss: 6.9994 - mae: 6.9994\n",
            "Epoch 86/100\n",
            "1/1 [==============================] - 0s 8ms/step - loss: 6.9938 - mae: 6.9938\n",
            "Epoch 87/100\n",
            "1/1 [==============================] - 0s 10ms/step - loss: 6.9881 - mae: 6.9881\n",
            "Epoch 88/100\n",
            "1/1 [==============================] - 0s 9ms/step - loss: 6.9825 - mae: 6.9825\n",
            "Epoch 89/100\n",
            "1/1 [==============================] - 0s 32ms/step - loss: 6.9769 - mae: 6.9769\n",
            "Epoch 90/100\n",
            "1/1 [==============================] - 0s 15ms/step - loss: 6.9713 - mae: 6.9713\n",
            "Epoch 91/100\n",
            "1/1 [==============================] - 0s 10ms/step - loss: 6.9656 - mae: 6.9656\n",
            "Epoch 92/100\n",
            "1/1 [==============================] - 0s 10ms/step - loss: 6.9600 - mae: 6.9600\n",
            "Epoch 93/100\n",
            "1/1 [==============================] - 0s 23ms/step - loss: 6.9544 - mae: 6.9544\n",
            "Epoch 94/100\n",
            "1/1 [==============================] - 0s 12ms/step - loss: 6.9488 - mae: 6.9488\n",
            "Epoch 95/100\n",
            "1/1 [==============================] - 0s 12ms/step - loss: 6.9431 - mae: 6.9431\n",
            "Epoch 96/100\n",
            "1/1 [==============================] - 0s 22ms/step - loss: 6.9375 - mae: 6.9375\n",
            "Epoch 97/100\n",
            "1/1 [==============================] - 0s 13ms/step - loss: 6.9319 - mae: 6.9319\n",
            "Epoch 98/100\n",
            "1/1 [==============================] - 0s 11ms/step - loss: 6.9263 - mae: 6.9263\n",
            "Epoch 99/100\n",
            "1/1 [==============================] - 0s 13ms/step - loss: 6.9206 - mae: 6.9206\n",
            "Epoch 100/100\n",
            "1/1 [==============================] - 0s 19ms/step - loss: 6.9150 - mae: 6.9150\n"
          ]
        },
        {
          "output_type": "execute_result",
          "data": {
            "text/plain": [
              "<keras.src.callbacks.History at 0x79ee87f25b40>"
            ]
          },
          "metadata": {},
          "execution_count": 17
        }
      ]
    },
    {
      "cell_type": "code",
      "source": [
        "# Remind ourselves of the data\n",
        "X, y"
      ],
      "metadata": {
        "colab": {
          "base_uri": "https://localhost:8080/"
        },
        "id": "kcYRtbn0gk6E",
        "outputId": "ec5ac1a9-a144-4318-f67e-6ae25f40af3a"
      },
      "execution_count": 18,
      "outputs": [
        {
          "output_type": "execute_result",
          "data": {
            "text/plain": [
              "(<tf.Tensor: shape=(8,), dtype=float32, numpy=array([-7., -4., -1.,  2.,  5.,  8., 11., 14.], dtype=float32)>,\n",
              " <tf.Tensor: shape=(8,), dtype=float32, numpy=array([ 3.,  6.,  9., 12., 15., 18., 21., 24.], dtype=float32)>)"
            ]
          },
          "metadata": {},
          "execution_count": 18
        }
      ]
    },
    {
      "cell_type": "code",
      "source": [
        "# Let's see if our model prediction has improved...\n",
        "model.predict([17.0])"
      ],
      "metadata": {
        "colab": {
          "base_uri": "https://localhost:8080/"
        },
        "id": "wg-zBlxwgouL",
        "outputId": "764e3378-c88c-4221-c1c9-378bc329dde5"
      },
      "execution_count": 19,
      "outputs": [
        {
          "output_type": "stream",
          "name": "stdout",
          "text": [
            "1/1 [==============================] - 0s 177ms/step\n"
          ]
        },
        {
          "output_type": "execute_result",
          "data": {
            "text/plain": [
              "array([[30.109528]], dtype=float32)"
            ]
          },
          "metadata": {},
          "execution_count": 19
        }
      ]
    },
    {
      "cell_type": "code",
      "source": [
        "# Let's see if we can  improve our  model\n",
        "\n",
        "# 1.  Create the model with an  extra hidden layer\n",
        "model = tf.keras.Sequential([\n",
        "    tf.keras.layers.Dense(50, activation=None),\n",
        "    tf.keras.layers.Dense(1)\n",
        "])\n",
        "\n",
        "# 2. Compile model\n",
        "model.compile(loss=\"mae\",\n",
        "              optimizer=tf.keras.optimizers.Adam(lr=0.01),\n",
        "              metrics=\"mae\")\n",
        "\n",
        "# 3. Fit the model\n",
        "model.fit(tf.expand_dims(X, axis=-1),  y, epochs=100)"
      ],
      "metadata": {
        "colab": {
          "base_uri": "https://localhost:8080/"
        },
        "id": "5B1MJ2lJhRYO",
        "outputId": "ed7b9566-c6d7-4a35-c393-3832f1698ffd"
      },
      "execution_count": 20,
      "outputs": [
        {
          "output_type": "stream",
          "name": "stderr",
          "text": [
            "WARNING:absl:`lr` is deprecated in Keras optimizer, please use `learning_rate` or use the legacy optimizer, e.g.,tf.keras.optimizers.legacy.Adam.\n"
          ]
        },
        {
          "output_type": "stream",
          "name": "stdout",
          "text": [
            "Epoch 1/100\n",
            "1/1 [==============================] - 1s 1s/step - loss: 12.1934 - mae: 12.1934\n",
            "Epoch 2/100\n",
            "1/1 [==============================] - 0s 12ms/step - loss: 12.1242 - mae: 12.1242\n",
            "Epoch 3/100\n",
            "1/1 [==============================] - 0s 8ms/step - loss: 12.0550 - mae: 12.0550\n",
            "Epoch 4/100\n",
            "1/1 [==============================] - 0s 8ms/step - loss: 11.9858 - mae: 11.9858\n",
            "Epoch 5/100\n",
            "1/1 [==============================] - 0s 15ms/step - loss: 11.9165 - mae: 11.9165\n",
            "Epoch 6/100\n",
            "1/1 [==============================] - 0s 7ms/step - loss: 11.8472 - mae: 11.8472\n",
            "Epoch 7/100\n",
            "1/1 [==============================] - 0s 7ms/step - loss: 11.7779 - mae: 11.7779\n",
            "Epoch 8/100\n",
            "1/1 [==============================] - 0s 7ms/step - loss: 11.7085 - mae: 11.7085\n",
            "Epoch 9/100\n",
            "1/1 [==============================] - 0s 9ms/step - loss: 11.6391 - mae: 11.6391\n",
            "Epoch 10/100\n",
            "1/1 [==============================] - 0s 7ms/step - loss: 11.5696 - mae: 11.5696\n",
            "Epoch 11/100\n",
            "1/1 [==============================] - 0s 15ms/step - loss: 11.5001 - mae: 11.5001\n",
            "Epoch 12/100\n",
            "1/1 [==============================] - 0s 20ms/step - loss: 11.4305 - mae: 11.4305\n",
            "Epoch 13/100\n",
            "1/1 [==============================] - 0s 9ms/step - loss: 11.3609 - mae: 11.3609\n",
            "Epoch 14/100\n",
            "1/1 [==============================] - 0s 11ms/step - loss: 11.2912 - mae: 11.2912\n",
            "Epoch 15/100\n",
            "1/1 [==============================] - 0s 7ms/step - loss: 11.2214 - mae: 11.2214\n",
            "Epoch 16/100\n",
            "1/1 [==============================] - 0s 8ms/step - loss: 11.1516 - mae: 11.1516\n",
            "Epoch 17/100\n",
            "1/1 [==============================] - 0s 8ms/step - loss: 11.0817 - mae: 11.0817\n",
            "Epoch 18/100\n",
            "1/1 [==============================] - 0s 7ms/step - loss: 11.0117 - mae: 11.0117\n",
            "Epoch 19/100\n",
            "1/1 [==============================] - 0s 29ms/step - loss: 10.9416 - mae: 10.9416\n",
            "Epoch 20/100\n",
            "1/1 [==============================] - 0s 18ms/step - loss: 10.8714 - mae: 10.8714\n",
            "Epoch 21/100\n",
            "1/1 [==============================] - 0s 20ms/step - loss: 10.8011 - mae: 10.8011\n",
            "Epoch 22/100\n",
            "1/1 [==============================] - 0s 8ms/step - loss: 10.7307 - mae: 10.7307\n",
            "Epoch 23/100\n",
            "1/1 [==============================] - 0s 8ms/step - loss: 10.6602 - mae: 10.6602\n",
            "Epoch 24/100\n",
            "1/1 [==============================] - 0s 8ms/step - loss: 10.5895 - mae: 10.5895\n",
            "Epoch 25/100\n",
            "1/1 [==============================] - 0s 7ms/step - loss: 10.5187 - mae: 10.5187\n",
            "Epoch 26/100\n",
            "1/1 [==============================] - 0s 7ms/step - loss: 10.4478 - mae: 10.4478\n",
            "Epoch 27/100\n",
            "1/1 [==============================] - 0s 8ms/step - loss: 10.3766 - mae: 10.3766\n",
            "Epoch 28/100\n",
            "1/1 [==============================] - 0s 32ms/step - loss: 10.3054 - mae: 10.3054\n",
            "Epoch 29/100\n",
            "1/1 [==============================] - 0s 13ms/step - loss: 10.2339 - mae: 10.2339\n",
            "Epoch 30/100\n",
            "1/1 [==============================] - 0s 8ms/step - loss: 10.1623 - mae: 10.1623\n",
            "Epoch 31/100\n",
            "1/1 [==============================] - 0s 12ms/step - loss: 10.0905 - mae: 10.0905\n",
            "Epoch 32/100\n",
            "1/1 [==============================] - 0s 11ms/step - loss: 10.0184 - mae: 10.0184\n",
            "Epoch 33/100\n",
            "1/1 [==============================] - 0s 17ms/step - loss: 9.9462 - mae: 9.9462\n",
            "Epoch 34/100\n",
            "1/1 [==============================] - 0s 10ms/step - loss: 9.8737 - mae: 9.8737\n",
            "Epoch 35/100\n",
            "1/1 [==============================] - 0s 9ms/step - loss: 9.8011 - mae: 9.8011\n",
            "Epoch 36/100\n",
            "1/1 [==============================] - 0s 20ms/step - loss: 9.7281 - mae: 9.7281\n",
            "Epoch 37/100\n",
            "1/1 [==============================] - 0s 10ms/step - loss: 9.6550 - mae: 9.6550\n",
            "Epoch 38/100\n",
            "1/1 [==============================] - 0s 10ms/step - loss: 9.5815 - mae: 9.5815\n",
            "Epoch 39/100\n",
            "1/1 [==============================] - 0s 14ms/step - loss: 9.5078 - mae: 9.5078\n",
            "Epoch 40/100\n",
            "1/1 [==============================] - 0s 36ms/step - loss: 9.4339 - mae: 9.4339\n",
            "Epoch 41/100\n",
            "1/1 [==============================] - 0s 19ms/step - loss: 9.3596 - mae: 9.3596\n",
            "Epoch 42/100\n",
            "1/1 [==============================] - 0s 10ms/step - loss: 9.2851 - mae: 9.2851\n",
            "Epoch 43/100\n",
            "1/1 [==============================] - 0s 7ms/step - loss: 9.2102 - mae: 9.2102\n",
            "Epoch 44/100\n",
            "1/1 [==============================] - 0s 12ms/step - loss: 9.1351 - mae: 9.1351\n",
            "Epoch 45/100\n",
            "1/1 [==============================] - 0s 16ms/step - loss: 9.0596 - mae: 9.0596\n",
            "Epoch 46/100\n",
            "1/1 [==============================] - 0s 25ms/step - loss: 8.9837 - mae: 8.9837\n",
            "Epoch 47/100\n",
            "1/1 [==============================] - 0s 15ms/step - loss: 8.9076 - mae: 8.9076\n",
            "Epoch 48/100\n",
            "1/1 [==============================] - 0s 10ms/step - loss: 8.8310 - mae: 8.8310\n",
            "Epoch 49/100\n",
            "1/1 [==============================] - 0s 23ms/step - loss: 8.7541 - mae: 8.7541\n",
            "Epoch 50/100\n",
            "1/1 [==============================] - 0s 32ms/step - loss: 8.6769 - mae: 8.6769\n",
            "Epoch 51/100\n",
            "1/1 [==============================] - 0s 7ms/step - loss: 8.5992 - mae: 8.5992\n",
            "Epoch 52/100\n",
            "1/1 [==============================] - 0s 18ms/step - loss: 8.5212 - mae: 8.5212\n",
            "Epoch 53/100\n",
            "1/1 [==============================] - 0s 10ms/step - loss: 8.4428 - mae: 8.4428\n",
            "Epoch 54/100\n",
            "1/1 [==============================] - 0s 9ms/step - loss: 8.3639 - mae: 8.3639\n",
            "Epoch 55/100\n",
            "1/1 [==============================] - 0s 12ms/step - loss: 8.2847 - mae: 8.2847\n",
            "Epoch 56/100\n",
            "1/1 [==============================] - 0s 23ms/step - loss: 8.2050 - mae: 8.2050\n",
            "Epoch 57/100\n",
            "1/1 [==============================] - 0s 14ms/step - loss: 8.1249 - mae: 8.1249\n",
            "Epoch 58/100\n",
            "1/1 [==============================] - 0s 18ms/step - loss: 8.0443 - mae: 8.0443\n",
            "Epoch 59/100\n",
            "1/1 [==============================] - 0s 17ms/step - loss: 7.9633 - mae: 7.9633\n",
            "Epoch 60/100\n",
            "1/1 [==============================] - 0s 11ms/step - loss: 7.8818 - mae: 7.8818\n",
            "Epoch 61/100\n",
            "1/1 [==============================] - 0s 8ms/step - loss: 7.7999 - mae: 7.7999\n",
            "Epoch 62/100\n",
            "1/1 [==============================] - 0s 25ms/step - loss: 7.7175 - mae: 7.7175\n",
            "Epoch 63/100\n",
            "1/1 [==============================] - 0s 10ms/step - loss: 7.6346 - mae: 7.6346\n",
            "Epoch 64/100\n",
            "1/1 [==============================] - 0s 10ms/step - loss: 7.5512 - mae: 7.5512\n",
            "Epoch 65/100\n",
            "1/1 [==============================] - 0s 10ms/step - loss: 7.4674 - mae: 7.4674\n",
            "Epoch 66/100\n",
            "1/1 [==============================] - 0s 10ms/step - loss: 7.3830 - mae: 7.3830\n",
            "Epoch 67/100\n",
            "1/1 [==============================] - 0s 10ms/step - loss: 7.2981 - mae: 7.2981\n",
            "Epoch 68/100\n",
            "1/1 [==============================] - 0s 8ms/step - loss: 7.2127 - mae: 7.2127\n",
            "Epoch 69/100\n",
            "1/1 [==============================] - 0s 8ms/step - loss: 7.1268 - mae: 7.1268\n",
            "Epoch 70/100\n",
            "1/1 [==============================] - 0s 13ms/step - loss: 7.0404 - mae: 7.0404\n",
            "Epoch 71/100\n",
            "1/1 [==============================] - 0s 13ms/step - loss: 6.9535 - mae: 6.9535\n",
            "Epoch 72/100\n",
            "1/1 [==============================] - 0s 12ms/step - loss: 6.8664 - mae: 6.8664\n",
            "Epoch 73/100\n",
            "1/1 [==============================] - 0s 10ms/step - loss: 6.8554 - mae: 6.8554\n",
            "Epoch 74/100\n",
            "1/1 [==============================] - 0s 10ms/step - loss: 6.8447 - mae: 6.8447\n",
            "Epoch 75/100\n",
            "1/1 [==============================] - 0s 12ms/step - loss: 6.8341 - mae: 6.8341\n",
            "Epoch 76/100\n",
            "1/1 [==============================] - 0s 16ms/step - loss: 6.8238 - mae: 6.8238\n",
            "Epoch 77/100\n",
            "1/1 [==============================] - 0s 14ms/step - loss: 6.8136 - mae: 6.8136\n",
            "Epoch 78/100\n",
            "1/1 [==============================] - 0s 15ms/step - loss: 6.8036 - mae: 6.8036\n",
            "Epoch 79/100\n",
            "1/1 [==============================] - 0s 13ms/step - loss: 6.7937 - mae: 6.7937\n",
            "Epoch 80/100\n",
            "1/1 [==============================] - 0s 16ms/step - loss: 6.7839 - mae: 6.7839\n",
            "Epoch 81/100\n",
            "1/1 [==============================] - 0s 14ms/step - loss: 6.7742 - mae: 6.7742\n",
            "Epoch 82/100\n",
            "1/1 [==============================] - 0s 16ms/step - loss: 6.7646 - mae: 6.7646\n",
            "Epoch 83/100\n",
            "1/1 [==============================] - 0s 20ms/step - loss: 6.7551 - mae: 6.7551\n",
            "Epoch 84/100\n",
            "1/1 [==============================] - 0s 10ms/step - loss: 6.7456 - mae: 6.7456\n",
            "Epoch 85/100\n",
            "1/1 [==============================] - 0s 15ms/step - loss: 6.7362 - mae: 6.7362\n",
            "Epoch 86/100\n",
            "1/1 [==============================] - 0s 13ms/step - loss: 6.7269 - mae: 6.7269\n",
            "Epoch 87/100\n",
            "1/1 [==============================] - 0s 14ms/step - loss: 6.7230 - mae: 6.7230\n",
            "Epoch 88/100\n",
            "1/1 [==============================] - 0s 21ms/step - loss: 6.7254 - mae: 6.7254\n",
            "Epoch 89/100\n",
            "1/1 [==============================] - 0s 14ms/step - loss: 6.7220 - mae: 6.7220\n",
            "Epoch 90/100\n",
            "1/1 [==============================] - 0s 13ms/step - loss: 6.7134 - mae: 6.7134\n",
            "Epoch 91/100\n",
            "1/1 [==============================] - 0s 10ms/step - loss: 6.7002 - mae: 6.7002\n",
            "Epoch 92/100\n",
            "1/1 [==============================] - 0s 22ms/step - loss: 6.6828 - mae: 6.6828\n",
            "Epoch 93/100\n",
            "1/1 [==============================] - 0s 11ms/step - loss: 6.6709 - mae: 6.6709\n",
            "Epoch 94/100\n",
            "1/1 [==============================] - 0s 11ms/step - loss: 6.6638 - mae: 6.6638\n",
            "Epoch 95/100\n",
            "1/1 [==============================] - 0s 10ms/step - loss: 6.6566 - mae: 6.6566\n",
            "Epoch 96/100\n",
            "1/1 [==============================] - 0s 10ms/step - loss: 6.6491 - mae: 6.6491\n",
            "Epoch 97/100\n",
            "1/1 [==============================] - 0s 28ms/step - loss: 6.6415 - mae: 6.6415\n",
            "Epoch 98/100\n",
            "1/1 [==============================] - 0s 14ms/step - loss: 6.6338 - mae: 6.6338\n",
            "Epoch 99/100\n",
            "1/1 [==============================] - 0s 12ms/step - loss: 6.6258 - mae: 6.6258\n",
            "Epoch 100/100\n",
            "1/1 [==============================] - 0s 8ms/step - loss: 6.6178 - mae: 6.6178\n"
          ]
        },
        {
          "output_type": "execute_result",
          "data": {
            "text/plain": [
              "<keras.src.callbacks.History at 0x79ee87638820>"
            ]
          },
          "metadata": {},
          "execution_count": 20
        }
      ]
    },
    {
      "cell_type": "code",
      "source": [
        "model.predict([17.0]) # our previous data get better (it's overfitting)"
      ],
      "metadata": {
        "colab": {
          "base_uri": "https://localhost:8080/"
        },
        "id": "mLIm4tGSiezd",
        "outputId": "c13c6ffe-8fae-4c75-ae47-31d4bbfe4811"
      },
      "execution_count": 21,
      "outputs": [
        {
          "output_type": "stream",
          "name": "stdout",
          "text": [
            "1/1 [==============================] - 0s 116ms/step\n"
          ]
        },
        {
          "output_type": "execute_result",
          "data": {
            "text/plain": [
              "array([[31.380356]], dtype=float32)"
            ]
          },
          "metadata": {},
          "execution_count": 21
        }
      ]
    },
    {
      "cell_type": "markdown",
      "source": [
        "## Evaluating a model\n",
        "\n",
        "In practice,  a typical workflow you'll go through when building a neural network is\n",
        "\n",
        "*Build a model -> fit it -> evaluate it -> tweak a model -> fit it -> evaluate it -> tweak a model -> fit it -> evaluate it...*"
      ],
      "metadata": {
        "id": "vnnOapHAkVc5"
      }
    },
    {
      "cell_type": "code",
      "source": [
        "# Make a bigger dataset\n",
        "X = tf.range(-100, 100, 4)\n",
        "X"
      ],
      "metadata": {
        "colab": {
          "base_uri": "https://localhost:8080/"
        },
        "id": "rq_fIUqGihvo",
        "outputId": "015c3313-e5f9-4fbc-dedf-7bf248d2ed05"
      },
      "execution_count": 22,
      "outputs": [
        {
          "output_type": "execute_result",
          "data": {
            "text/plain": [
              "<tf.Tensor: shape=(50,), dtype=int32, numpy=\n",
              "array([-100,  -96,  -92,  -88,  -84,  -80,  -76,  -72,  -68,  -64,  -60,\n",
              "        -56,  -52,  -48,  -44,  -40,  -36,  -32,  -28,  -24,  -20,  -16,\n",
              "        -12,   -8,   -4,    0,    4,    8,   12,   16,   20,   24,   28,\n",
              "         32,   36,   40,   44,   48,   52,   56,   60,   64,   68,   72,\n",
              "         76,   80,   84,   88,   92,   96], dtype=int32)>"
            ]
          },
          "metadata": {},
          "execution_count": 22
        }
      ]
    },
    {
      "cell_type": "code",
      "source": [
        "# Make labels for the  set\n",
        "y = X + 10\n",
        "y"
      ],
      "metadata": {
        "colab": {
          "base_uri": "https://localhost:8080/"
        },
        "id": "oX0pwGtnll96",
        "outputId": "47dc2f92-f7ce-4ac6-c30c-fa6586d512a5"
      },
      "execution_count": 23,
      "outputs": [
        {
          "output_type": "execute_result",
          "data": {
            "text/plain": [
              "<tf.Tensor: shape=(50,), dtype=int32, numpy=\n",
              "array([-90, -86, -82, -78, -74, -70, -66, -62, -58, -54, -50, -46, -42,\n",
              "       -38, -34, -30, -26, -22, -18, -14, -10,  -6,  -2,   2,   6,  10,\n",
              "        14,  18,  22,  26,  30,  34,  38,  42,  46,  50,  54,  58,  62,\n",
              "        66,  70,  74,  78,  82,  86,  90,  94,  98, 102, 106], dtype=int32)>"
            ]
          },
          "metadata": {},
          "execution_count": 23
        }
      ]
    },
    {
      "cell_type": "code",
      "source": [
        "# Visualize the data\n",
        "import matplotlib.pyplot as plt\n",
        "plt.scatter(X, y)"
      ],
      "metadata": {
        "colab": {
          "base_uri": "https://localhost:8080/",
          "height": 447
        },
        "id": "76mmeHRzlxLf",
        "outputId": "cea6fa4e-1925-4f72-e30e-ecd7101e4456"
      },
      "execution_count": 24,
      "outputs": [
        {
          "output_type": "execute_result",
          "data": {
            "text/plain": [
              "<matplotlib.collections.PathCollection at 0x79ee8759b670>"
            ]
          },
          "metadata": {},
          "execution_count": 24
        },
        {
          "output_type": "display_data",
          "data": {
            "text/plain": [
              "<Figure size 640x480 with 1 Axes>"
            ],
            "image/png": "[encoded data removed]"
          },
          "metadata": {}
        }
      ]
    },
    {
      "cell_type": "markdown",
      "source": [
        "### The 3 sets...\n",
        "\n",
        "* Training set - the model learn from this data, which is typically 70-80% of the total data\n",
        "* Validation set - the model gets turned on data, typically 10-15% of the data\n",
        "* Test set - the model gets evaluated on this data to test what is has learned, typically 10-15% of the data available"
      ],
      "metadata": {
        "id": "ug3iYFZFmFQb"
      }
    },
    {
      "cell_type": "code",
      "source": [
        "# Check the lenth of how many examples we have\n",
        "len(X), len(y)"
      ],
      "metadata": {
        "colab": {
          "base_uri": "https://localhost:8080/"
        },
        "id": "GVexH4wpl-l1",
        "outputId": "d27f140f-ec98-4321-f352-06cab9012a5f"
      },
      "execution_count": 25,
      "outputs": [
        {
          "output_type": "execute_result",
          "data": {
            "text/plain": [
              "(50, 50)"
            ]
          },
          "metadata": {},
          "execution_count": 25
        }
      ]
    },
    {
      "cell_type": "code",
      "source": [
        "# split the data into train and test sets\n",
        "X_train = X[:40] # First 40 samples\n",
        "y_train = y[:40]\n",
        "\n",
        "X_test = X[40:] # Last 10 samples\n",
        "y_test = y[40:]\n",
        "\n",
        "len(X_train), len(X_test), len(y_train), len(y_test)"
      ],
      "metadata": {
        "colab": {
          "base_uri": "https://localhost:8080/"
        },
        "id": "kGbBPeGInTyr",
        "outputId": "6091a674-a21a-43a7-ff52-48f861c7e888"
      },
      "execution_count": 26,
      "outputs": [
        {
          "output_type": "execute_result",
          "data": {
            "text/plain": [
              "(40, 10, 40, 10)"
            ]
          },
          "metadata": {},
          "execution_count": 26
        }
      ]
    },
    {
      "cell_type": "markdown",
      "source": [
        "### Visualizing the data\n",
        "now we've got our data in training and test sets... Let's visualize"
      ],
      "metadata": {
        "id": "NlGKssjJoOyO"
      }
    },
    {
      "cell_type": "code",
      "source": [
        "plt.figure(figsize=(10, 7))\n",
        "# Plot training data in blue\n",
        "plt.scatter(X_train, y_train, c=\"b\", label=\"Training data\")\n",
        "# Plot testing data in green\n",
        "plt.scatter(X_test, y_test, c=\"g\", label=\"Testing data\")\n",
        "# Show a lengend\n",
        "plt.legend();"
      ],
      "metadata": {
        "colab": {
          "base_uri": "https://localhost:8080/",
          "height": 599
        },
        "id": "of3A9nYDn-0h",
        "outputId": "bbd0c107-a13f-4ad0-94ba-8673ff34ca0c"
      },
      "execution_count": 27,
      "outputs": [
        {
          "output_type": "display_data",
          "data": {
            "text/plain": [
              "<Figure size 1000x700 with 1 Axes>"
            ],
            "image/png": "[encoded data removed]"
          },
          "metadata": {}
        }
      ]
    },
    {
      "cell_type": "code",
      "source": [
        "# Let's have a look how create a nn for our data\n",
        "# 1. Create a model\n",
        "model = tf.keras.Sequential([\n",
        "    tf.keras.layers.Dense(1)\n",
        "])\n",
        "\n",
        "# 2. Compile the model\n",
        "\n",
        "model.compile(loss=tf.keras.losses.mae,\n",
        "              optimizer=tf.keras.optimizers.SGD(),\n",
        "              metrics=\"mae\")\n",
        "\n",
        "# 3. fit the model\n",
        "# model.fit(X_train, y_train, epochs=100)"
      ],
      "metadata": {
        "id": "O2_ZuO_-rsXa"
      },
      "execution_count": 28,
      "outputs": []
    },
    {
      "cell_type": "markdown",
      "source": [
        "### Visualizing the model"
      ],
      "metadata": {
        "id": "VdasbqRMsiyC"
      }
    },
    {
      "cell_type": "code",
      "source": [
        "# model.summary()"
      ],
      "metadata": {
        "id": "r7UPbjOVsnnB"
      },
      "execution_count": 29,
      "outputs": []
    },
    {
      "cell_type": "code",
      "source": [
        "# model that buids automatically by defining the input_shape\n",
        "tf.random.set_seed(42)\n",
        "\n",
        "# Create a model (same as before)\n",
        "model =  tf.keras.Sequential([\n",
        "    tf.keras.layers.Dense(10, input_shape=[1], name=\"input_layer\"),\n",
        "    tf.keras.layers.Dense(1,  name=\"output_layer\")\n",
        "], name=\"model_1\")\n",
        "\n",
        "# Compile the model\n",
        "model.compile(loss=tf.keras.losses.mae,\n",
        "              optimizer=tf.keras.optimizers.SGD(),\n",
        "              metrics=[\"mae\"])"
      ],
      "metadata": {
        "id": "3mMmnswTs0O_"
      },
      "execution_count": 30,
      "outputs": []
    },
    {
      "cell_type": "code",
      "source": [
        "model.summary()"
      ],
      "metadata": {
        "colab": {
          "base_uri": "https://localhost:8080/"
        },
        "id": "avtZdL31uKKr",
        "outputId": "6c9b0a33-6490-41df-9325-060e586cdc0e"
      },
      "execution_count": 31,
      "outputs": [
        {
          "output_type": "stream",
          "name": "stdout",
          "text": [
            "Model: \"model_1\"\n",
            "_________________________________________________________________\n",
            " Layer (type)                Output Shape              Param #   \n",
            "=================================================================\n",
            " input_layer (Dense)         (None, 10)                20        \n",
            "                                                                 \n",
            " output_layer (Dense)        (None, 1)                 11        \n",
            "                                                                 \n",
            "=================================================================\n",
            "Total params: 31 (124.00 Byte)\n",
            "Trainable params: 31 (124.00 Byte)\n",
            "Non-trainable params: 0 (0.00 Byte)\n",
            "_________________________________________________________________\n"
          ]
        }
      ]
    },
    {
      "cell_type": "code",
      "source": [
        "# Let's fit our modet to the training data\n",
        "model.fit(X_train, y_train,  epochs=100, verbose=0)"
      ],
      "metadata": {
        "colab": {
          "base_uri": "https://localhost:8080/"
        },
        "id": "nsnFi-nfuL3e",
        "outputId": "c38d15a8-749b-4251-b100-e9694522f17d"
      },
      "execution_count": 32,
      "outputs": [
        {
          "output_type": "execute_result",
          "data": {
            "text/plain": [
              "<keras.src.callbacks.History at 0x79ee867a2830>"
            ]
          },
          "metadata": {},
          "execution_count": 32
        }
      ]
    },
    {
      "cell_type": "code",
      "source": [
        "model.summary()"
      ],
      "metadata": {
        "colab": {
          "base_uri": "https://localhost:8080/"
        },
        "id": "2ZrKm-ElwUHN",
        "outputId": "8e8af17c-3729-4681-a4e4-ea8fcbdf145d"
      },
      "execution_count": 33,
      "outputs": [
        {
          "output_type": "stream",
          "name": "stdout",
          "text": [
            "Model: \"model_1\"\n",
            "_________________________________________________________________\n",
            " Layer (type)                Output Shape              Param #   \n",
            "=================================================================\n",
            " input_layer (Dense)         (None, 10)                20        \n",
            "                                                                 \n",
            " output_layer (Dense)        (None, 1)                 11        \n",
            "                                                                 \n",
            "=================================================================\n",
            "Total params: 31 (124.00 Byte)\n",
            "Trainable params: 31 (124.00 Byte)\n",
            "Non-trainable params: 0 (0.00 Byte)\n",
            "_________________________________________________________________\n"
          ]
        }
      ]
    },
    {
      "cell_type": "code",
      "source": [
        "from tensorflow.keras.utils import plot_model\n",
        "plot_model(model=model, show_shapes=True)"
      ],
      "metadata": {
        "colab": {
          "base_uri": "https://localhost:8080/",
          "height": 312
        },
        "id": "RYDp1nrbwby0",
        "outputId": "3c72fd20-67e7-469e-face-d998aea05e31"
      },
      "execution_count": 34,
      "outputs": [
        {
          "output_type": "execute_result",
          "data": {
            "image/png": "[encoded data removed]",
            "text/plain": [
              "<IPython.core.display.Image object>"
            ]
          },
          "metadata": {},
          "execution_count": 34
        }
      ]
    },
    {
      "cell_type": "markdown",
      "source": [
        "### Visualizing our models predictions\n",
        "\n",
        "To  visualize prediction, it's a good idea to plot them against the ground truth labels.\n",
        "Often you'll  see this in  the form  of `y_test` or `y_true`  versus `y_pred`"
      ],
      "metadata": {
        "id": "T_C_lIRzym9C"
      }
    },
    {
      "cell_type": "code",
      "source": [
        "# Make some prediction\n",
        "y_pred = model.predict(X_test)\n",
        "y_pred"
      ],
      "metadata": {
        "id": "fFV2rTbaxXTJ",
        "colab": {
          "base_uri": "https://localhost:8080/"
        },
        "outputId": "3cc29dfd-ab0e-4a58-85e5-8b1eaf9cd096"
      },
      "execution_count": 35,
      "outputs": [
        {
          "output_type": "stream",
          "name": "stdout",
          "text": [
            "1/1 [==============================] - 0s 65ms/step\n"
          ]
        },
        {
          "output_type": "execute_result",
          "data": {
            "text/plain": [
              "array([[ 91.15235 ],\n",
              "       [ 97.1049  ],\n",
              "       [103.057434],\n",
              "       [109.00998 ],\n",
              "       [114.962524],\n",
              "       [120.91507 ],\n",
              "       [126.867615],\n",
              "       [132.82016 ],\n",
              "       [138.7727  ],\n",
              "       [144.72525 ]], dtype=float32)"
            ]
          },
          "metadata": {},
          "execution_count": 35
        }
      ]
    },
    {
      "cell_type": "code",
      "source": [
        "y_test"
      ],
      "metadata": {
        "colab": {
          "base_uri": "https://localhost:8080/"
        },
        "id": "J3vW-Npc61Pq",
        "outputId": "ec505a4c-b349-4b89-9377-2108e88abb94"
      },
      "execution_count": 36,
      "outputs": [
        {
          "output_type": "execute_result",
          "data": {
            "text/plain": [
              "<tf.Tensor: shape=(10,), dtype=int32, numpy=array([ 70,  74,  78,  82,  86,  90,  94,  98, 102, 106], dtype=int32)>"
            ]
          },
          "metadata": {},
          "execution_count": 36
        }
      ]
    },
    {
      "cell_type": "code",
      "source": [
        "# let's create a plot function\n",
        "def plot_predictions(train_data=X_train,\n",
        "                     train_labels=y_train,\n",
        "                     test_data=X_test,\n",
        "                     test_labels=y_test,\n",
        "                     predictions=y_pred):\n",
        "  plt.figure(figsize=(10, 7))\n",
        "  #plot training data in blue\n",
        "  plt.scatter(train_data,  train_labels, c=\"b\", label=\"Training data\")\n",
        "  # Plot testing data in green\n",
        "  plt.scatter(test_data, test_labels, c=\"g\", label=\"Test data\")\n",
        "  # Plot model's prediction in red\n",
        "  plt.scatter(test_data, predictions, c=\"r\", label=\"Predictions\")\n",
        "  # Show legend\n",
        "  plt.legend();"
      ],
      "metadata": {
        "id": "gzWZsRit652F"
      },
      "execution_count": 37,
      "outputs": []
    },
    {
      "cell_type": "code",
      "source": [
        "plot_predictions(train_data=X_train,\n",
        "                 train_labels=y_train,\n",
        "                 test_data=X_test,\n",
        "                 test_labels=y_test,\n",
        "                 predictions=y_pred)"
      ],
      "metadata": {
        "colab": {
          "base_uri": "https://localhost:8080/",
          "height": 599
        },
        "id": "H38yvM-e8NVs",
        "outputId": "ff77f8d7-ab46-4079-bb90-9cd6d6216e48"
      },
      "execution_count": 38,
      "outputs": [
        {
          "output_type": "display_data",
          "data": {
            "text/plain": [
              "<Figure size 1000x700 with 1 Axes>"
            ],
            "image/png": "[encoded data removed]"
          },
          "metadata": {}
        }
      ]
    },
    {
      "cell_type": "markdown",
      "source": [
        "### Evaluating our model's predictions with regression evaluation metrics\n",
        "\n",
        "Dependig on the problem, there will be different evaluation metrics to evaluate the model's performance.\n",
        "Since we're working on a regression, two of the main metrics:\n",
        "* MAE - mean absolute error, \"on avarege, how wrong is each of my model's predictions\"\n",
        "* MSE - mean square error, \"square the average error\""
      ],
      "metadata": {
        "id": "HEzuiPOr8v0P"
      }
    },
    {
      "cell_type": "code",
      "source": [
        "#  Evaluate the model on the test\n",
        "model.evaluate(X_test, y_test)"
      ],
      "metadata": {
        "colab": {
          "base_uri": "https://localhost:8080/"
        },
        "id": "c0hDO7oR8PQm",
        "outputId": "4fe493a0-84f8-4aa4-e59a-0437c8971710"
      },
      "execution_count": 39,
      "outputs": [
        {
          "output_type": "stream",
          "name": "stdout",
          "text": [
            "1/1 [==============================] - 0s 258ms/step - loss: 29.9388 - mae: 29.9388\n"
          ]
        },
        {
          "output_type": "execute_result",
          "data": {
            "text/plain": [
              "[29.938793182373047, 29.938793182373047]"
            ]
          },
          "metadata": {},
          "execution_count": 39
        }
      ]
    },
    {
      "cell_type": "code",
      "source": [
        "# Calculate the mean absolute error\n",
        "mae = tf.metrics.mean_absolute_error(y_true=y_test,\n",
        "                                     y_pred=y_pred)\n",
        "mae"
      ],
      "metadata": {
        "colab": {
          "base_uri": "https://localhost:8080/"
        },
        "id": "cEftw5jI-U0c",
        "outputId": "a405a3fe-8c1f-430a-e2bf-cce9d7460ef2"
      },
      "execution_count": 40,
      "outputs": [
        {
          "output_type": "execute_result",
          "data": {
            "text/plain": [
              "<tf.Tensor: shape=(10,), dtype=float32, numpy=\n",
              "array([10.230471, 12.041959, 15.645947, 21.00998 , 26.962524, 32.91507 ,\n",
              "       38.867615, 44.82016 , 50.772705, 56.72525 ], dtype=float32)>"
            ]
          },
          "metadata": {},
          "execution_count": 40
        }
      ]
    },
    {
      "cell_type": "code",
      "source": [
        "y_pred.shape, y_test.shape # diferent ndims"
      ],
      "metadata": {
        "colab": {
          "base_uri": "https://localhost:8080/"
        },
        "id": "hPpU4uTh-6sb",
        "outputId": "f05e7705-45b0-42d2-839e-15e67631e26c"
      },
      "execution_count": 41,
      "outputs": [
        {
          "output_type": "execute_result",
          "data": {
            "text/plain": [
              "((10, 1), TensorShape([10]))"
            ]
          },
          "metadata": {},
          "execution_count": 41
        }
      ]
    },
    {
      "cell_type": "code",
      "source": [
        "tf.squeeze(y_pred)"
      ],
      "metadata": {
        "colab": {
          "base_uri": "https://localhost:8080/"
        },
        "id": "oolaNYBA_Z_x",
        "outputId": "0cfbe071-fab1-41e7-f4ce-14a684844388"
      },
      "execution_count": 42,
      "outputs": [
        {
          "output_type": "execute_result",
          "data": {
            "text/plain": [
              "<tf.Tensor: shape=(10,), dtype=float32, numpy=\n",
              "array([ 91.15235 ,  97.1049  , 103.057434, 109.00998 , 114.962524,\n",
              "       120.91507 , 126.867615, 132.82016 , 138.7727  , 144.72525 ],\n",
              "      dtype=float32)>"
            ]
          },
          "metadata": {},
          "execution_count": 42
        }
      ]
    },
    {
      "cell_type": "code",
      "source": [
        "# Calculate the mean absolut error\n",
        "mae = tf.metrics.mean_absolute_error(y_true=y_test,\n",
        "                                     y_pred=tf.squeeze(y_pred))\n",
        "mae"
      ],
      "metadata": {
        "colab": {
          "base_uri": "https://localhost:8080/"
        },
        "id": "XKPFjHWR_idd",
        "outputId": "ab590ade-a809-47d8-88a5-dbd039730d08"
      },
      "execution_count": 43,
      "outputs": [
        {
          "output_type": "execute_result",
          "data": {
            "text/plain": [
              "<tf.Tensor: shape=(), dtype=float32, numpy=29.9388>"
            ]
          },
          "metadata": {},
          "execution_count": 43
        }
      ]
    },
    {
      "cell_type": "code",
      "source": [
        "# Calculate the mean  square error\n",
        "mse  =  tf.metrics.mean_squared_error(y_true=y_test,\n",
        "                                      y_pred=tf.squeeze(y_pred))\n",
        "mse"
      ],
      "metadata": {
        "id": "RFpOVFt__70k",
        "colab": {
          "base_uri": "https://localhost:8080/"
        },
        "outputId": "a03b4eab-4fe2-4f3f-c4ef-cb40d2a50419"
      },
      "execution_count": 44,
      "outputs": [
        {
          "output_type": "execute_result",
          "data": {
            "text/plain": [
              "<tf.Tensor: shape=(), dtype=float32, numpy=927.7842>"
            ]
          },
          "metadata": {},
          "execution_count": 44
        }
      ]
    },
    {
      "cell_type": "code",
      "source": [
        "# Make some functions to reuse MAE and  MSE\n",
        "def mae(y_true, y_pred):\n",
        "  return tf.metrics.mean_absolute_error(y_true=y_true,\n",
        "                                        y_pred=tf.squeeze(y_pred))\n",
        "\n",
        "def mse(y_true, y_pred):\n",
        "  return tf.metrics.mean_squared_error(y_true=y_true,\n",
        "                                       y_pred=tf.squeeze(y_pred))\n"
      ],
      "metadata": {
        "id": "G0Y4XaEHo1Xk"
      },
      "execution_count": 45,
      "outputs": []
    },
    {
      "cell_type": "markdown",
      "source": [
        "### Runing experiments to improve our model\n",
        "\n",
        "1. Get more data\n",
        "2. make your model larger (more layers and hidden units)\n",
        "3. Training for longer\n",
        "\n",
        "let's do 3 modelling experiments:\n",
        "1. `model_1` - same as the original model\n",
        "2. `model_2` - 2 layers, trained for 100 epochs\n",
        "3. `model_3` - 2 layers, trained for 500 epochs"
      ],
      "metadata": {
        "id": "F4bISDsAp7-C"
      }
    },
    {
      "cell_type": "code",
      "source": [
        "# set random seed\n",
        "tf.random.set_seed(42)\n",
        "\n",
        "# 1. create the model\n",
        "model_1 = tf.keras.Sequential([\n",
        "    tf.keras.layers.Dense(1)\n",
        "])\n",
        "\n",
        "# 2. Compile the model\n",
        "model_1.compile(loss=tf.keras.losses.mae,\n",
        "                optimizer=tf.keras.optimizers.SGD(),\n",
        "                metrics=[\"mae\"])\n",
        "\n",
        "# 3 fit the  model\n",
        "model_1.fit(tf.expand_dims(X_train, axis=-1), y_train, epochs=100)"
      ],
      "metadata": {
        "colab": {
          "base_uri": "https://localhost:8080/"
        },
        "id": "0qFEDm4hqGxj",
        "outputId": "317ee20b-6295-48d8-c014-f76b7192e4fa"
      },
      "execution_count": 46,
      "outputs": [
        {
          "output_type": "stream",
          "name": "stdout",
          "text": [
            "Epoch 1/100\n",
            "2/2 [==============================] - 0s 12ms/step - loss: 7.9721 - mae: 7.9721\n",
            "Epoch 2/100\n",
            "2/2 [==============================] - 0s 5ms/step - loss: 11.9491 - mae: 11.9491\n",
            "Epoch 3/100\n",
            "2/2 [==============================] - 0s 7ms/step - loss: 11.1055 - mae: 11.1055\n",
            "Epoch 4/100\n",
            "2/2 [==============================] - 0s 5ms/step - loss: 9.2933 - mae: 9.2933\n",
            "Epoch 5/100\n",
            "2/2 [==============================] - 0s 7ms/step - loss: 10.1619 - mae: 10.1619\n",
            "Epoch 6/100\n",
            "2/2 [==============================] - 0s 7ms/step - loss: 9.4246 - mae: 9.4246\n",
            "Epoch 7/100\n",
            "2/2 [==============================] - 0s 9ms/step - loss: 8.5650 - mae: 8.5650\n",
            "Epoch 8/100\n",
            "2/2 [==============================] - 0s 6ms/step - loss: 9.0395 - mae: 9.0395\n",
            "Epoch 9/100\n",
            "2/2 [==============================] - 0s 6ms/step - loss: 18.7464 - mae: 18.7464\n",
            "Epoch 10/100\n",
            "2/2 [==============================] - 0s 4ms/step - loss: 10.1081 - mae: 10.1081\n",
            "Epoch 11/100\n",
            "2/2 [==============================] - 0s 6ms/step - loss: 8.3930 - mae: 8.3930\n",
            "Epoch 12/100\n",
            "2/2 [==============================] - 0s 8ms/step - loss: 10.6581 - mae: 10.6581\n",
            "Epoch 13/100\n",
            "2/2 [==============================] - 0s 5ms/step - loss: 9.7926 - mae: 9.7926\n",
            "Epoch 14/100\n",
            "2/2 [==============================] - 0s 5ms/step - loss: 16.0053 - mae: 16.0053\n",
            "Epoch 15/100\n",
            "2/2 [==============================] - 0s 4ms/step - loss: 11.4052 - mae: 11.4052\n",
            "Epoch 16/100\n",
            "2/2 [==============================] - 0s 4ms/step - loss: 8.5346 - mae: 8.5346\n",
            "Epoch 17/100\n",
            "2/2 [==============================] - 0s 6ms/step - loss: 13.6287 - mae: 13.6287\n",
            "Epoch 18/100\n",
            "2/2 [==============================] - 0s 6ms/step - loss: 11.4565 - mae: 11.4565\n",
            "Epoch 19/100\n",
            "2/2 [==============================] - 0s 6ms/step - loss: 17.9138 - mae: 17.9138\n",
            "Epoch 20/100\n",
            "2/2 [==============================] - 0s 5ms/step - loss: 15.0484 - mae: 15.0484\n",
            "Epoch 21/100\n",
            "2/2 [==============================] - 0s 7ms/step - loss: 11.0196 - mae: 11.0196\n",
            "Epoch 22/100\n",
            "2/2 [==============================] - 0s 5ms/step - loss: 8.1532 - mae: 8.1532\n",
            "Epoch 23/100\n",
            "2/2 [==============================] - 0s 5ms/step - loss: 9.5080 - mae: 9.5080\n",
            "Epoch 24/100\n",
            "2/2 [==============================] - 0s 4ms/step - loss: 7.6573 - mae: 7.6573\n",
            "Epoch 25/100\n",
            "2/2 [==============================] - 0s 9ms/step - loss: 13.1810 - mae: 13.1810\n",
            "Epoch 26/100\n",
            "2/2 [==============================] - 0s 7ms/step - loss: 16.4200 - mae: 16.4200\n",
            "Epoch 27/100\n",
            "2/2 [==============================] - 0s 5ms/step - loss: 13.1643 - mae: 13.1643\n",
            "Epoch 28/100\n",
            "2/2 [==============================] - 0s 6ms/step - loss: 14.2546 - mae: 14.2546\n",
            "Epoch 29/100\n",
            "2/2 [==============================] - 0s 12ms/step - loss: 10.0634 - mae: 10.0634\n",
            "Epoch 30/100\n",
            "2/2 [==============================] - 0s 8ms/step - loss: 16.3416 - mae: 16.3416\n",
            "Epoch 31/100\n",
            "2/2 [==============================] - 0s 7ms/step - loss: 23.6403 - mae: 23.6403\n",
            "Epoch 32/100\n",
            "2/2 [==============================] - 0s 12ms/step - loss: 7.6164 - mae: 7.6164\n",
            "Epoch 33/100\n",
            "2/2 [==============================] - 0s 7ms/step - loss: 9.3170 - mae: 9.3170\n",
            "Epoch 34/100\n",
            "2/2 [==============================] - 0s 6ms/step - loss: 13.7254 - mae: 13.7254\n",
            "Epoch 35/100\n",
            "2/2 [==============================] - 0s 6ms/step - loss: 11.1247 - mae: 11.1247\n",
            "Epoch 36/100\n",
            "2/2 [==============================] - 0s 6ms/step - loss: 13.3216 - mae: 13.3216\n",
            "Epoch 37/100\n",
            "2/2 [==============================] - 0s 5ms/step - loss: 9.4708 - mae: 9.4708\n",
            "Epoch 38/100\n",
            "2/2 [==============================] - 0s 6ms/step - loss: 10.1320 - mae: 10.1320\n",
            "Epoch 39/100\n",
            "2/2 [==============================] - 0s 7ms/step - loss: 10.1763 - mae: 10.1763\n",
            "Epoch 40/100\n",
            "2/2 [==============================] - 0s 13ms/step - loss: 10.9117 - mae: 10.9117\n",
            "Epoch 41/100\n",
            "2/2 [==============================] - 0s 6ms/step - loss: 7.9033 - mae: 7.9033\n",
            "Epoch 42/100\n",
            "2/2 [==============================] - 0s 5ms/step - loss: 10.0856 - mae: 10.0856\n",
            "Epoch 43/100\n",
            "2/2 [==============================] - 0s 5ms/step - loss: 8.6955 - mae: 8.6955\n",
            "Epoch 44/100\n",
            "2/2 [==============================] - 0s 15ms/step - loss: 12.1988 - mae: 12.1988\n",
            "Epoch 45/100\n",
            "2/2 [==============================] - 0s 9ms/step - loss: 13.7957 - mae: 13.7957\n",
            "Epoch 46/100\n",
            "2/2 [==============================] - 0s 11ms/step - loss: 8.4657 - mae: 8.4657\n",
            "Epoch 47/100\n",
            "2/2 [==============================] - 0s 6ms/step - loss: 9.1276 - mae: 9.1276\n",
            "Epoch 48/100\n",
            "2/2 [==============================] - 0s 5ms/step - loss: 10.6129 - mae: 10.6129\n",
            "Epoch 49/100\n",
            "2/2 [==============================] - 0s 5ms/step - loss: 7.7452 - mae: 7.7452\n",
            "Epoch 50/100\n",
            "2/2 [==============================] - 0s 6ms/step - loss: 9.5349 - mae: 9.5349\n",
            "Epoch 51/100\n",
            "2/2 [==============================] - 0s 5ms/step - loss: 9.1537 - mae: 9.1537\n",
            "Epoch 52/100\n",
            "2/2 [==============================] - 0s 7ms/step - loss: 16.3586 - mae: 16.3586\n",
            "Epoch 53/100\n",
            "2/2 [==============================] - 0s 5ms/step - loss: 14.1278 - mae: 14.1278\n",
            "Epoch 54/100\n",
            "2/2 [==============================] - 0s 5ms/step - loss: 21.1257 - mae: 21.1257\n",
            "Epoch 55/100\n",
            "2/2 [==============================] - 0s 4ms/step - loss: 16.3911 - mae: 16.3911\n",
            "Epoch 56/100\n",
            "2/2 [==============================] - 0s 7ms/step - loss: 9.9792 - mae: 9.9792\n",
            "Epoch 57/100\n",
            "2/2 [==============================] - 0s 4ms/step - loss: 9.9549 - mae: 9.9549\n",
            "Epoch 58/100\n",
            "2/2 [==============================] - 0s 5ms/step - loss: 9.2151 - mae: 9.2151\n",
            "Epoch 59/100\n",
            "2/2 [==============================] - 0s 5ms/step - loss: 8.4188 - mae: 8.4188\n",
            "Epoch 60/100\n",
            "2/2 [==============================] - 0s 4ms/step - loss: 9.4815 - mae: 9.4815\n",
            "Epoch 61/100\n",
            "2/2 [==============================] - 0s 4ms/step - loss: 11.4290 - mae: 11.4290\n",
            "Epoch 62/100\n",
            "2/2 [==============================] - 0s 8ms/step - loss: 11.6871 - mae: 11.6871\n",
            "Epoch 63/100\n",
            "2/2 [==============================] - 0s 5ms/step - loss: 7.0784 - mae: 7.0784\n",
            "Epoch 64/100\n",
            "2/2 [==============================] - 0s 5ms/step - loss: 16.9668 - mae: 16.9668\n",
            "Epoch 65/100\n",
            "2/2 [==============================] - 0s 5ms/step - loss: 12.4579 - mae: 12.4579\n",
            "Epoch 66/100\n",
            "2/2 [==============================] - 0s 5ms/step - loss: 13.0171 - mae: 13.0171\n",
            "Epoch 67/100\n",
            "2/2 [==============================] - 0s 5ms/step - loss: 8.0563 - mae: 8.0563\n",
            "Epoch 68/100\n",
            "2/2 [==============================] - 0s 5ms/step - loss: 10.1862 - mae: 10.1862\n",
            "Epoch 69/100\n",
            "2/2 [==============================] - 0s 7ms/step - loss: 12.3620 - mae: 12.3620\n",
            "Epoch 70/100\n",
            "2/2 [==============================] - 0s 8ms/step - loss: 9.0458 - mae: 9.0458\n",
            "Epoch 71/100\n",
            "2/2 [==============================] - 0s 6ms/step - loss: 10.0321 - mae: 10.0321\n",
            "Epoch 72/100\n",
            "2/2 [==============================] - 0s 6ms/step - loss: 10.0461 - mae: 10.0461\n",
            "Epoch 73/100\n",
            "2/2 [==============================] - 0s 6ms/step - loss: 12.6089 - mae: 12.6089\n",
            "Epoch 74/100\n",
            "2/2 [==============================] - 0s 6ms/step - loss: 10.3803 - mae: 10.3803\n",
            "Epoch 75/100\n",
            "2/2 [==============================] - 0s 6ms/step - loss: 9.7175 - mae: 9.7175\n",
            "Epoch 76/100\n",
            "2/2 [==============================] - 0s 6ms/step - loss: 11.2191 - mae: 11.2191\n",
            "Epoch 77/100\n",
            "2/2 [==============================] - 0s 7ms/step - loss: 8.3591 - mae: 8.3591\n",
            "Epoch 78/100\n",
            "2/2 [==============================] - 0s 6ms/step - loss: 9.1210 - mae: 9.1210\n",
            "Epoch 79/100\n",
            "2/2 [==============================] - 0s 6ms/step - loss: 19.5045 - mae: 19.5045\n",
            "Epoch 80/100\n",
            "2/2 [==============================] - 0s 7ms/step - loss: 14.8892 - mae: 14.8892\n",
            "Epoch 81/100\n",
            "2/2 [==============================] - 0s 6ms/step - loss: 9.0022 - mae: 9.0022\n",
            "Epoch 82/100\n",
            "2/2 [==============================] - 0s 5ms/step - loss: 13.0154 - mae: 13.0154\n",
            "Epoch 83/100\n",
            "2/2 [==============================] - 0s 5ms/step - loss: 7.9241 - mae: 7.9241\n",
            "Epoch 84/100\n",
            "2/2 [==============================] - 0s 10ms/step - loss: 7.6835 - mae: 7.6835\n",
            "Epoch 85/100\n",
            "2/2 [==============================] - 0s 7ms/step - loss: 10.0305 - mae: 10.0305\n",
            "Epoch 86/100\n",
            "2/2 [==============================] - 0s 8ms/step - loss: 9.2403 - mae: 9.2403\n",
            "Epoch 87/100\n",
            "2/2 [==============================] - 0s 6ms/step - loss: 12.0195 - mae: 12.0195\n",
            "Epoch 88/100\n",
            "2/2 [==============================] - 0s 11ms/step - loss: 10.6372 - mae: 10.6372\n",
            "Epoch 89/100\n",
            "2/2 [==============================] - 0s 7ms/step - loss: 7.2623 - mae: 7.2623\n",
            "Epoch 90/100\n",
            "2/2 [==============================] - 0s 13ms/step - loss: 12.7773 - mae: 12.7773\n",
            "Epoch 91/100\n",
            "2/2 [==============================] - 0s 10ms/step - loss: 7.4648 - mae: 7.4648\n",
            "Epoch 92/100\n",
            "2/2 [==============================] - 0s 7ms/step - loss: 6.7512 - mae: 6.7512\n",
            "Epoch 93/100\n",
            "2/2 [==============================] - 0s 10ms/step - loss: 11.9283 - mae: 11.9283\n",
            "Epoch 94/100\n",
            "2/2 [==============================] - 0s 14ms/step - loss: 8.8643 - mae: 8.8643\n",
            "Epoch 95/100\n",
            "2/2 [==============================] - 0s 13ms/step - loss: 7.7077 - mae: 7.7077\n",
            "Epoch 96/100\n",
            "2/2 [==============================] - 0s 8ms/step - loss: 6.7445 - mae: 6.7445\n",
            "Epoch 97/100\n",
            "2/2 [==============================] - 0s 5ms/step - loss: 8.6124 - mae: 8.6124\n",
            "Epoch 98/100\n",
            "2/2 [==============================] - 0s 5ms/step - loss: 9.3989 - mae: 9.3989\n",
            "Epoch 99/100\n",
            "2/2 [==============================] - 0s 8ms/step - loss: 9.1329 - mae: 9.1329\n",
            "Epoch 100/100\n",
            "2/2 [==============================] - 0s 8ms/step - loss: 10.4943 - mae: 10.4943\n"
          ]
        },
        {
          "output_type": "execute_result",
          "data": {
            "text/plain": [
              "<keras.src.callbacks.History at 0x79ee866ef490>"
            ]
          },
          "metadata": {},
          "execution_count": 46
        }
      ]
    },
    {
      "cell_type": "code",
      "source": [
        "# Make a plot predictions for model_1\n",
        "y_preds_1 = model_1.predict(X_test)\n",
        "plot_predictions(predictions=y_preds_1)"
      ],
      "metadata": {
        "colab": {
          "base_uri": "https://localhost:8080/",
          "height": 654
        },
        "id": "7Ovndhp_rgIX",
        "outputId": "8e88efcb-79a6-434a-ac9e-66c6cc8d3289"
      },
      "execution_count": 47,
      "outputs": [
        {
          "output_type": "stream",
          "name": "stderr",
          "text": [
            "WARNING:tensorflow:5 out of the last 5 calls to <function Model.make_predict_function.<locals>.predict_function at 0x79ee865944c0> triggered tf.function retracing. Tracing is expensive and the excessive number of tracings could be due to (1) creating @tf.function repeatedly in a loop, (2) passing tensors with different shapes, (3) passing Python objects instead of tensors. For (1), please define your @tf.function outside of the loop. For (2), @tf.function has reduce_retracing=True option that can avoid unnecessary retracing. For (3), please refer to https://www.tensorflow.org/guide/function#controlling_retracing and https://www.tensorflow.org/api_docs/python/tf/function for  more details.\n"
          ]
        },
        {
          "output_type": "stream",
          "name": "stdout",
          "text": [
            "1/1 [==============================] - 0s 51ms/step\n"
          ]
        },
        {
          "output_type": "display_data",
          "data": {
            "text/plain": [
              "<Figure size 1000x700 with 1 Axes>"
            ],
            "image/png": "[encoded data removed]"
          },
          "metadata": {}
        }
      ]
    },
    {
      "cell_type": "code",
      "source": [
        "# Calculate model_1 evaluation metrics\n",
        "mae_1 = mae(y_test,y_preds_1)\n",
        "mse_1 = mse(y_test, y_preds_1)\n",
        "mae_1, mse_1"
      ],
      "metadata": {
        "colab": {
          "base_uri": "https://localhost:8080/"
        },
        "id": "ERnjCR8QstYh",
        "outputId": "e5fda248-8c20-451b-d30c-3db985b128c0"
      },
      "execution_count": 48,
      "outputs": [
        {
          "output_type": "execute_result",
          "data": {
            "text/plain": [
              "(<tf.Tensor: shape=(), dtype=float32, numpy=14.835996>,\n",
              " <tf.Tensor: shape=(), dtype=float32, numpy=220.92429>)"
            ]
          },
          "metadata": {},
          "execution_count": 48
        }
      ]
    },
    {
      "cell_type": "markdown",
      "source": [
        "** Build `model_2`**\n",
        "* 2 dense layers rained for 100 epochs"
      ],
      "metadata": {
        "id": "-9vLV9rHtttc"
      }
    },
    {
      "cell_type": "code",
      "source": [
        "tf.random.set_seed(42)\n",
        "\n",
        "model_2 = tf.keras.Sequential([\n",
        "    tf.keras.layers.Dense(10),\n",
        "    tf.keras.layers.Dense(1)\n",
        "])\n",
        "\n",
        "model_2.compile(loss=tf.keras.losses.mae,\n",
        "                optimizer=tf.keras.optimizers.SGD(),\n",
        "                metrics=[\"mse\"])\n",
        "\n",
        "model_2.fit(tf.expand_dims(X_train, axis=-1), y_train,  epochs=100)"
      ],
      "metadata": {
        "id": "UYXQJ8pQtE0U",
        "colab": {
          "base_uri": "https://localhost:8080/"
        },
        "outputId": "b807d4f9-fc9e-46c6-cbc6-1cbe8d68c727"
      },
      "execution_count": 49,
      "outputs": [
        {
          "output_type": "stream",
          "name": "stdout",
          "text": [
            "Epoch 1/100\n",
            "2/2 [==============================] - 1s 9ms/step - loss: 29.9779 - mse: 1601.9662\n",
            "Epoch 2/100\n",
            "2/2 [==============================] - 0s 11ms/step - loss: 26.8463 - mse: 1051.9172\n",
            "Epoch 3/100\n",
            "2/2 [==============================] - 0s 13ms/step - loss: 30.2610 - mse: 1361.9867\n",
            "Epoch 4/100\n",
            "2/2 [==============================] - 0s 18ms/step - loss: 16.0399 - mse: 397.4397\n",
            "Epoch 5/100\n",
            "2/2 [==============================] - 0s 5ms/step - loss: 21.7347 - mse: 688.6910\n",
            "Epoch 6/100\n",
            "2/2 [==============================] - 0s 12ms/step - loss: 11.8581 - mse: 164.9489\n",
            "Epoch 7/100\n",
            "2/2 [==============================] - 0s 9ms/step - loss: 12.9915 - mse: 234.0023\n",
            "Epoch 8/100\n",
            "2/2 [==============================] - 0s 8ms/step - loss: 11.2048 - mse: 163.5003\n",
            "Epoch 9/100\n",
            "2/2 [==============================] - 0s 15ms/step - loss: 41.3474 - mse: 2709.5544\n",
            "Epoch 10/100\n",
            "2/2 [==============================] - 0s 13ms/step - loss: 28.6299 - mse: 1156.9314\n",
            "Epoch 11/100\n",
            "2/2 [==============================] - 0s 14ms/step - loss: 9.4084 - mse: 118.7419\n",
            "Epoch 12/100\n",
            "2/2 [==============================] - 0s 13ms/step - loss: 26.3691 - mse: 962.2875\n",
            "Epoch 13/100\n",
            "2/2 [==============================] - 0s 4ms/step - loss: 14.4899 - mse: 281.3724\n",
            "Epoch 14/100\n",
            "2/2 [==============================] - 0s 11ms/step - loss: 29.9694 - mse: 1435.7200\n",
            "Epoch 15/100\n",
            "2/2 [==============================] - 0s 9ms/step - loss: 19.8020 - mse: 548.9420\n",
            "Epoch 16/100\n",
            "2/2 [==============================] - 0s 5ms/step - loss: 9.8669 - mse: 126.1837\n",
            "Epoch 17/100\n",
            "2/2 [==============================] - 0s 7ms/step - loss: 17.7093 - mse: 414.3769\n",
            "Epoch 18/100\n",
            "2/2 [==============================] - 0s 6ms/step - loss: 14.1813 - mse: 317.3931\n",
            "Epoch 19/100\n",
            "2/2 [==============================] - 0s 9ms/step - loss: 14.0235 - mse: 306.8495\n",
            "Epoch 20/100\n",
            "2/2 [==============================] - 0s 4ms/step - loss: 11.2415 - mse: 146.8211\n",
            "Epoch 21/100\n",
            "2/2 [==============================] - 0s 14ms/step - loss: 17.3480 - mse: 426.7514\n",
            "Epoch 22/100\n",
            "2/2 [==============================] - 0s 5ms/step - loss: 15.5852 - mse: 334.8710\n",
            "Epoch 23/100\n",
            "2/2 [==============================] - 0s 7ms/step - loss: 9.2397 - mse: 118.7950\n",
            "Epoch 24/100\n",
            "2/2 [==============================] - 0s 7ms/step - loss: 17.2411 - mse: 407.0319\n",
            "Epoch 25/100\n",
            "2/2 [==============================] - 0s 13ms/step - loss: 15.9236 - mse: 332.9706\n",
            "Epoch 26/100\n",
            "2/2 [==============================] - 0s 13ms/step - loss: 20.8901 - mse: 647.3976\n",
            "Epoch 27/100\n",
            "2/2 [==============================] - 0s 8ms/step - loss: 26.0548 - mse: 1060.0994\n",
            "Epoch 28/100\n",
            "2/2 [==============================] - 0s 10ms/step - loss: 18.5414 - mse: 544.3196\n",
            "Epoch 29/100\n",
            "2/2 [==============================] - 0s 11ms/step - loss: 9.2498 - mse: 97.3702\n",
            "Epoch 30/100\n",
            "2/2 [==============================] - 0s 7ms/step - loss: 29.1593 - mse: 1521.3566\n",
            "Epoch 31/100\n",
            "2/2 [==============================] - 0s 12ms/step - loss: 52.8220 - mse: 4990.5708\n",
            "Epoch 32/100\n",
            "2/2 [==============================] - 0s 9ms/step - loss: 11.9606 - mse: 209.0646\n",
            "Epoch 33/100\n",
            "2/2 [==============================] - 0s 6ms/step - loss: 15.5710 - mse: 334.2459\n",
            "Epoch 34/100\n",
            "2/2 [==============================] - 0s 6ms/step - loss: 12.6511 - mse: 211.9220\n",
            "Epoch 35/100\n",
            "2/2 [==============================] - 0s 6ms/step - loss: 9.2242 - mse: 92.3340\n",
            "Epoch 36/100\n",
            "2/2 [==============================] - 0s 19ms/step - loss: 16.5668 - mse: 399.1797\n",
            "Epoch 37/100\n",
            "2/2 [==============================] - 0s 18ms/step - loss: 11.0652 - mse: 192.3965\n",
            "Epoch 38/100\n",
            "2/2 [==============================] - 0s 18ms/step - loss: 18.1920 - mse: 435.5462\n",
            "Epoch 39/100\n",
            "2/2 [==============================] - 0s 7ms/step - loss: 19.1271 - mse: 531.9197\n",
            "Epoch 40/100\n",
            "2/2 [==============================] - 0s 11ms/step - loss: 20.4771 - mse: 612.5875\n",
            "Epoch 41/100\n",
            "2/2 [==============================] - 0s 10ms/step - loss: 14.8621 - mse: 276.9400\n",
            "Epoch 42/100\n",
            "2/2 [==============================] - 0s 9ms/step - loss: 12.2456 - mse: 184.3188\n",
            "Epoch 43/100\n",
            "2/2 [==============================] - 0s 9ms/step - loss: 10.7167 - mse: 165.0346\n",
            "Epoch 44/100\n",
            "2/2 [==============================] - 0s 11ms/step - loss: 22.9072 - mse: 821.3496\n",
            "Epoch 45/100\n",
            "2/2 [==============================] - 0s 7ms/step - loss: 10.3610 - mse: 128.7906\n",
            "Epoch 46/100\n",
            "2/2 [==============================] - 0s 8ms/step - loss: 11.7446 - mse: 179.1779\n",
            "Epoch 47/100\n",
            "2/2 [==============================] - 0s 14ms/step - loss: 9.6686 - mse: 153.7236\n",
            "Epoch 48/100\n",
            "2/2 [==============================] - 0s 8ms/step - loss: 17.2823 - mse: 405.1818\n",
            "Epoch 49/100\n",
            "2/2 [==============================] - 0s 5ms/step - loss: 9.5474 - mse: 99.2657\n",
            "Epoch 50/100\n",
            "2/2 [==============================] - 0s 7ms/step - loss: 13.7684 - mse: 257.3047\n",
            "Epoch 51/100\n",
            "2/2 [==============================] - 0s 5ms/step - loss: 11.5803 - mse: 154.0021\n",
            "Epoch 52/100\n",
            "2/2 [==============================] - 0s 11ms/step - loss: 30.4086 - mse: 1596.4307\n",
            "Epoch 53/100\n",
            "2/2 [==============================] - 0s 16ms/step - loss: 14.2931 - mse: 299.5878\n",
            "Epoch 54/100\n",
            "2/2 [==============================] - 0s 8ms/step - loss: 23.6344 - mse: 841.4067\n",
            "Epoch 55/100\n",
            "2/2 [==============================] - 0s 6ms/step - loss: 24.5633 - mse: 910.9635\n",
            "Epoch 56/100\n",
            "2/2 [==============================] - 0s 5ms/step - loss: 11.3301 - mse: 171.6905\n",
            "Epoch 57/100\n",
            "2/2 [==============================] - 0s 9ms/step - loss: 13.3466 - mse: 224.6905\n",
            "Epoch 58/100\n",
            "2/2 [==============================] - 0s 11ms/step - loss: 9.9402 - mse: 109.2957\n",
            "Epoch 59/100\n",
            "2/2 [==============================] - 0s 13ms/step - loss: 13.9008 - mse: 274.9339\n",
            "Epoch 60/100\n",
            "2/2 [==============================] - 0s 10ms/step - loss: 9.9837 - mse: 118.7101\n",
            "Epoch 61/100\n",
            "2/2 [==============================] - 0s 56ms/step - loss: 14.9593 - mse: 307.5687\n",
            "Epoch 62/100\n",
            "2/2 [==============================] - 0s 12ms/step - loss: 11.9171 - mse: 196.1759\n",
            "Epoch 63/100\n",
            "2/2 [==============================] - 0s 5ms/step - loss: 10.2818 - mse: 134.6373\n",
            "Epoch 64/100\n",
            "2/2 [==============================] - 0s 7ms/step - loss: 23.8737 - mse: 837.5966\n",
            "Epoch 65/100\n",
            "2/2 [==============================] - 0s 9ms/step - loss: 10.4587 - mse: 130.0123\n",
            "Epoch 66/100\n",
            "2/2 [==============================] - 0s 9ms/step - loss: 20.9232 - mse: 643.8190\n",
            "Epoch 67/100\n",
            "2/2 [==============================] - 0s 5ms/step - loss: 10.4371 - mse: 126.1806\n",
            "Epoch 68/100\n",
            "2/2 [==============================] - 0s 6ms/step - loss: 14.1711 - mse: 302.3541\n",
            "Epoch 69/100\n",
            "2/2 [==============================] - 0s 7ms/step - loss: 10.5090 - mse: 125.8746\n",
            "Epoch 70/100\n",
            "2/2 [==============================] - 0s 7ms/step - loss: 12.5804 - mse: 200.7738\n",
            "Epoch 71/100\n",
            "2/2 [==============================] - 0s 6ms/step - loss: 13.0114 - mse: 225.9324\n",
            "Epoch 72/100\n",
            "2/2 [==============================] - 0s 15ms/step - loss: 19.3603 - mse: 531.8549\n",
            "Epoch 73/100\n",
            "2/2 [==============================] - 0s 8ms/step - loss: 11.1269 - mse: 193.1918\n",
            "Epoch 74/100\n",
            "2/2 [==============================] - 0s 8ms/step - loss: 21.6017 - mse: 725.5642\n",
            "Epoch 75/100\n",
            "2/2 [==============================] - 0s 5ms/step - loss: 7.2262 - mse: 71.5641\n",
            "Epoch 76/100\n",
            "2/2 [==============================] - 0s 9ms/step - loss: 9.4567 - mse: 149.0271\n",
            "Epoch 77/100\n",
            "2/2 [==============================] - 0s 10ms/step - loss: 22.1709 - mse: 733.6630\n",
            "Epoch 78/100\n",
            "2/2 [==============================] - 0s 8ms/step - loss: 17.4635 - mse: 463.6370\n",
            "Epoch 79/100\n",
            "2/2 [==============================] - 0s 28ms/step - loss: 14.7041 - mse: 316.3325\n",
            "Epoch 80/100\n",
            "2/2 [==============================] - 0s 7ms/step - loss: 24.7154 - mse: 934.5450\n",
            "Epoch 81/100\n",
            "2/2 [==============================] - 0s 4ms/step - loss: 11.5528 - mse: 165.2260\n",
            "Epoch 82/100\n",
            "2/2 [==============================] - 0s 5ms/step - loss: 12.3921 - mse: 226.0271\n",
            "Epoch 83/100\n",
            "2/2 [==============================] - 0s 10ms/step - loss: 17.0433 - mse: 377.7637\n",
            "Epoch 84/100\n",
            "2/2 [==============================] - 0s 5ms/step - loss: 7.2477 - mse: 75.3842\n",
            "Epoch 85/100\n",
            "2/2 [==============================] - 0s 9ms/step - loss: 37.3939 - mse: 2251.7554\n",
            "Epoch 86/100\n",
            "2/2 [==============================] - 0s 9ms/step - loss: 21.3548 - mse: 654.9385\n",
            "Epoch 87/100\n",
            "2/2 [==============================] - 0s 9ms/step - loss: 11.0709 - mse: 148.6503\n",
            "Epoch 88/100\n",
            "2/2 [==============================] - 0s 12ms/step - loss: 25.2314 - mse: 906.2201\n",
            "Epoch 89/100\n",
            "2/2 [==============================] - 0s 4ms/step - loss: 9.3975 - mse: 136.1066\n",
            "Epoch 90/100\n",
            "2/2 [==============================] - 0s 12ms/step - loss: 17.4868 - mse: 438.8499\n",
            "Epoch 91/100\n",
            "2/2 [==============================] - 0s 10ms/step - loss: 10.8473 - mse: 160.6001\n",
            "Epoch 92/100\n",
            "2/2 [==============================] - 0s 11ms/step - loss: 19.1778 - mse: 507.2180\n",
            "Epoch 93/100\n",
            "2/2 [==============================] - 0s 12ms/step - loss: 8.3560 - mse: 102.1936\n",
            "Epoch 94/100\n",
            "2/2 [==============================] - 0s 6ms/step - loss: 11.6017 - mse: 180.8300\n",
            "Epoch 95/100\n",
            "2/2 [==============================] - 0s 8ms/step - loss: 26.2282 - mse: 1044.8275\n",
            "Epoch 96/100\n",
            "2/2 [==============================] - 0s 6ms/step - loss: 11.2312 - mse: 170.0092\n",
            "Epoch 97/100\n",
            "2/2 [==============================] - 0s 9ms/step - loss: 16.8666 - mse: 434.3368\n",
            "Epoch 98/100\n",
            "2/2 [==============================] - 0s 6ms/step - loss: 6.6016 - mse: 60.7475\n",
            "Epoch 99/100\n",
            "2/2 [==============================] - 0s 8ms/step - loss: 12.5936 - mse: 229.5925\n",
            "Epoch 100/100\n",
            "2/2 [==============================] - 0s 7ms/step - loss: 19.3880 - mse: 552.0081\n"
          ]
        },
        {
          "output_type": "execute_result",
          "data": {
            "text/plain": [
              "<keras.src.callbacks.History at 0x79ee854a15d0>"
            ]
          },
          "metadata": {},
          "execution_count": 49
        }
      ]
    },
    {
      "cell_type": "code",
      "source": [
        "# Make plot prediction\n",
        "y_preds_2 = model_2.predict(X_test)\n",
        "plot_predictions(predictions=y_preds_2)"
      ],
      "metadata": {
        "colab": {
          "base_uri": "https://localhost:8080/",
          "height": 654
        },
        "id": "eZROt0Q0c_Ud",
        "outputId": "5a7b098c-9410-4c0b-853a-04329a818a90"
      },
      "execution_count": 50,
      "outputs": [
        {
          "output_type": "stream",
          "name": "stderr",
          "text": [
            "WARNING:tensorflow:6 out of the last 6 calls to <function Model.make_predict_function.<locals>.predict_function at 0x79ee85446ef0> triggered tf.function retracing. Tracing is expensive and the excessive number of tracings could be due to (1) creating @tf.function repeatedly in a loop, (2) passing tensors with different shapes, (3) passing Python objects instead of tensors. For (1), please define your @tf.function outside of the loop. For (2), @tf.function has reduce_retracing=True option that can avoid unnecessary retracing. For (3), please refer to https://www.tensorflow.org/guide/function#controlling_retracing and https://www.tensorflow.org/api_docs/python/tf/function for  more details.\n"
          ]
        },
        {
          "output_type": "stream",
          "name": "stdout",
          "text": [
            "1/1 [==============================] - 0s 252ms/step\n"
          ]
        },
        {
          "output_type": "display_data",
          "data": {
            "text/plain": [
              "<Figure size 1000x700 with 1 Axes>"
            ],
            "image/png": "[encoded data removed]"
          },
          "metadata": {}
        }
      ]
    },
    {
      "cell_type": "code",
      "source": [
        "# Calculate evaluation  metrics of  model_2\n",
        "mae_2 = mae(y_test, y_preds_2)\n",
        "mse_2 = mse(y_test, y_preds_2)\n",
        "mae_2, mse_2"
      ],
      "metadata": {
        "colab": {
          "base_uri": "https://localhost:8080/"
        },
        "id": "nXvKlJnadLR5",
        "outputId": "86e0b533-7e64-4a33-cfbd-eba1b07874ad"
      },
      "execution_count": 51,
      "outputs": [
        {
          "output_type": "execute_result",
          "data": {
            "text/plain": [
              "(<tf.Tensor: shape=(), dtype=float32, numpy=13.35375>,\n",
              " <tf.Tensor: shape=(), dtype=float32, numpy=188.4518>)"
            ]
          },
          "metadata": {},
          "execution_count": 51
        }
      ]
    },
    {
      "cell_type": "markdown",
      "source": [
        "**Build `model_3**\n",
        "* 2 layers, trained for 500 epochs"
      ],
      "metadata": {
        "id": "dvECw9IEdkkA"
      }
    },
    {
      "cell_type": "code",
      "source": [
        "tf.random.set_seed(42)\n",
        "\n",
        "# 1. Create a model\n",
        "\n",
        "model_3 = tf.keras.Sequential([\n",
        "    tf.keras.layers.Dense(10),\n",
        "    tf.keras.layers.Dense(1)\n",
        "])\n",
        "\n",
        "model_3.compile(loss=tf.keras.losses.mae,\n",
        "                optimizer=tf.keras.optimizers.SGD(),\n",
        "                metrics=[\"mae\"])\n",
        "\n",
        "model_3.fit(tf.expand_dims(X_train, axis=-1), y_train,  epochs=500)"
      ],
      "metadata": {
        "colab": {
          "base_uri": "https://localhost:8080/"
        },
        "id": "YemhqtW5diE6",
        "outputId": "18903f31-d974-4b68-fd46-f2ac0ce2ecec"
      },
      "execution_count": 52,
      "outputs": [
        {
          "output_type": "stream",
          "name": "stdout",
          "text": [
            "Epoch 1/500\n",
            "2/2 [==============================] - 0s 11ms/step - loss: 20.2771 - mae: 20.2771\n",
            "Epoch 2/500\n",
            "2/2 [==============================] - 0s 5ms/step - loss: 21.7571 - mae: 21.7571\n",
            "Epoch 3/500\n",
            "2/2 [==============================] - 0s 5ms/step - loss: 27.3348 - mae: 27.3348\n",
            "Epoch 4/500\n",
            "2/2 [==============================] - 0s 5ms/step - loss: 13.0192 - mae: 13.0192\n",
            "Epoch 5/500\n",
            "2/2 [==============================] - 0s 5ms/step - loss: 16.5363 - mae: 16.5363\n",
            "Epoch 6/500\n",
            "2/2 [==============================] - 0s 5ms/step - loss: 11.2279 - mae: 11.2279\n",
            "Epoch 7/500\n",
            "2/2 [==============================] - 0s 5ms/step - loss: 12.2580 - mae: 12.2580\n",
            "Epoch 8/500\n",
            "2/2 [==============================] - 0s 4ms/step - loss: 10.9325 - mae: 10.9325\n",
            "Epoch 9/500\n",
            "2/2 [==============================] - 0s 5ms/step - loss: 38.4477 - mae: 38.4477\n",
            "Epoch 10/500\n",
            "2/2 [==============================] - 0s 4ms/step - loss: 25.9659 - mae: 25.9659\n",
            "Epoch 11/500\n",
            "2/2 [==============================] - 0s 5ms/step - loss: 10.2413 - mae: 10.2413\n",
            "Epoch 12/500\n",
            "2/2 [==============================] - 0s 4ms/step - loss: 25.1634 - mae: 25.1634\n",
            "Epoch 13/500\n",
            "2/2 [==============================] - 0s 11ms/step - loss: 17.6467 - mae: 17.6467\n",
            "Epoch 14/500\n",
            "2/2 [==============================] - 0s 5ms/step - loss: 23.8369 - mae: 23.8369\n",
            "Epoch 15/500\n",
            "2/2 [==============================] - 0s 5ms/step - loss: 15.8569 - mae: 15.8569\n",
            "Epoch 16/500\n",
            "2/2 [==============================] - 0s 4ms/step - loss: 10.4629 - mae: 10.4629\n",
            "Epoch 17/500\n",
            "2/2 [==============================] - 0s 5ms/step - loss: 20.1133 - mae: 20.1133\n",
            "Epoch 18/500\n",
            "2/2 [==============================] - 0s 4ms/step - loss: 10.8508 - mae: 10.8508\n",
            "Epoch 19/500\n",
            "2/2 [==============================] - 0s 5ms/step - loss: 10.7424 - mae: 10.7424\n",
            "Epoch 20/500\n",
            "2/2 [==============================] - 0s 4ms/step - loss: 12.0657 - mae: 12.0657\n",
            "Epoch 21/500\n",
            "2/2 [==============================] - 0s 5ms/step - loss: 20.2553 - mae: 20.2553\n",
            "Epoch 22/500\n",
            "2/2 [==============================] - 0s 5ms/step - loss: 13.8391 - mae: 13.8391\n",
            "Epoch 23/500\n",
            "2/2 [==============================] - 0s 8ms/step - loss: 9.5623 - mae: 9.5623\n",
            "Epoch 24/500\n",
            "2/2 [==============================] - 0s 6ms/step - loss: 11.9225 - mae: 11.9225\n",
            "Epoch 25/500\n",
            "2/2 [==============================] - 0s 4ms/step - loss: 16.3028 - mae: 16.3028\n",
            "Epoch 26/500\n",
            "2/2 [==============================] - 0s 4ms/step - loss: 16.4881 - mae: 16.4881\n",
            "Epoch 27/500\n",
            "2/2 [==============================] - 0s 5ms/step - loss: 11.6048 - mae: 11.6048\n",
            "Epoch 28/500\n",
            "2/2 [==============================] - 0s 6ms/step - loss: 30.1750 - mae: 30.1750\n",
            "Epoch 29/500\n",
            "2/2 [==============================] - 0s 6ms/step - loss: 9.2425 - mae: 9.2425\n",
            "Epoch 30/500\n",
            "2/2 [==============================] - 0s 5ms/step - loss: 30.6891 - mae: 30.6891\n",
            "Epoch 31/500\n",
            "2/2 [==============================] - 0s 5ms/step - loss: 41.9898 - mae: 41.9898\n",
            "Epoch 32/500\n",
            "2/2 [==============================] - 0s 5ms/step - loss: 11.8858 - mae: 11.8858\n",
            "Epoch 33/500\n",
            "2/2 [==============================] - 0s 21ms/step - loss: 15.4875 - mae: 15.4875\n",
            "Epoch 34/500\n",
            "2/2 [==============================] - 0s 10ms/step - loss: 12.5744 - mae: 12.5744\n",
            "Epoch 35/500\n",
            "2/2 [==============================] - 0s 16ms/step - loss: 9.1724 - mae: 9.1724\n",
            "Epoch 36/500\n",
            "2/2 [==============================] - 0s 6ms/step - loss: 16.4923 - mae: 16.4923\n",
            "Epoch 37/500\n",
            "2/2 [==============================] - 0s 5ms/step - loss: 11.0567 - mae: 11.0567\n",
            "Epoch 38/500\n",
            "2/2 [==============================] - 0s 5ms/step - loss: 18.1867 - mae: 18.1867\n",
            "Epoch 39/500\n",
            "2/2 [==============================] - 0s 6ms/step - loss: 19.1185 - mae: 19.1185\n",
            "Epoch 40/500\n",
            "2/2 [==============================] - 0s 5ms/step - loss: 20.4717 - mae: 20.4717\n",
            "Epoch 41/500\n",
            "2/2 [==============================] - 0s 4ms/step - loss: 14.8180 - mae: 14.8180\n",
            "Epoch 42/500\n",
            "2/2 [==============================] - 0s 5ms/step - loss: 12.2090 - mae: 12.2090\n",
            "Epoch 43/500\n",
            "2/2 [==============================] - 0s 5ms/step - loss: 10.6802 - mae: 10.6802\n",
            "Epoch 44/500\n",
            "2/2 [==============================] - 0s 7ms/step - loss: 22.9427 - mae: 22.9427\n",
            "Epoch 45/500\n",
            "2/2 [==============================] - 0s 8ms/step - loss: 10.3346 - mae: 10.3346\n",
            "Epoch 46/500\n",
            "2/2 [==============================] - 0s 5ms/step - loss: 11.7269 - mae: 11.7269\n",
            "Epoch 47/500\n",
            "2/2 [==============================] - 0s 4ms/step - loss: 9.6333 - mae: 9.6333\n",
            "Epoch 48/500\n",
            "2/2 [==============================] - 0s 5ms/step - loss: 17.2368 - mae: 17.2368\n",
            "Epoch 49/500\n",
            "2/2 [==============================] - 0s 10ms/step - loss: 9.5341 - mae: 9.5341\n",
            "Epoch 50/500\n",
            "2/2 [==============================] - 0s 7ms/step - loss: 13.7754 - mae: 13.7754\n",
            "Epoch 51/500\n",
            "2/2 [==============================] - 0s 5ms/step - loss: 11.5612 - mae: 11.5612\n",
            "Epoch 52/500\n",
            "2/2 [==============================] - 0s 19ms/step - loss: 30.5633 - mae: 30.5633\n",
            "Epoch 53/500\n",
            "2/2 [==============================] - 0s 7ms/step - loss: 14.3436 - mae: 14.3436\n",
            "Epoch 54/500\n",
            "2/2 [==============================] - 0s 9ms/step - loss: 23.9756 - mae: 23.9756\n",
            "Epoch 55/500\n",
            "2/2 [==============================] - 0s 8ms/step - loss: 23.1918 - mae: 23.1918\n",
            "Epoch 56/500\n",
            "2/2 [==============================] - 0s 8ms/step - loss: 10.8537 - mae: 10.8537\n",
            "Epoch 57/500\n",
            "2/2 [==============================] - 0s 10ms/step - loss: 12.7209 - mae: 12.7209\n",
            "Epoch 58/500\n",
            "2/2 [==============================] - 0s 8ms/step - loss: 9.5770 - mae: 9.5770\n",
            "Epoch 59/500\n",
            "2/2 [==============================] - 0s 9ms/step - loss: 12.5068 - mae: 12.5068\n",
            "Epoch 60/500\n",
            "2/2 [==============================] - 0s 9ms/step - loss: 12.3140 - mae: 12.3140\n",
            "Epoch 61/500\n",
            "2/2 [==============================] - 0s 7ms/step - loss: 17.4987 - mae: 17.4987\n",
            "Epoch 62/500\n",
            "2/2 [==============================] - 0s 8ms/step - loss: 10.5995 - mae: 10.5995\n",
            "Epoch 63/500\n",
            "2/2 [==============================] - 0s 9ms/step - loss: 10.4766 - mae: 10.4766\n",
            "Epoch 64/500\n",
            "2/2 [==============================] - 0s 6ms/step - loss: 24.9409 - mae: 24.9409\n",
            "Epoch 65/500\n",
            "2/2 [==============================] - 0s 13ms/step - loss: 10.6661 - mae: 10.6661\n",
            "Epoch 66/500\n",
            "2/2 [==============================] - 0s 6ms/step - loss: 22.0611 - mae: 22.0611\n",
            "Epoch 67/500\n",
            "2/2 [==============================] - 0s 7ms/step - loss: 10.1908 - mae: 10.1908\n",
            "Epoch 68/500\n",
            "2/2 [==============================] - 0s 6ms/step - loss: 13.3878 - mae: 13.3878\n",
            "Epoch 69/500\n",
            "2/2 [==============================] - 0s 5ms/step - loss: 11.3577 - mae: 11.3577\n",
            "Epoch 70/500\n",
            "2/2 [==============================] - 0s 5ms/step - loss: 13.5396 - mae: 13.5396\n",
            "Epoch 71/500\n",
            "2/2 [==============================] - 0s 12ms/step - loss: 15.5683 - mae: 15.5683\n",
            "Epoch 72/500\n",
            "2/2 [==============================] - 0s 7ms/step - loss: 11.7933 - mae: 11.7933\n",
            "Epoch 73/500\n",
            "2/2 [==============================] - 0s 5ms/step - loss: 16.5894 - mae: 16.5894\n",
            "Epoch 74/500\n",
            "2/2 [==============================] - 0s 5ms/step - loss: 24.1454 - mae: 24.1454\n",
            "Epoch 75/500\n",
            "2/2 [==============================] - 0s 5ms/step - loss: 9.5898 - mae: 9.5898\n",
            "Epoch 76/500\n",
            "2/2 [==============================] - 0s 17ms/step - loss: 12.4447 - mae: 12.4447\n",
            "Epoch 77/500\n",
            "2/2 [==============================] - 0s 12ms/step - loss: 16.7348 - mae: 16.7348\n",
            "Epoch 78/500\n",
            "2/2 [==============================] - 0s 6ms/step - loss: 9.0443 - mae: 9.0443\n",
            "Epoch 79/500\n",
            "2/2 [==============================] - 0s 6ms/step - loss: 24.1019 - mae: 24.1019\n",
            "Epoch 80/500\n",
            "2/2 [==============================] - 0s 6ms/step - loss: 26.9067 - mae: 26.9067\n",
            "Epoch 81/500\n",
            "2/2 [==============================] - 0s 7ms/step - loss: 11.7182 - mae: 11.7182\n",
            "Epoch 82/500\n",
            "2/2 [==============================] - 0s 6ms/step - loss: 11.9640 - mae: 11.9640\n",
            "Epoch 83/500\n",
            "2/2 [==============================] - 0s 5ms/step - loss: 17.3371 - mae: 17.3371\n",
            "Epoch 84/500\n",
            "2/2 [==============================] - 0s 5ms/step - loss: 6.8065 - mae: 6.8065\n",
            "Epoch 85/500\n",
            "2/2 [==============================] - 0s 6ms/step - loss: 15.9966 - mae: 15.9966\n",
            "Epoch 86/500\n",
            "2/2 [==============================] - 0s 10ms/step - loss: 15.8393 - mae: 15.8393\n",
            "Epoch 87/500\n",
            "2/2 [==============================] - 0s 7ms/step - loss: 20.3002 - mae: 20.3002\n",
            "Epoch 88/500\n",
            "2/2 [==============================] - 0s 6ms/step - loss: 34.1373 - mae: 34.1373\n",
            "Epoch 89/500\n",
            "2/2 [==============================] - 0s 5ms/step - loss: 10.6034 - mae: 10.6034\n",
            "Epoch 90/500\n",
            "2/2 [==============================] - 0s 5ms/step - loss: 23.6104 - mae: 23.6104\n",
            "Epoch 91/500\n",
            "2/2 [==============================] - 0s 5ms/step - loss: 11.1177 - mae: 11.1177\n",
            "Epoch 92/500\n",
            "2/2 [==============================] - 0s 6ms/step - loss: 20.4782 - mae: 20.4782\n",
            "Epoch 93/500\n",
            "2/2 [==============================] - 0s 5ms/step - loss: 6.7736 - mae: 6.7736\n",
            "Epoch 94/500\n",
            "2/2 [==============================] - 0s 5ms/step - loss: 13.0046 - mae: 13.0046\n",
            "Epoch 95/500\n",
            "2/2 [==============================] - 0s 5ms/step - loss: 18.4488 - mae: 18.4488\n",
            "Epoch 96/500\n",
            "2/2 [==============================] - 0s 5ms/step - loss: 10.3270 - mae: 10.3270\n",
            "Epoch 97/500\n",
            "2/2 [==============================] - 0s 7ms/step - loss: 14.4580 - mae: 14.4580\n",
            "Epoch 98/500\n",
            "2/2 [==============================] - 0s 5ms/step - loss: 6.5349 - mae: 6.5349\n",
            "Epoch 99/500\n",
            "2/2 [==============================] - 0s 5ms/step - loss: 12.5549 - mae: 12.5549\n",
            "Epoch 100/500\n",
            "2/2 [==============================] - 0s 5ms/step - loss: 19.3522 - mae: 19.3522\n",
            "Epoch 101/500\n",
            "2/2 [==============================] - 0s 4ms/step - loss: 16.1358 - mae: 16.1358\n",
            "Epoch 102/500\n",
            "2/2 [==============================] - 0s 4ms/step - loss: 11.1913 - mae: 11.1913\n",
            "Epoch 103/500\n",
            "2/2 [==============================] - 0s 4ms/step - loss: 9.2977 - mae: 9.2977\n",
            "Epoch 104/500\n",
            "2/2 [==============================] - 0s 4ms/step - loss: 25.1234 - mae: 25.1234\n",
            "Epoch 105/500\n",
            "2/2 [==============================] - 0s 5ms/step - loss: 12.3673 - mae: 12.3673\n",
            "Epoch 106/500\n",
            "2/2 [==============================] - 0s 4ms/step - loss: 9.3413 - mae: 9.3413\n",
            "Epoch 107/500\n",
            "2/2 [==============================] - 0s 7ms/step - loss: 23.1828 - mae: 23.1828\n",
            "Epoch 108/500\n",
            "2/2 [==============================] - 0s 6ms/step - loss: 8.2242 - mae: 8.2242\n",
            "Epoch 109/500\n",
            "2/2 [==============================] - 0s 8ms/step - loss: 13.9998 - mae: 13.9998\n",
            "Epoch 110/500\n",
            "2/2 [==============================] - 0s 12ms/step - loss: 10.6061 - mae: 10.6061\n",
            "Epoch 111/500\n",
            "2/2 [==============================] - 0s 6ms/step - loss: 16.9189 - mae: 16.9189\n",
            "Epoch 112/500\n",
            "2/2 [==============================] - 0s 6ms/step - loss: 8.2267 - mae: 8.2267\n",
            "Epoch 113/500\n",
            "2/2 [==============================] - 0s 6ms/step - loss: 19.7179 - mae: 19.7179\n",
            "Epoch 114/500\n",
            "2/2 [==============================] - 0s 5ms/step - loss: 17.4078 - mae: 17.4078\n",
            "Epoch 115/500\n",
            "2/2 [==============================] - 0s 8ms/step - loss: 11.1921 - mae: 11.1921\n",
            "Epoch 116/500\n",
            "2/2 [==============================] - 0s 13ms/step - loss: 23.6148 - mae: 23.6148\n",
            "Epoch 117/500\n",
            "2/2 [==============================] - 0s 7ms/step - loss: 9.7045 - mae: 9.7045\n",
            "Epoch 118/500\n",
            "2/2 [==============================] - 0s 7ms/step - loss: 10.7970 - mae: 10.7970\n",
            "Epoch 119/500\n",
            "2/2 [==============================] - 0s 6ms/step - loss: 8.0452 - mae: 8.0452\n",
            "Epoch 120/500\n",
            "2/2 [==============================] - 0s 6ms/step - loss: 30.0698 - mae: 30.0698\n",
            "Epoch 121/500\n",
            "2/2 [==============================] - 0s 5ms/step - loss: 8.0780 - mae: 8.0780\n",
            "Epoch 122/500\n",
            "2/2 [==============================] - 0s 9ms/step - loss: 28.6250 - mae: 28.6250\n",
            "Epoch 123/500\n",
            "2/2 [==============================] - 0s 8ms/step - loss: 33.2925 - mae: 33.2925\n",
            "Epoch 124/500\n",
            "2/2 [==============================] - 0s 8ms/step - loss: 19.9217 - mae: 19.9217\n",
            "Epoch 125/500\n",
            "2/2 [==============================] - 0s 8ms/step - loss: 7.6527 - mae: 7.6527\n",
            "Epoch 126/500\n",
            "2/2 [==============================] - 0s 8ms/step - loss: 17.1856 - mae: 17.1856\n",
            "Epoch 127/500\n",
            "2/2 [==============================] - 0s 6ms/step - loss: 7.4953 - mae: 7.4953\n",
            "Epoch 128/500\n",
            "2/2 [==============================] - 0s 13ms/step - loss: 18.1879 - mae: 18.1879\n",
            "Epoch 129/500\n",
            "2/2 [==============================] - 0s 8ms/step - loss: 8.7660 - mae: 8.7660\n",
            "Epoch 130/500\n",
            "2/2 [==============================] - 0s 6ms/step - loss: 22.7918 - mae: 22.7918\n",
            "Epoch 131/500\n",
            "2/2 [==============================] - 0s 7ms/step - loss: 9.4297 - mae: 9.4297\n",
            "Epoch 132/500\n",
            "2/2 [==============================] - 0s 6ms/step - loss: 17.2224 - mae: 17.2224\n",
            "Epoch 133/500\n",
            "2/2 [==============================] - 0s 6ms/step - loss: 7.7510 - mae: 7.7510\n",
            "Epoch 134/500\n",
            "2/2 [==============================] - 0s 6ms/step - loss: 19.6057 - mae: 19.6057\n",
            "Epoch 135/500\n",
            "2/2 [==============================] - 0s 6ms/step - loss: 10.8821 - mae: 10.8821\n",
            "Epoch 136/500\n",
            "2/2 [==============================] - 0s 5ms/step - loss: 19.3944 - mae: 19.3944\n",
            "Epoch 137/500\n",
            "2/2 [==============================] - 0s 6ms/step - loss: 22.6032 - mae: 22.6032\n",
            "Epoch 138/500\n",
            "2/2 [==============================] - 0s 4ms/step - loss: 8.9108 - mae: 8.9108\n",
            "Epoch 139/500\n",
            "2/2 [==============================] - 0s 6ms/step - loss: 7.0918 - mae: 7.0918\n",
            "Epoch 140/500\n",
            "2/2 [==============================] - 0s 6ms/step - loss: 21.3129 - mae: 21.3129\n",
            "Epoch 141/500\n",
            "2/2 [==============================] - 0s 10ms/step - loss: 8.4293 - mae: 8.4293\n",
            "Epoch 142/500\n",
            "2/2 [==============================] - 0s 10ms/step - loss: 37.5155 - mae: 37.5155\n",
            "Epoch 143/500\n",
            "2/2 [==============================] - 0s 6ms/step - loss: 26.0355 - mae: 26.0355\n",
            "Epoch 144/500\n",
            "2/2 [==============================] - 0s 9ms/step - loss: 9.5163 - mae: 9.5163\n",
            "Epoch 145/500\n",
            "2/2 [==============================] - 0s 7ms/step - loss: 26.4771 - mae: 26.4771\n",
            "Epoch 146/500\n",
            "2/2 [==============================] - 0s 6ms/step - loss: 8.9077 - mae: 8.9077\n",
            "Epoch 147/500\n",
            "2/2 [==============================] - 0s 6ms/step - loss: 15.5009 - mae: 15.5009\n",
            "Epoch 148/500\n",
            "2/2 [==============================] - 0s 8ms/step - loss: 18.1482 - mae: 18.1482\n",
            "Epoch 149/500\n",
            "2/2 [==============================] - 0s 11ms/step - loss: 8.3267 - mae: 8.3267\n",
            "Epoch 150/500\n",
            "2/2 [==============================] - 0s 3ms/step - loss: 7.5396 - mae: 7.5396\n",
            "Epoch 151/500\n",
            "2/2 [==============================] - 0s 5ms/step - loss: 18.6796 - mae: 18.6796\n",
            "Epoch 152/500\n",
            "2/2 [==============================] - 0s 9ms/step - loss: 10.3714 - mae: 10.3714\n",
            "Epoch 153/500\n",
            "2/2 [==============================] - 0s 12ms/step - loss: 30.1748 - mae: 30.1748\n",
            "Epoch 154/500\n",
            "2/2 [==============================] - 0s 9ms/step - loss: 10.4507 - mae: 10.4507\n",
            "Epoch 155/500\n",
            "2/2 [==============================] - 0s 7ms/step - loss: 15.3575 - mae: 15.3575\n",
            "Epoch 156/500\n",
            "2/2 [==============================] - 0s 6ms/step - loss: 16.8044 - mae: 16.8044\n",
            "Epoch 157/500\n",
            "2/2 [==============================] - 0s 7ms/step - loss: 33.3811 - mae: 33.3811\n",
            "Epoch 158/500\n",
            "2/2 [==============================] - 0s 7ms/step - loss: 10.8636 - mae: 10.8636\n",
            "Epoch 159/500\n",
            "2/2 [==============================] - 0s 10ms/step - loss: 8.9758 - mae: 8.9758\n",
            "Epoch 160/500\n",
            "2/2 [==============================] - 0s 5ms/step - loss: 19.1554 - mae: 19.1554\n",
            "Epoch 161/500\n",
            "2/2 [==============================] - 0s 8ms/step - loss: 10.1569 - mae: 10.1569\n",
            "Epoch 162/500\n",
            "2/2 [==============================] - 0s 13ms/step - loss: 23.5322 - mae: 23.5322\n",
            "Epoch 163/500\n",
            "2/2 [==============================] - 0s 7ms/step - loss: 21.1117 - mae: 21.1117\n",
            "Epoch 164/500\n",
            "2/2 [==============================] - 0s 6ms/step - loss: 13.1065 - mae: 13.1065\n",
            "Epoch 165/500\n",
            "2/2 [==============================] - 0s 5ms/step - loss: 12.5893 - mae: 12.5893\n",
            "Epoch 166/500\n",
            "2/2 [==============================] - 0s 12ms/step - loss: 18.6275 - mae: 18.6275\n",
            "Epoch 167/500\n",
            "2/2 [==============================] - 0s 6ms/step - loss: 16.1520 - mae: 16.1520\n",
            "Epoch 168/500\n",
            "2/2 [==============================] - 0s 7ms/step - loss: 9.4282 - mae: 9.4282\n",
            "Epoch 169/500\n",
            "2/2 [==============================] - 0s 8ms/step - loss: 20.5366 - mae: 20.5366\n",
            "Epoch 170/500\n",
            "2/2 [==============================] - 0s 8ms/step - loss: 10.1582 - mae: 10.1582\n",
            "Epoch 171/500\n",
            "2/2 [==============================] - 0s 8ms/step - loss: 18.1003 - mae: 18.1003\n",
            "Epoch 172/500\n",
            "2/2 [==============================] - 0s 9ms/step - loss: 28.7081 - mae: 28.7081\n",
            "Epoch 173/500\n",
            "2/2 [==============================] - 0s 4ms/step - loss: 16.4170 - mae: 16.4170\n",
            "Epoch 174/500\n",
            "2/2 [==============================] - 0s 5ms/step - loss: 11.7174 - mae: 11.7174\n",
            "Epoch 175/500\n",
            "2/2 [==============================] - 0s 4ms/step - loss: 27.1675 - mae: 27.1675\n",
            "Epoch 176/500\n",
            "2/2 [==============================] - 0s 3ms/step - loss: 8.7210 - mae: 8.7210\n",
            "Epoch 177/500\n",
            "2/2 [==============================] - 0s 5ms/step - loss: 8.7381 - mae: 8.7381\n",
            "Epoch 178/500\n",
            "2/2 [==============================] - 0s 6ms/step - loss: 16.2223 - mae: 16.2223\n",
            "Epoch 179/500\n",
            "2/2 [==============================] - 0s 6ms/step - loss: 10.3765 - mae: 10.3765\n",
            "Epoch 180/500\n",
            "2/2 [==============================] - 0s 4ms/step - loss: 7.9622 - mae: 7.9622\n",
            "Epoch 181/500\n",
            "2/2 [==============================] - 0s 4ms/step - loss: 17.8181 - mae: 17.8181\n",
            "Epoch 182/500\n",
            "2/2 [==============================] - 0s 8ms/step - loss: 11.1777 - mae: 11.1777\n",
            "Epoch 183/500\n",
            "2/2 [==============================] - 0s 12ms/step - loss: 12.4244 - mae: 12.4244\n",
            "Epoch 184/500\n",
            "2/2 [==============================] - 0s 8ms/step - loss: 27.4894 - mae: 27.4894\n",
            "Epoch 185/500\n",
            "2/2 [==============================] - 0s 7ms/step - loss: 7.5153 - mae: 7.5153\n",
            "Epoch 186/500\n",
            "2/2 [==============================] - 0s 7ms/step - loss: 15.8883 - mae: 15.8883\n",
            "Epoch 187/500\n",
            "2/2 [==============================] - 0s 5ms/step - loss: 8.5685 - mae: 8.5685\n",
            "Epoch 188/500\n",
            "2/2 [==============================] - 0s 4ms/step - loss: 29.0451 - mae: 29.0451\n",
            "Epoch 189/500\n",
            "2/2 [==============================] - 0s 8ms/step - loss: 13.0974 - mae: 13.0974\n",
            "Epoch 190/500\n",
            "2/2 [==============================] - 0s 5ms/step - loss: 18.2301 - mae: 18.2301\n",
            "Epoch 191/500\n",
            "2/2 [==============================] - 0s 6ms/step - loss: 13.6435 - mae: 13.6435\n",
            "Epoch 192/500\n",
            "2/2 [==============================] - 0s 11ms/step - loss: 13.6660 - mae: 13.6660\n",
            "Epoch 193/500\n",
            "2/2 [==============================] - 0s 6ms/step - loss: 28.5080 - mae: 28.5080\n",
            "Epoch 194/500\n",
            "2/2 [==============================] - 0s 7ms/step - loss: 7.1391 - mae: 7.1391\n",
            "Epoch 195/500\n",
            "2/2 [==============================] - 0s 6ms/step - loss: 7.0329 - mae: 7.0329\n",
            "Epoch 196/500\n",
            "2/2 [==============================] - 0s 7ms/step - loss: 21.8832 - mae: 21.8832\n",
            "Epoch 197/500\n",
            "2/2 [==============================] - 0s 8ms/step - loss: 21.0965 - mae: 21.0965\n",
            "Epoch 198/500\n",
            "2/2 [==============================] - 0s 7ms/step - loss: 12.6122 - mae: 12.6122\n",
            "Epoch 199/500\n",
            "2/2 [==============================] - 0s 8ms/step - loss: 18.1283 - mae: 18.1283\n",
            "Epoch 200/500\n",
            "2/2 [==============================] - 0s 6ms/step - loss: 13.9507 - mae: 13.9507\n",
            "Epoch 201/500\n",
            "2/2 [==============================] - 0s 6ms/step - loss: 6.0102 - mae: 6.0102\n",
            "Epoch 202/500\n",
            "2/2 [==============================] - 0s 9ms/step - loss: 23.0446 - mae: 23.0446\n",
            "Epoch 203/500\n",
            "2/2 [==============================] - 0s 5ms/step - loss: 8.9630 - mae: 8.9630\n",
            "Epoch 204/500\n",
            "2/2 [==============================] - 0s 4ms/step - loss: 18.9990 - mae: 18.9990\n",
            "Epoch 205/500\n",
            "2/2 [==============================] - 0s 6ms/step - loss: 9.3957 - mae: 9.3957\n",
            "Epoch 206/500\n",
            "2/2 [==============================] - 0s 8ms/step - loss: 11.0412 - mae: 11.0412\n",
            "Epoch 207/500\n",
            "2/2 [==============================] - 0s 5ms/step - loss: 17.5536 - mae: 17.5536\n",
            "Epoch 208/500\n",
            "2/2 [==============================] - 0s 9ms/step - loss: 14.2711 - mae: 14.2711\n",
            "Epoch 209/500\n",
            "2/2 [==============================] - 0s 7ms/step - loss: 16.6056 - mae: 16.6056\n",
            "Epoch 210/500\n",
            "2/2 [==============================] - 0s 6ms/step - loss: 18.0993 - mae: 18.0993\n",
            "Epoch 211/500\n",
            "2/2 [==============================] - 0s 9ms/step - loss: 9.8749 - mae: 9.8749\n",
            "Epoch 212/500\n",
            "2/2 [==============================] - 0s 10ms/step - loss: 18.5831 - mae: 18.5831\n",
            "Epoch 213/500\n",
            "2/2 [==============================] - 0s 7ms/step - loss: 14.9608 - mae: 14.9608\n",
            "Epoch 214/500\n",
            "2/2 [==============================] - 0s 7ms/step - loss: 14.5360 - mae: 14.5360\n",
            "Epoch 215/500\n",
            "2/2 [==============================] - 0s 6ms/step - loss: 23.2056 - mae: 23.2056\n",
            "Epoch 216/500\n",
            "2/2 [==============================] - 0s 16ms/step - loss: 13.5196 - mae: 13.5196\n",
            "Epoch 217/500\n",
            "2/2 [==============================] - 0s 25ms/step - loss: 9.9650 - mae: 9.9650\n",
            "Epoch 218/500\n",
            "2/2 [==============================] - 0s 6ms/step - loss: 12.4305 - mae: 12.4305\n",
            "Epoch 219/500\n",
            "2/2 [==============================] - 0s 6ms/step - loss: 5.8144 - mae: 5.8144\n",
            "Epoch 220/500\n",
            "2/2 [==============================] - 0s 6ms/step - loss: 10.1601 - mae: 10.1601\n",
            "Epoch 221/500\n",
            "2/2 [==============================] - 0s 6ms/step - loss: 28.8470 - mae: 28.8470\n",
            "Epoch 222/500\n",
            "2/2 [==============================] - 0s 6ms/step - loss: 28.0414 - mae: 28.0414\n",
            "Epoch 223/500\n",
            "2/2 [==============================] - 0s 8ms/step - loss: 10.0803 - mae: 10.0803\n",
            "Epoch 224/500\n",
            "2/2 [==============================] - 0s 7ms/step - loss: 14.6163 - mae: 14.6163\n",
            "Epoch 225/500\n",
            "2/2 [==============================] - 0s 5ms/step - loss: 16.6243 - mae: 16.6243\n",
            "Epoch 226/500\n",
            "2/2 [==============================] - 0s 8ms/step - loss: 15.8450 - mae: 15.8450\n",
            "Epoch 227/500\n",
            "2/2 [==============================] - 0s 8ms/step - loss: 16.0670 - mae: 16.0670\n",
            "Epoch 228/500\n",
            "2/2 [==============================] - 0s 7ms/step - loss: 13.8495 - mae: 13.8495\n",
            "Epoch 229/500\n",
            "2/2 [==============================] - 0s 6ms/step - loss: 17.9545 - mae: 17.9545\n",
            "Epoch 230/500\n",
            "2/2 [==============================] - 0s 4ms/step - loss: 15.5408 - mae: 15.5408\n",
            "Epoch 231/500\n",
            "2/2 [==============================] - 0s 4ms/step - loss: 21.0614 - mae: 21.0614\n",
            "Epoch 232/500\n",
            "2/2 [==============================] - 0s 10ms/step - loss: 25.5918 - mae: 25.5918\n",
            "Epoch 233/500\n",
            "2/2 [==============================] - 0s 7ms/step - loss: 16.5633 - mae: 16.5633\n",
            "Epoch 234/500\n",
            "2/2 [==============================] - 0s 6ms/step - loss: 7.3308 - mae: 7.3308\n",
            "Epoch 235/500\n",
            "2/2 [==============================] - 0s 13ms/step - loss: 17.2155 - mae: 17.2155\n",
            "Epoch 236/500\n",
            "2/2 [==============================] - 0s 8ms/step - loss: 7.2064 - mae: 7.2064\n",
            "Epoch 237/500\n",
            "2/2 [==============================] - 0s 8ms/step - loss: 9.3245 - mae: 9.3245\n",
            "Epoch 238/500\n",
            "2/2 [==============================] - 0s 7ms/step - loss: 8.1597 - mae: 8.1597\n",
            "Epoch 239/500\n",
            "2/2 [==============================] - 0s 14ms/step - loss: 17.3084 - mae: 17.3084\n",
            "Epoch 240/500\n",
            "2/2 [==============================] - 0s 16ms/step - loss: 8.9597 - mae: 8.9597\n",
            "Epoch 241/500\n",
            "2/2 [==============================] - 0s 16ms/step - loss: 13.3559 - mae: 13.3559\n",
            "Epoch 242/500\n",
            "2/2 [==============================] - 0s 14ms/step - loss: 8.8598 - mae: 8.8598\n",
            "Epoch 243/500\n",
            "2/2 [==============================] - 0s 7ms/step - loss: 19.2142 - mae: 19.2142\n",
            "Epoch 244/500\n",
            "2/2 [==============================] - 0s 6ms/step - loss: 13.9069 - mae: 13.9069\n",
            "Epoch 245/500\n",
            "2/2 [==============================] - 0s 6ms/step - loss: 14.5544 - mae: 14.5544\n",
            "Epoch 246/500\n",
            "2/2 [==============================] - 0s 8ms/step - loss: 15.6884 - mae: 15.6884\n",
            "Epoch 247/500\n",
            "2/2 [==============================] - 0s 12ms/step - loss: 17.5277 - mae: 17.5277\n",
            "Epoch 248/500\n",
            "2/2 [==============================] - 0s 7ms/step - loss: 13.0933 - mae: 13.0933\n",
            "Epoch 249/500\n",
            "2/2 [==============================] - 0s 7ms/step - loss: 14.4270 - mae: 14.4270\n",
            "Epoch 250/500\n",
            "2/2 [==============================] - 0s 7ms/step - loss: 27.8337 - mae: 27.8337\n",
            "Epoch 251/500\n",
            "2/2 [==============================] - 0s 4ms/step - loss: 7.4897 - mae: 7.4897\n",
            "Epoch 252/500\n",
            "2/2 [==============================] - 0s 7ms/step - loss: 38.1378 - mae: 38.1378\n",
            "Epoch 253/500\n",
            "2/2 [==============================] - 0s 5ms/step - loss: 23.0514 - mae: 23.0514\n",
            "Epoch 254/500\n",
            "2/2 [==============================] - 0s 4ms/step - loss: 7.2717 - mae: 7.2717\n",
            "Epoch 255/500\n",
            "2/2 [==============================] - 0s 13ms/step - loss: 24.5666 - mae: 24.5666\n",
            "Epoch 256/500\n",
            "2/2 [==============================] - 0s 9ms/step - loss: 12.3524 - mae: 12.3524\n",
            "Epoch 257/500\n",
            "2/2 [==============================] - 0s 8ms/step - loss: 10.5306 - mae: 10.5306\n",
            "Epoch 258/500\n",
            "2/2 [==============================] - 0s 10ms/step - loss: 14.1493 - mae: 14.1493\n",
            "Epoch 259/500\n",
            "2/2 [==============================] - 0s 8ms/step - loss: 11.2254 - mae: 11.2254\n",
            "Epoch 260/500\n",
            "2/2 [==============================] - 0s 7ms/step - loss: 31.5487 - mae: 31.5487\n",
            "Epoch 261/500\n",
            "2/2 [==============================] - 0s 8ms/step - loss: 11.1329 - mae: 11.1329\n",
            "Epoch 262/500\n",
            "2/2 [==============================] - 0s 9ms/step - loss: 9.9936 - mae: 9.9936\n",
            "Epoch 263/500\n",
            "2/2 [==============================] - 0s 10ms/step - loss: 8.9176 - mae: 8.9176\n",
            "Epoch 264/500\n",
            "2/2 [==============================] - 0s 6ms/step - loss: 21.4666 - mae: 21.4666\n",
            "Epoch 265/500\n",
            "2/2 [==============================] - 0s 10ms/step - loss: 11.4472 - mae: 11.4472\n",
            "Epoch 266/500\n",
            "2/2 [==============================] - 0s 7ms/step - loss: 13.2817 - mae: 13.2817\n",
            "Epoch 267/500\n",
            "2/2 [==============================] - 0s 4ms/step - loss: 11.0696 - mae: 11.0696\n",
            "Epoch 268/500\n",
            "2/2 [==============================] - 0s 7ms/step - loss: 21.7350 - mae: 21.7350\n",
            "Epoch 269/500\n",
            "2/2 [==============================] - 0s 12ms/step - loss: 32.8624 - mae: 32.8624\n",
            "Epoch 270/500\n",
            "2/2 [==============================] - 0s 8ms/step - loss: 9.7031 - mae: 9.7031\n",
            "Epoch 271/500\n",
            "2/2 [==============================] - 0s 10ms/step - loss: 7.7012 - mae: 7.7012\n",
            "Epoch 272/500\n",
            "2/2 [==============================] - 0s 5ms/step - loss: 28.5160 - mae: 28.5160\n",
            "Epoch 273/500\n",
            "2/2 [==============================] - 0s 13ms/step - loss: 7.3582 - mae: 7.3582\n",
            "Epoch 274/500\n",
            "2/2 [==============================] - 0s 16ms/step - loss: 6.3165 - mae: 6.3165\n",
            "Epoch 275/500\n",
            "2/2 [==============================] - 0s 4ms/step - loss: 37.1209 - mae: 37.1209\n",
            "Epoch 276/500\n",
            "2/2 [==============================] - 0s 9ms/step - loss: 8.2685 - mae: 8.2685\n",
            "Epoch 277/500\n",
            "2/2 [==============================] - 0s 21ms/step - loss: 27.9149 - mae: 27.9149\n",
            "Epoch 278/500\n",
            "2/2 [==============================] - 0s 13ms/step - loss: 10.6144 - mae: 10.6144\n",
            "Epoch 279/500\n",
            "2/2 [==============================] - 0s 16ms/step - loss: 16.0600 - mae: 16.0600\n",
            "Epoch 280/500\n",
            "2/2 [==============================] - 0s 9ms/step - loss: 21.1435 - mae: 21.1435\n",
            "Epoch 281/500\n",
            "2/2 [==============================] - 0s 8ms/step - loss: 24.0229 - mae: 24.0229\n",
            "Epoch 282/500\n",
            "2/2 [==============================] - 0s 6ms/step - loss: 8.2898 - mae: 8.2898\n",
            "Epoch 283/500\n",
            "2/2 [==============================] - 0s 20ms/step - loss: 9.0346 - mae: 9.0346\n",
            "Epoch 284/500\n",
            "2/2 [==============================] - 0s 8ms/step - loss: 22.9703 - mae: 22.9703\n",
            "Epoch 285/500\n",
            "2/2 [==============================] - 0s 9ms/step - loss: 11.8150 - mae: 11.8150\n",
            "Epoch 286/500\n",
            "2/2 [==============================] - 0s 9ms/step - loss: 6.7243 - mae: 6.7243\n",
            "Epoch 287/500\n",
            "2/2 [==============================] - 0s 13ms/step - loss: 20.9402 - mae: 20.9402\n",
            "Epoch 288/500\n",
            "2/2 [==============================] - 0s 7ms/step - loss: 11.1938 - mae: 11.1938\n",
            "Epoch 289/500\n",
            "2/2 [==============================] - 0s 3ms/step - loss: 12.4150 - mae: 12.4150\n",
            "Epoch 290/500\n",
            "2/2 [==============================] - 0s 4ms/step - loss: 16.9504 - mae: 16.9504\n",
            "Epoch 291/500\n",
            "2/2 [==============================] - 0s 4ms/step - loss: 17.3467 - mae: 17.3467\n",
            "Epoch 292/500\n",
            "2/2 [==============================] - 0s 10ms/step - loss: 11.4442 - mae: 11.4442\n",
            "Epoch 293/500\n",
            "2/2 [==============================] - 0s 419ms/step - loss: 14.2637 - mae: 14.2637\n",
            "Epoch 294/500\n",
            "2/2 [==============================] - 0s 5ms/step - loss: 21.1870 - mae: 21.1870\n",
            "Epoch 295/500\n",
            "2/2 [==============================] - 0s 4ms/step - loss: 15.7659 - mae: 15.7659\n",
            "Epoch 296/500\n",
            "2/2 [==============================] - 0s 4ms/step - loss: 5.8640 - mae: 5.8640\n",
            "Epoch 297/500\n",
            "2/2 [==============================] - 0s 8ms/step - loss: 11.8079 - mae: 11.8079\n",
            "Epoch 298/500\n",
            "2/2 [==============================] - 0s 4ms/step - loss: 23.6390 - mae: 23.6390\n",
            "Epoch 299/500\n",
            "2/2 [==============================] - 0s 5ms/step - loss: 16.6600 - mae: 16.6600\n",
            "Epoch 300/500\n",
            "2/2 [==============================] - 0s 4ms/step - loss: 6.7576 - mae: 6.7576\n",
            "Epoch 301/500\n",
            "2/2 [==============================] - 0s 4ms/step - loss: 23.9053 - mae: 23.9053\n",
            "Epoch 302/500\n",
            "2/2 [==============================] - 0s 4ms/step - loss: 7.9968 - mae: 7.9968\n",
            "Epoch 303/500\n",
            "2/2 [==============================] - 0s 4ms/step - loss: 20.4339 - mae: 20.4339\n",
            "Epoch 304/500\n",
            "2/2 [==============================] - 0s 4ms/step - loss: 13.1785 - mae: 13.1785\n",
            "Epoch 305/500\n",
            "2/2 [==============================] - 0s 4ms/step - loss: 6.9169 - mae: 6.9169\n",
            "Epoch 306/500\n",
            "2/2 [==============================] - 0s 4ms/step - loss: 18.5730 - mae: 18.5730\n",
            "Epoch 307/500\n",
            "2/2 [==============================] - 0s 4ms/step - loss: 9.6362 - mae: 9.6362\n",
            "Epoch 308/500\n",
            "2/2 [==============================] - 0s 4ms/step - loss: 20.2201 - mae: 20.2201\n",
            "Epoch 309/500\n",
            "2/2 [==============================] - 0s 4ms/step - loss: 14.2841 - mae: 14.2841\n",
            "Epoch 310/500\n",
            "2/2 [==============================] - 0s 4ms/step - loss: 5.0810 - mae: 5.0810\n",
            "Epoch 311/500\n",
            "2/2 [==============================] - 0s 4ms/step - loss: 13.8138 - mae: 13.8138\n",
            "Epoch 312/500\n",
            "2/2 [==============================] - 0s 5ms/step - loss: 30.3822 - mae: 30.3822\n",
            "Epoch 313/500\n",
            "2/2 [==============================] - 0s 4ms/step - loss: 6.9231 - mae: 6.9231\n",
            "Epoch 314/500\n",
            "2/2 [==============================] - 0s 3ms/step - loss: 11.0810 - mae: 11.0810\n",
            "Epoch 315/500\n",
            "2/2 [==============================] - 0s 4ms/step - loss: 23.3251 - mae: 23.3251\n",
            "Epoch 316/500\n",
            "2/2 [==============================] - 0s 4ms/step - loss: 14.8415 - mae: 14.8415\n",
            "Epoch 317/500\n",
            "2/2 [==============================] - 0s 4ms/step - loss: 20.5417 - mae: 20.5417\n",
            "Epoch 318/500\n",
            "2/2 [==============================] - 0s 4ms/step - loss: 8.6571 - mae: 8.6571\n",
            "Epoch 319/500\n",
            "2/2 [==============================] - 0s 4ms/step - loss: 15.1797 - mae: 15.1797\n",
            "Epoch 320/500\n",
            "2/2 [==============================] - 0s 5ms/step - loss: 8.2888 - mae: 8.2888\n",
            "Epoch 321/500\n",
            "2/2 [==============================] - 0s 6ms/step - loss: 14.5963 - mae: 14.5963\n",
            "Epoch 322/500\n",
            "2/2 [==============================] - 0s 4ms/step - loss: 12.8253 - mae: 12.8253\n",
            "Epoch 323/500\n",
            "2/2 [==============================] - 0s 5ms/step - loss: 19.1105 - mae: 19.1105\n",
            "Epoch 324/500\n",
            "2/2 [==============================] - 0s 5ms/step - loss: 16.9739 - mae: 16.9739\n",
            "Epoch 325/500\n",
            "2/2 [==============================] - 0s 5ms/step - loss: 9.2974 - mae: 9.2974\n",
            "Epoch 326/500\n",
            "2/2 [==============================] - 0s 5ms/step - loss: 19.9467 - mae: 19.9467\n",
            "Epoch 327/500\n",
            "2/2 [==============================] - 0s 5ms/step - loss: 28.0434 - mae: 28.0434\n",
            "Epoch 328/500\n",
            "2/2 [==============================] - 0s 4ms/step - loss: 11.7177 - mae: 11.7177\n",
            "Epoch 329/500\n",
            "2/2 [==============================] - 0s 6ms/step - loss: 16.3921 - mae: 16.3921\n",
            "Epoch 330/500\n",
            "2/2 [==============================] - 0s 8ms/step - loss: 7.2848 - mae: 7.2848\n",
            "Epoch 331/500\n",
            "2/2 [==============================] - 0s 4ms/step - loss: 22.5444 - mae: 22.5444\n",
            "Epoch 332/500\n",
            "2/2 [==============================] - 0s 4ms/step - loss: 13.3128 - mae: 13.3128\n",
            "Epoch 333/500\n",
            "2/2 [==============================] - 0s 4ms/step - loss: 10.1343 - mae: 10.1343\n",
            "Epoch 334/500\n",
            "2/2 [==============================] - 0s 4ms/step - loss: 6.5874 - mae: 6.5874\n",
            "Epoch 335/500\n",
            "2/2 [==============================] - 0s 4ms/step - loss: 6.2370 - mae: 6.2370\n",
            "Epoch 336/500\n",
            "2/2 [==============================] - 0s 4ms/step - loss: 34.5365 - mae: 34.5365\n",
            "Epoch 337/500\n",
            "2/2 [==============================] - 0s 4ms/step - loss: 26.9566 - mae: 26.9566\n",
            "Epoch 338/500\n",
            "2/2 [==============================] - 0s 4ms/step - loss: 13.9916 - mae: 13.9916\n",
            "Epoch 339/500\n",
            "2/2 [==============================] - 0s 4ms/step - loss: 11.5464 - mae: 11.5464\n",
            "Epoch 340/500\n",
            "2/2 [==============================] - 0s 4ms/step - loss: 8.8084 - mae: 8.8084\n",
            "Epoch 341/500\n",
            "2/2 [==============================] - 0s 4ms/step - loss: 23.4423 - mae: 23.4423\n",
            "Epoch 342/500\n",
            "2/2 [==============================] - 0s 4ms/step - loss: 13.9305 - mae: 13.9305\n",
            "Epoch 343/500\n",
            "2/2 [==============================] - 0s 4ms/step - loss: 14.8075 - mae: 14.8075\n",
            "Epoch 344/500\n",
            "2/2 [==============================] - 0s 4ms/step - loss: 13.3684 - mae: 13.3684\n",
            "Epoch 345/500\n",
            "2/2 [==============================] - 0s 4ms/step - loss: 31.0103 - mae: 31.0103\n",
            "Epoch 346/500\n",
            "2/2 [==============================] - 0s 5ms/step - loss: 10.6848 - mae: 10.6848\n",
            "Epoch 347/500\n",
            "2/2 [==============================] - 0s 4ms/step - loss: 25.7007 - mae: 25.7007\n",
            "Epoch 348/500\n",
            "2/2 [==============================] - 0s 4ms/step - loss: 12.9428 - mae: 12.9428\n",
            "Epoch 349/500\n",
            "2/2 [==============================] - 0s 4ms/step - loss: 13.1276 - mae: 13.1276\n",
            "Epoch 350/500\n",
            "2/2 [==============================] - 0s 5ms/step - loss: 15.4210 - mae: 15.4210\n",
            "Epoch 351/500\n",
            "2/2 [==============================] - 0s 5ms/step - loss: 32.9439 - mae: 32.9439\n",
            "Epoch 352/500\n",
            "2/2 [==============================] - 0s 4ms/step - loss: 14.1693 - mae: 14.1693\n",
            "Epoch 353/500\n",
            "2/2 [==============================] - 0s 6ms/step - loss: 15.8923 - mae: 15.8923\n",
            "Epoch 354/500\n",
            "2/2 [==============================] - 0s 8ms/step - loss: 19.0308 - mae: 19.0308\n",
            "Epoch 355/500\n",
            "2/2 [==============================] - 0s 9ms/step - loss: 34.2774 - mae: 34.2774\n",
            "Epoch 356/500\n",
            "2/2 [==============================] - 0s 4ms/step - loss: 8.2713 - mae: 8.2713\n",
            "Epoch 357/500\n",
            "2/2 [==============================] - 0s 8ms/step - loss: 21.8192 - mae: 21.8192\n",
            "Epoch 358/500\n",
            "2/2 [==============================] - 0s 6ms/step - loss: 19.9462 - mae: 19.9462\n",
            "Epoch 359/500\n",
            "2/2 [==============================] - 0s 6ms/step - loss: 11.0478 - mae: 11.0478\n",
            "Epoch 360/500\n",
            "2/2 [==============================] - 0s 31ms/step - loss: 20.2920 - mae: 20.2920\n",
            "Epoch 361/500\n",
            "2/2 [==============================] - 0s 6ms/step - loss: 10.9680 - mae: 10.9680\n",
            "Epoch 362/500\n",
            "2/2 [==============================] - 0s 5ms/step - loss: 6.7895 - mae: 6.7895\n",
            "Epoch 363/500\n",
            "2/2 [==============================] - 0s 4ms/step - loss: 23.9599 - mae: 23.9599\n",
            "Epoch 364/500\n",
            "2/2 [==============================] - 0s 3ms/step - loss: 29.7067 - mae: 29.7067\n",
            "Epoch 365/500\n",
            "2/2 [==============================] - 0s 3ms/step - loss: 8.3113 - mae: 8.3113\n",
            "Epoch 366/500\n",
            "2/2 [==============================] - 0s 4ms/step - loss: 6.0689 - mae: 6.0689\n",
            "Epoch 367/500\n",
            "2/2 [==============================] - 0s 4ms/step - loss: 34.8883 - mae: 34.8883\n",
            "Epoch 368/500\n",
            "2/2 [==============================] - 0s 4ms/step - loss: 7.3766 - mae: 7.3766\n",
            "Epoch 369/500\n",
            "2/2 [==============================] - 0s 3ms/step - loss: 9.2042 - mae: 9.2042\n",
            "Epoch 370/500\n",
            "2/2 [==============================] - 0s 4ms/step - loss: 10.9186 - mae: 10.9186\n",
            "Epoch 371/500\n",
            "2/2 [==============================] - 0s 3ms/step - loss: 8.9825 - mae: 8.9825\n",
            "Epoch 372/500\n",
            "2/2 [==============================] - 0s 6ms/step - loss: 7.6782 - mae: 7.6782\n",
            "Epoch 373/500\n",
            "2/2 [==============================] - 0s 4ms/step - loss: 25.0422 - mae: 25.0422\n",
            "Epoch 374/500\n",
            "2/2 [==============================] - 0s 5ms/step - loss: 13.2536 - mae: 13.2536\n",
            "Epoch 375/500\n",
            "2/2 [==============================] - 0s 4ms/step - loss: 11.8330 - mae: 11.8330\n",
            "Epoch 376/500\n",
            "2/2 [==============================] - 0s 4ms/step - loss: 14.1158 - mae: 14.1158\n",
            "Epoch 377/500\n",
            "2/2 [==============================] - 0s 3ms/step - loss: 15.6943 - mae: 15.6943\n",
            "Epoch 378/500\n",
            "2/2 [==============================] - 0s 3ms/step - loss: 17.0077 - mae: 17.0077\n",
            "Epoch 379/500\n",
            "2/2 [==============================] - 0s 3ms/step - loss: 19.4534 - mae: 19.4534\n",
            "Epoch 380/500\n",
            "2/2 [==============================] - 0s 6ms/step - loss: 15.8130 - mae: 15.8130\n",
            "Epoch 381/500\n",
            "2/2 [==============================] - 0s 4ms/step - loss: 11.4333 - mae: 11.4333\n",
            "Epoch 382/500\n",
            "2/2 [==============================] - 0s 4ms/step - loss: 16.3139 - mae: 16.3139\n",
            "Epoch 383/500\n",
            "2/2 [==============================] - 0s 4ms/step - loss: 22.0609 - mae: 22.0609\n",
            "Epoch 384/500\n",
            "2/2 [==============================] - 0s 4ms/step - loss: 7.7674 - mae: 7.7674\n",
            "Epoch 385/500\n",
            "2/2 [==============================] - 0s 4ms/step - loss: 10.5810 - mae: 10.5810\n",
            "Epoch 386/500\n",
            "2/2 [==============================] - 0s 4ms/step - loss: 19.0401 - mae: 19.0401\n",
            "Epoch 387/500\n",
            "2/2 [==============================] - 0s 10ms/step - loss: 26.6182 - mae: 26.6182\n",
            "Epoch 388/500\n",
            "2/2 [==============================] - 0s 20ms/step - loss: 10.1574 - mae: 10.1574\n",
            "Epoch 389/500\n",
            "2/2 [==============================] - 0s 12ms/step - loss: 5.1664 - mae: 5.1664\n",
            "Epoch 390/500\n",
            "2/2 [==============================] - 0s 9ms/step - loss: 18.9411 - mae: 18.9411\n",
            "Epoch 391/500\n",
            "2/2 [==============================] - 0s 14ms/step - loss: 9.2897 - mae: 9.2897\n",
            "Epoch 392/500\n",
            "2/2 [==============================] - 0s 6ms/step - loss: 14.3663 - mae: 14.3663\n",
            "Epoch 393/500\n",
            "2/2 [==============================] - 0s 6ms/step - loss: 15.3679 - mae: 15.3679\n",
            "Epoch 394/500\n",
            "2/2 [==============================] - 0s 7ms/step - loss: 14.7177 - mae: 14.7177\n",
            "Epoch 395/500\n",
            "2/2 [==============================] - 0s 5ms/step - loss: 24.9265 - mae: 24.9265\n",
            "Epoch 396/500\n",
            "2/2 [==============================] - 0s 3ms/step - loss: 19.2772 - mae: 19.2772\n",
            "Epoch 397/500\n",
            "2/2 [==============================] - 0s 6ms/step - loss: 11.5380 - mae: 11.5380\n",
            "Epoch 398/500\n",
            "2/2 [==============================] - 0s 4ms/step - loss: 19.1565 - mae: 19.1565\n",
            "Epoch 399/500\n",
            "2/2 [==============================] - 0s 5ms/step - loss: 26.0865 - mae: 26.0865\n",
            "Epoch 400/500\n",
            "2/2 [==============================] - 0s 5ms/step - loss: 15.7308 - mae: 15.7308\n",
            "Epoch 401/500\n",
            "2/2 [==============================] - 0s 4ms/step - loss: 14.6240 - mae: 14.6240\n",
            "Epoch 402/500\n",
            "2/2 [==============================] - 0s 6ms/step - loss: 24.2229 - mae: 24.2229\n",
            "Epoch 403/500\n",
            "2/2 [==============================] - 0s 6ms/step - loss: 16.5348 - mae: 16.5348\n",
            "Epoch 404/500\n",
            "2/2 [==============================] - 0s 6ms/step - loss: 9.1673 - mae: 9.1673\n",
            "Epoch 405/500\n",
            "2/2 [==============================] - 0s 4ms/step - loss: 10.4494 - mae: 10.4494\n",
            "Epoch 406/500\n",
            "2/2 [==============================] - 0s 4ms/step - loss: 7.7874 - mae: 7.7874\n",
            "Epoch 407/500\n",
            "2/2 [==============================] - 0s 5ms/step - loss: 9.8726 - mae: 9.8726\n",
            "Epoch 408/500\n",
            "2/2 [==============================] - 0s 4ms/step - loss: 10.7409 - mae: 10.7409\n",
            "Epoch 409/500\n",
            "2/2 [==============================] - 0s 4ms/step - loss: 6.5713 - mae: 6.5713\n",
            "Epoch 410/500\n",
            "2/2 [==============================] - 0s 21ms/step - loss: 6.3082 - mae: 6.3082\n",
            "Epoch 411/500\n",
            "2/2 [==============================] - 0s 7ms/step - loss: 16.1470 - mae: 16.1470\n",
            "Epoch 412/500\n",
            "2/2 [==============================] - 0s 5ms/step - loss: 5.1250 - mae: 5.1250\n",
            "Epoch 413/500\n",
            "2/2 [==============================] - 0s 13ms/step - loss: 7.1798 - mae: 7.1798\n",
            "Epoch 414/500\n",
            "2/2 [==============================] - 0s 8ms/step - loss: 18.0569 - mae: 18.0569\n",
            "Epoch 415/500\n",
            "2/2 [==============================] - 0s 7ms/step - loss: 12.3544 - mae: 12.3544\n",
            "Epoch 416/500\n",
            "2/2 [==============================] - 0s 8ms/step - loss: 26.2115 - mae: 26.2115\n",
            "Epoch 417/500\n",
            "2/2 [==============================] - 0s 12ms/step - loss: 14.0864 - mae: 14.0864\n",
            "Epoch 418/500\n",
            "2/2 [==============================] - 0s 8ms/step - loss: 13.0590 - mae: 13.0590\n",
            "Epoch 419/500\n",
            "2/2 [==============================] - 0s 6ms/step - loss: 16.0257 - mae: 16.0257\n",
            "Epoch 420/500\n",
            "2/2 [==============================] - 0s 9ms/step - loss: 25.0571 - mae: 25.0571\n",
            "Epoch 421/500\n",
            "2/2 [==============================] - 0s 8ms/step - loss: 16.6156 - mae: 16.6156\n",
            "Epoch 422/500\n",
            "2/2 [==============================] - 0s 10ms/step - loss: 8.6774 - mae: 8.6774\n",
            "Epoch 423/500\n",
            "2/2 [==============================] - 0s 5ms/step - loss: 24.7812 - mae: 24.7812\n",
            "Epoch 424/500\n",
            "2/2 [==============================] - 0s 8ms/step - loss: 16.5480 - mae: 16.5480\n",
            "Epoch 425/500\n",
            "2/2 [==============================] - 0s 6ms/step - loss: 7.2339 - mae: 7.2339\n",
            "Epoch 426/500\n",
            "2/2 [==============================] - 0s 7ms/step - loss: 20.6947 - mae: 20.6947\n",
            "Epoch 427/500\n",
            "2/2 [==============================] - 0s 8ms/step - loss: 6.4080 - mae: 6.4080\n",
            "Epoch 428/500\n",
            "2/2 [==============================] - 0s 3ms/step - loss: 13.2496 - mae: 13.2496\n",
            "Epoch 429/500\n",
            "2/2 [==============================] - 0s 12ms/step - loss: 11.0050 - mae: 11.0050\n",
            "Epoch 430/500\n",
            "2/2 [==============================] - 0s 12ms/step - loss: 11.8852 - mae: 11.8852\n",
            "Epoch 431/500\n",
            "2/2 [==============================] - 0s 4ms/step - loss: 8.5077 - mae: 8.5077\n",
            "Epoch 432/500\n",
            "2/2 [==============================] - 0s 4ms/step - loss: 18.6105 - mae: 18.6105\n",
            "Epoch 433/500\n",
            "2/2 [==============================] - 0s 5ms/step - loss: 10.1339 - mae: 10.1339\n",
            "Epoch 434/500\n",
            "2/2 [==============================] - 0s 5ms/step - loss: 30.6575 - mae: 30.6575\n",
            "Epoch 435/500\n",
            "2/2 [==============================] - 0s 7ms/step - loss: 11.1652 - mae: 11.1652\n",
            "Epoch 436/500\n",
            "2/2 [==============================] - 0s 10ms/step - loss: 28.7551 - mae: 28.7551\n",
            "Epoch 437/500\n",
            "2/2 [==============================] - 0s 8ms/step - loss: 8.0164 - mae: 8.0164\n",
            "Epoch 438/500\n",
            "2/2 [==============================] - 0s 11ms/step - loss: 12.8054 - mae: 12.8054\n",
            "Epoch 439/500\n",
            "2/2 [==============================] - 0s 36ms/step - loss: 33.8984 - mae: 33.8984\n",
            "Epoch 440/500\n",
            "2/2 [==============================] - 0s 11ms/step - loss: 15.4099 - mae: 15.4099\n",
            "Epoch 441/500\n",
            "2/2 [==============================] - 0s 16ms/step - loss: 17.7462 - mae: 17.7462\n",
            "Epoch 442/500\n",
            "2/2 [==============================] - 0s 5ms/step - loss: 6.4295 - mae: 6.4295\n",
            "Epoch 443/500\n",
            "2/2 [==============================] - 0s 45ms/step - loss: 13.1251 - mae: 13.1251\n",
            "Epoch 444/500\n",
            "2/2 [==============================] - 0s 15ms/step - loss: 3.2683 - mae: 3.2683\n",
            "Epoch 445/500\n",
            "2/2 [==============================] - 0s 14ms/step - loss: 6.6329 - mae: 6.6329\n",
            "Epoch 446/500\n",
            "2/2 [==============================] - 0s 8ms/step - loss: 18.5979 - mae: 18.5979\n",
            "Epoch 447/500\n",
            "2/2 [==============================] - 0s 15ms/step - loss: 6.5966 - mae: 6.5966\n",
            "Epoch 448/500\n",
            "2/2 [==============================] - 0s 9ms/step - loss: 8.6638 - mae: 8.6638\n",
            "Epoch 449/500\n",
            "2/2 [==============================] - 0s 5ms/step - loss: 14.2637 - mae: 14.2637\n",
            "Epoch 450/500\n",
            "2/2 [==============================] - 0s 6ms/step - loss: 17.0202 - mae: 17.0202\n",
            "Epoch 451/500\n",
            "2/2 [==============================] - 0s 7ms/step - loss: 14.3843 - mae: 14.3843\n",
            "Epoch 452/500\n",
            "2/2 [==============================] - 0s 6ms/step - loss: 30.8454 - mae: 30.8454\n",
            "Epoch 453/500\n",
            "2/2 [==============================] - 0s 9ms/step - loss: 9.1030 - mae: 9.1030\n",
            "Epoch 454/500\n",
            "2/2 [==============================] - 0s 16ms/step - loss: 27.1867 - mae: 27.1867\n",
            "Epoch 455/500\n",
            "2/2 [==============================] - 0s 18ms/step - loss: 11.4250 - mae: 11.4250\n",
            "Epoch 456/500\n",
            "2/2 [==============================] - 0s 12ms/step - loss: 15.6307 - mae: 15.6307\n",
            "Epoch 457/500\n",
            "2/2 [==============================] - 0s 19ms/step - loss: 19.2749 - mae: 19.2749\n",
            "Epoch 458/500\n",
            "2/2 [==============================] - 0s 6ms/step - loss: 23.0347 - mae: 23.0347\n",
            "Epoch 459/500\n",
            "2/2 [==============================] - 0s 4ms/step - loss: 16.4852 - mae: 16.4852\n",
            "Epoch 460/500\n",
            "2/2 [==============================] - 0s 9ms/step - loss: 7.4284 - mae: 7.4284\n",
            "Epoch 461/500\n",
            "2/2 [==============================] - 0s 13ms/step - loss: 15.6813 - mae: 15.6813\n",
            "Epoch 462/500\n",
            "2/2 [==============================] - 0s 10ms/step - loss: 15.1802 - mae: 15.1802\n",
            "Epoch 463/500\n",
            "2/2 [==============================] - 0s 7ms/step - loss: 16.8198 - mae: 16.8198\n",
            "Epoch 464/500\n",
            "2/2 [==============================] - 0s 7ms/step - loss: 11.2275 - mae: 11.2275\n",
            "Epoch 465/500\n",
            "2/2 [==============================] - 0s 22ms/step - loss: 21.5542 - mae: 21.5542\n",
            "Epoch 466/500\n",
            "2/2 [==============================] - 0s 12ms/step - loss: 24.9819 - mae: 24.9819\n",
            "Epoch 467/500\n",
            "2/2 [==============================] - 0s 11ms/step - loss: 14.8176 - mae: 14.8176\n",
            "Epoch 468/500\n",
            "2/2 [==============================] - 0s 12ms/step - loss: 10.3723 - mae: 10.3723\n",
            "Epoch 469/500\n",
            "2/2 [==============================] - 0s 9ms/step - loss: 27.3765 - mae: 27.3765\n",
            "Epoch 470/500\n",
            "2/2 [==============================] - 0s 13ms/step - loss: 12.4099 - mae: 12.4099\n",
            "Epoch 471/500\n",
            "2/2 [==============================] - 0s 14ms/step - loss: 12.0467 - mae: 12.0467\n",
            "Epoch 472/500\n",
            "2/2 [==============================] - 0s 11ms/step - loss: 15.5201 - mae: 15.5201\n",
            "Epoch 473/500\n",
            "2/2 [==============================] - 0s 12ms/step - loss: 15.5373 - mae: 15.5373\n",
            "Epoch 474/500\n",
            "2/2 [==============================] - 0s 10ms/step - loss: 20.1992 - mae: 20.1992\n",
            "Epoch 475/500\n",
            "2/2 [==============================] - 0s 11ms/step - loss: 5.0670 - mae: 5.0670\n",
            "Epoch 476/500\n",
            "2/2 [==============================] - 0s 11ms/step - loss: 13.3511 - mae: 13.3511\n",
            "Epoch 477/500\n",
            "2/2 [==============================] - 0s 9ms/step - loss: 29.5851 - mae: 29.5851\n",
            "Epoch 478/500\n",
            "2/2 [==============================] - 0s 7ms/step - loss: 3.7176 - mae: 3.7176\n",
            "Epoch 479/500\n",
            "2/2 [==============================] - 0s 9ms/step - loss: 16.1562 - mae: 16.1562\n",
            "Epoch 480/500\n",
            "2/2 [==============================] - 0s 10ms/step - loss: 3.8854 - mae: 3.8854\n",
            "Epoch 481/500\n",
            "2/2 [==============================] - 0s 6ms/step - loss: 15.0892 - mae: 15.0892\n",
            "Epoch 482/500\n",
            "2/2 [==============================] - 0s 15ms/step - loss: 24.5879 - mae: 24.5879\n",
            "Epoch 483/500\n",
            "2/2 [==============================] - 0s 11ms/step - loss: 18.2991 - mae: 18.2991\n",
            "Epoch 484/500\n",
            "2/2 [==============================] - 0s 9ms/step - loss: 17.2672 - mae: 17.2672\n",
            "Epoch 485/500\n",
            "2/2 [==============================] - 0s 11ms/step - loss: 8.6620 - mae: 8.6620\n",
            "Epoch 486/500\n",
            "2/2 [==============================] - 0s 11ms/step - loss: 18.9357 - mae: 18.9357\n",
            "Epoch 487/500\n",
            "2/2 [==============================] - 0s 11ms/step - loss: 13.1915 - mae: 13.1915\n",
            "Epoch 488/500\n",
            "2/2 [==============================] - 0s 11ms/step - loss: 11.8760 - mae: 11.8760\n",
            "Epoch 489/500\n",
            "2/2 [==============================] - 0s 6ms/step - loss: 16.3277 - mae: 16.3277\n",
            "Epoch 490/500\n",
            "2/2 [==============================] - 0s 8ms/step - loss: 14.4194 - mae: 14.4194\n",
            "Epoch 491/500\n",
            "2/2 [==============================] - 0s 4ms/step - loss: 26.6506 - mae: 26.6506\n",
            "Epoch 492/500\n",
            "2/2 [==============================] - 0s 4ms/step - loss: 12.9501 - mae: 12.9501\n",
            "Epoch 493/500\n",
            "2/2 [==============================] - 0s 15ms/step - loss: 9.7401 - mae: 9.7401\n",
            "Epoch 494/500\n",
            "2/2 [==============================] - 0s 18ms/step - loss: 13.0590 - mae: 13.0590\n",
            "Epoch 495/500\n",
            "2/2 [==============================] - 0s 15ms/step - loss: 14.0624 - mae: 14.0624\n",
            "Epoch 496/500\n",
            "2/2 [==============================] - 0s 5ms/step - loss: 12.2678 - mae: 12.2678\n",
            "Epoch 497/500\n",
            "2/2 [==============================] - 0s 7ms/step - loss: 17.4339 - mae: 17.4339\n",
            "Epoch 498/500\n",
            "2/2 [==============================] - 0s 7ms/step - loss: 23.9644 - mae: 23.9644\n",
            "Epoch 499/500\n",
            "2/2 [==============================] - 0s 5ms/step - loss: 9.7062 - mae: 9.7062\n",
            "Epoch 500/500\n",
            "2/2 [==============================] - 0s 5ms/step - loss: 14.5836 - mae: 14.5836\n"
          ]
        },
        {
          "output_type": "execute_result",
          "data": {
            "text/plain": [
              "<keras.src.callbacks.History at 0x79ee87d2e3e0>"
            ]
          },
          "metadata": {},
          "execution_count": 52
        }
      ]
    },
    {
      "cell_type": "code",
      "source": [
        "# Make plot predictions\n",
        "y_preds_3 = model_3.predict(X_test)\n",
        "plot_predictions(predictions=y_preds_3)"
      ],
      "metadata": {
        "colab": {
          "base_uri": "https://localhost:8080/",
          "height": 616
        },
        "id": "LTB7zMVaebIm",
        "outputId": "adc29fc4-7581-41e3-9183-8359cd0bc15d"
      },
      "execution_count": 53,
      "outputs": [
        {
          "output_type": "stream",
          "name": "stdout",
          "text": [
            "1/1 [==============================] - 0s 269ms/step\n"
          ]
        },
        {
          "output_type": "display_data",
          "data": {
            "text/plain": [
              "<Figure size 1000x700 with 1 Axes>"
            ],
            "image/png": "[encoded data removed]"
          },
          "metadata": {}
        }
      ]
    },
    {
      "cell_type": "code",
      "source": [
        "# Calculate model_3 evaluation metrics\n",
        "\n",
        "mae_3 = mae(y_test, y_preds_3)\n",
        "mse_3 = mse(y_test, y_preds_3)\n",
        "mae_3, mse_3"
      ],
      "metadata": {
        "colab": {
          "base_uri": "https://localhost:8080/"
        },
        "id": "onkUY2UGeqBV",
        "outputId": "e0501280-9845-4516-9324-09056544cc5f"
      },
      "execution_count": 54,
      "outputs": [
        {
          "output_type": "execute_result",
          "data": {
            "text/plain": [
              "(<tf.Tensor: shape=(), dtype=float32, numpy=68.54831>,\n",
              " <tf.Tensor: shape=(), dtype=float32, numpy=4784.966>)"
            ]
          },
          "metadata": {},
          "execution_count": 54
        }
      ]
    },
    {
      "cell_type": "markdown",
      "source": [
        "## Compare the results of our experiments"
      ],
      "metadata": {
        "id": "3qcRRhSXfLKU"
      }
    },
    {
      "cell_type": "code",
      "source": [
        "# Compare models using pandas dataframe\n",
        "import pandas as pd\n",
        "\n",
        "model_results = [[\"model_1\",  mae_1.numpy(),  mse_1.numpy()],\n",
        "                 [\"model_2\", mae_2.numpy(), mse_2.numpy()],\n",
        "                 [\"model_3\", mae_3.numpy(), mse_3.numpy()]]\n",
        "\n",
        "all_results = pd.DataFrame(model_results, columns=[\"model\",\"mae\", \"mse\"])\n",
        "all_results"
      ],
      "metadata": {
        "colab": {
          "base_uri": "https://localhost:8080/",
          "height": 143
        },
        "id": "gQA880N6fP7w",
        "outputId": "3c8dda11-0aeb-4dd5-95d3-1854e3f245d7"
      },
      "execution_count": 55,
      "outputs": [
        {
          "output_type": "execute_result",
          "data": {
            "text/plain": [
              "     model        mae          mse\n",
              "0  model_1  14.835996   220.924286\n",
              "1  model_2  13.353750   188.451797\n",
              "2  model_3  68.548309  4784.965820"
            ],
            "text/html": [
              "\n",
              "  <div id=\"df-81cf30fa-eec4-48c5-82c1-c1827a0b2d4b\" class=\"colab-df-container\">\n",
              "    <div>\n",
              "<style scoped>\n",
              "    .dataframe tbody tr th:only-of-type {\n",
              "        vertical-align: middle;\n",
              "    }\n",
              "\n",
              "    .dataframe tbody tr th {\n",
              "        vertical-align: top;\n",
              "    }\n",
              "\n",
              "    .dataframe thead th {\n",
              "        text-align: right;\n",
              "    }\n",
              "</style>\n",
              "<table border=\"1\" class=\"dataframe\">\n",
              "  <thead>\n",
              "    <tr style=\"text-align: right;\">\n",
              "      <th></th>\n",
              "      <th>model</th>\n",
              "      <th>mae</th>\n",
              "      <th>mse</th>\n",
              "    </tr>\n",
              "  </thead>\n",
              "  <tbody>\n",
              "    <tr>\n",
              "      <th>0</th>\n",
              "      <td>model_1</td>\n",
              "      <td>14.835996</td>\n",
              "      <td>220.924286</td>\n",
              "    </tr>\n",
              "    <tr>\n",
              "      <th>1</th>\n",
              "      <td>model_2</td>\n",
              "      <td>13.353750</td>\n",
              "      <td>188.451797</td>\n",
              "    </tr>\n",
              "    <tr>\n",
              "      <th>2</th>\n",
              "      <td>model_3</td>\n",
              "      <td>68.548309</td>\n",
              "      <td>4784.965820</td>\n",
              "    </tr>\n",
              "  </tbody>\n",
              "</table>\n",
              "</div>\n",
              "    <div class=\"colab-df-buttons\">\n",
              "\n",
              "  <div class=\"colab-df-container\">\n",
              "    <button class=\"colab-df-convert\" onclick=\"convertToInteractive('df-81cf30fa-eec4-48c5-82c1-c1827a0b2d4b')\"\n",
              "            title=\"Convert this dataframe to an interactive table.\"\n",
              "            style=\"display:none;\">\n",
              "\n",
              "  <svg xmlns=\"http://www.w3.org/2000/svg\" height=\"24px\" viewBox=\"0 -960 960 960\">\n",
              "    <path d=\"M120-120v-720h720v720H120Zm60-500h600v-160H180v160Zm220 220h160v-160H400v160Zm0 220h160v-160H400v160ZM180-400h160v-160H180v160Zm440 0h160v-160H620v160ZM180-180h160v-160H180v160Zm440 0h160v-160H620v160Z\"/>\n",
              "  </svg>\n",
              "    </button>\n",
              "\n",
              "  <style>\n",
              "    .colab-df-container {\n",
              "      display:flex;\n",
              "      gap: 12px;\n",
              "    }\n",
              "\n",
              "    .colab-df-convert {\n",
              "      background-color: #E8F0FE;\n",
              "      border: none;\n",
              "      border-radius: 50%;\n",
              "      cursor: pointer;\n",
              "      display: none;\n",
              "      fill: #1967D2;\n",
              "      height: 32px;\n",
              "      padding: 0 0 0 0;\n",
              "      width: 32px;\n",
              "    }\n",
              "\n",
              "    .colab-df-convert:hover {\n",
              "      background-color: #E2EBFA;\n",
              "      box-shadow: 0px 1px 2px rgba(60, 64, 67, 0.3), 0px 1px 3px 1px rgba(60, 64, 67, 0.15);\n",
              "      fill: #174EA6;\n",
              "    }\n",
              "\n",
              "    .colab-df-buttons div {\n",
              "      margin-bottom: 4px;\n",
              "    }\n",
              "\n",
              "    [theme=dark] .colab-df-convert {\n",
              "      background-color: #3B4455;\n",
              "      fill: #D2E3FC;\n",
              "    }\n",
              "\n",
              "    [theme=dark] .colab-df-convert:hover {\n",
              "      background-color: #434B5C;\n",
              "      box-shadow: 0px 1px 3px 1px rgba(0, 0, 0, 0.15);\n",
              "      filter: drop-shadow(0px 1px 2px rgba(0, 0, 0, 0.3));\n",
              "      fill: #FFFFFF;\n",
              "    }\n",
              "  </style>\n",
              "\n",
              "    <script>\n",
              "      const buttonEl =\n",
              "        document.querySelector('#df-81cf30fa-eec4-48c5-82c1-c1827a0b2d4b button.colab-df-convert');\n",
              "      buttonEl.style.display =\n",
              "        google.colab.kernel.accessAllowed ? 'block' : 'none';\n",
              "\n",
              "      async function convertToInteractive(key) {\n",
              "        const element = document.querySelector('#df-81cf30fa-eec4-48c5-82c1-c1827a0b2d4b');\n",
              "        const dataTable =\n",
              "          await google.colab.kernel.invokeFunction('convertToInteractive',\n",
              "                                                    [key], {});\n",
              "        if (!dataTable) return;\n",
              "\n",
              "        const docLinkHtml = 'Like what you see? Visit the ' +\n",
              "          '<a target=\"_blank\" href=https://colab.research.google.com/notebooks/data_table.ipynb>data table notebook</a>'\n",
              "          + ' to learn more about interactive tables.';\n",
              "        element.innerHTML = '';\n",
              "        dataTable['output_type'] = 'display_data';\n",
              "        await google.colab.output.renderOutput(dataTable, element);\n",
              "        const docLink = document.createElement('div');\n",
              "        docLink.innerHTML = docLinkHtml;\n",
              "        element.appendChild(docLink);\n",
              "      }\n",
              "    </script>\n",
              "  </div>\n",
              "\n",
              "\n",
              "<div id=\"df-9220c2c0-e3c6-4366-b603-ad099ccd431b\">\n",
              "  <button class=\"colab-df-quickchart\" onclick=\"quickchart('df-9220c2c0-e3c6-4366-b603-ad099ccd431b')\"\n",
              "            title=\"Suggest charts.\"\n",
              "            style=\"display:none;\">\n",
              "\n",
              "<svg xmlns=\"http://www.w3.org/2000/svg\" height=\"24px\"viewBox=\"0 0 24 24\"\n",
              "     width=\"24px\">\n",
              "    <g>\n",
              "        <path d=\"M19 3H5c-1.1 0-2 .9-2 2v14c0 1.1.9 2 2 2h14c1.1 0 2-.9 2-2V5c0-1.1-.9-2-2-2zM9 17H7v-7h2v7zm4 0h-2V7h2v10zm4 0h-2v-4h2v4z\"/>\n",
              "    </g>\n",
              "</svg>\n",
              "  </button>\n",
              "\n",
              "<style>\n",
              "  .colab-df-quickchart {\n",
              "      --bg-color: #E8F0FE;\n",
              "      --fill-color: #1967D2;\n",
              "      --hover-bg-color: #E2EBFA;\n",
              "      --hover-fill-color: #174EA6;\n",
              "      --disabled-fill-color: #AAA;\n",
              "      --disabled-bg-color: #DDD;\n",
              "  }\n",
              "\n",
              "  [theme=dark] .colab-df-quickchart {\n",
              "      --bg-color: #3B4455;\n",
              "      --fill-color: #D2E3FC;\n",
              "      --hover-bg-color: #434B5C;\n",
              "      --hover-fill-color: #FFFFFF;\n",
              "      --disabled-bg-color: #3B4455;\n",
              "      --disabled-fill-color: #666;\n",
              "  }\n",
              "\n",
              "  .colab-df-quickchart {\n",
              "    background-color: var(--bg-color);\n",
              "    border: none;\n",
              "    border-radius: 50%;\n",
              "    cursor: pointer;\n",
              "    display: none;\n",
              "    fill: var(--fill-color);\n",
              "    height: 32px;\n",
              "    padding: 0;\n",
              "    width: 32px;\n",
              "  }\n",
              "\n",
              "  .colab-df-quickchart:hover {\n",
              "    background-color: var(--hover-bg-color);\n",
              "    box-shadow: 0 1px 2px rgba(60, 64, 67, 0.3), 0 1px 3px 1px rgba(60, 64, 67, 0.15);\n",
              "    fill: var(--button-hover-fill-color);\n",
              "  }\n",
              "\n",
              "  .colab-df-quickchart-complete:disabled,\n",
              "  .colab-df-quickchart-complete:disabled:hover {\n",
              "    background-color: var(--disabled-bg-color);\n",
              "    fill: var(--disabled-fill-color);\n",
              "    box-shadow: none;\n",
              "  }\n",
              "\n",
              "  .colab-df-spinner {\n",
              "    border: 2px solid var(--fill-color);\n",
              "    border-color: transparent;\n",
              "    border-bottom-color: var(--fill-color);\n",
              "    animation:\n",
              "      spin 1s steps(1) infinite;\n",
              "  }\n",
              "\n",
              "  @keyframes spin {\n",
              "    0% {\n",
              "      border-color: transparent;\n",
              "      border-bottom-color: var(--fill-color);\n",
              "      border-left-color: var(--fill-color);\n",
              "    }\n",
              "    20% {\n",
              "      border-color: transparent;\n",
              "      border-left-color: var(--fill-color);\n",
              "      border-top-color: var(--fill-color);\n",
              "    }\n",
              "    30% {\n",
              "      border-color: transparent;\n",
              "      border-left-color: var(--fill-color);\n",
              "      border-top-color: var(--fill-color);\n",
              "      border-right-color: var(--fill-color);\n",
              "    }\n",
              "    40% {\n",
              "      border-color: transparent;\n",
              "      border-right-color: var(--fill-color);\n",
              "      border-top-color: var(--fill-color);\n",
              "    }\n",
              "    60% {\n",
              "      border-color: transparent;\n",
              "      border-right-color: var(--fill-color);\n",
              "    }\n",
              "    80% {\n",
              "      border-color: transparent;\n",
              "      border-right-color: var(--fill-color);\n",
              "      border-bottom-color: var(--fill-color);\n",
              "    }\n",
              "    90% {\n",
              "      border-color: transparent;\n",
              "      border-bottom-color: var(--fill-color);\n",
              "    }\n",
              "  }\n",
              "</style>\n",
              "\n",
              "  <script>\n",
              "    async function quickchart(key) {\n",
              "      const quickchartButtonEl =\n",
              "        document.querySelector('#' + key + ' button');\n",
              "      quickchartButtonEl.disabled = true;  // To prevent multiple clicks.\n",
              "      quickchartButtonEl.classList.add('colab-df-spinner');\n",
              "      try {\n",
              "        const charts = await google.colab.kernel.invokeFunction(\n",
              "            'suggestCharts', [key], {});\n",
              "      } catch (error) {\n",
              "        console.error('Error during call to suggestCharts:', error);\n",
              "      }\n",
              "      quickchartButtonEl.classList.remove('colab-df-spinner');\n",
              "      quickchartButtonEl.classList.add('colab-df-quickchart-complete');\n",
              "    }\n",
              "    (() => {\n",
              "      let quickchartButtonEl =\n",
              "        document.querySelector('#df-9220c2c0-e3c6-4366-b603-ad099ccd431b button');\n",
              "      quickchartButtonEl.style.display =\n",
              "        google.colab.kernel.accessAllowed ? 'block' : 'none';\n",
              "    })();\n",
              "  </script>\n",
              "</div>\n",
              "    </div>\n",
              "  </div>\n"
            ]
          },
          "metadata": {},
          "execution_count": 55
        }
      ]
    },
    {
      "cell_type": "code",
      "source": [
        "model_2.summary() # model_2 performed the best"
      ],
      "metadata": {
        "colab": {
          "base_uri": "https://localhost:8080/"
        },
        "id": "6nn_curJgGXn",
        "outputId": "0afcc634-95e1-45bb-e113-14e2c13bc693"
      },
      "execution_count": 56,
      "outputs": [
        {
          "output_type": "stream",
          "name": "stdout",
          "text": [
            "Model: \"sequential_5\"\n",
            "_________________________________________________________________\n",
            " Layer (type)                Output Shape              Param #   \n",
            "=================================================================\n",
            " dense_6 (Dense)             (None, 10)                20        \n",
            "                                                                 \n",
            " dense_7 (Dense)             (None, 1)                 11        \n",
            "                                                                 \n",
            "=================================================================\n",
            "Total params: 31 (124.00 Byte)\n",
            "Trainable params: 31 (124.00 Byte)\n",
            "Non-trainable params: 0 (0.00 Byte)\n",
            "_________________________________________________________________\n"
          ]
        }
      ]
    },
    {
      "cell_type": "markdown",
      "source": [
        "## Traking your experiments\n",
        "One really good habit in machine learning modelling is to track the results of your experiments.\n",
        "\n",
        "* TensorBord\n",
        "* Weights & Biases\n",
        "\n",
        "Those are tools to help us"
      ],
      "metadata": {
        "id": "57X3SXm8gvbU"
      }
    },
    {
      "cell_type": "markdown",
      "source": [
        "## Saving our models"
      ],
      "metadata": {
        "id": "bnBn3Hb-hNqc"
      }
    },
    {
      "cell_type": "code",
      "source": [
        "# Save model using saved model format\n",
        "model_2.save(\"best_model_SavedModel_format\")"
      ],
      "metadata": {
        "id": "aVGSCrS2gY6J"
      },
      "execution_count": 57,
      "outputs": []
    },
    {
      "cell_type": "code",
      "source": [
        "# Save model using the  hdf5 format\n",
        "model_2.save(\"best_model_HDF%_format.h5\")"
      ],
      "metadata": {
        "colab": {
          "base_uri": "https://localhost:8080/"
        },
        "id": "DY8f4PBxiQOQ",
        "outputId": "080fdde6-39ac-43b8-f3c2-f9a899cf4e13"
      },
      "execution_count": 58,
      "outputs": [
        {
          "output_type": "stream",
          "name": "stderr",
          "text": [
            "/usr/local/lib/python3.10/dist-packages/keras/src/engine/training.py:3000: UserWarning: You are saving your model as an HDF5 file via `model.save()`. This file format is considered legacy. We recommend using instead the native Keras format, e.g. `model.save('my_model.keras')`.\n",
            "  saving_api.save_model(\n"
          ]
        }
      ]
    },
    {
      "cell_type": "markdown",
      "source": [
        "## Load a save model"
      ],
      "metadata": {
        "id": "njsw-4osl0zi"
      }
    },
    {
      "cell_type": "code",
      "source": [
        "# Load in the savedModel Format model\n",
        "loaded_SavedModel_format = tf.keras.models.load_model(\"best_model_SavedModel_format\")\n",
        "loaded_SavedModel_format.summary()"
      ],
      "metadata": {
        "colab": {
          "base_uri": "https://localhost:8080/"
        },
        "id": "T-iGtivwlwxv",
        "outputId": "6976fc2b-c6c2-40d1-809b-587fcd7a0b77"
      },
      "execution_count": 59,
      "outputs": [
        {
          "output_type": "stream",
          "name": "stdout",
          "text": [
            "Model: \"sequential_5\"\n",
            "_________________________________________________________________\n",
            " Layer (type)                Output Shape              Param #   \n",
            "=================================================================\n",
            " dense_6 (Dense)             (None, 10)                20        \n",
            "                                                                 \n",
            " dense_7 (Dense)             (None, 1)                 11        \n",
            "                                                                 \n",
            "=================================================================\n",
            "Total params: 31 (124.00 Byte)\n",
            "Trainable params: 31 (124.00 Byte)\n",
            "Non-trainable params: 0 (0.00 Byte)\n",
            "_________________________________________________________________\n"
          ]
        }
      ]
    },
    {
      "cell_type": "code",
      "source": [
        "# Compare model_2 predictions with savedModel format model predictions\n",
        "model_2_preds = model_2.predict(X_test)\n",
        "loaded_SavedModel_format_preds = loaded_SavedModel_format.predict(X_test)\n",
        "model_2_preds == loaded_SavedModel_format_preds"
      ],
      "metadata": {
        "colab": {
          "base_uri": "https://localhost:8080/"
        },
        "id": "Q-tmKTpMmX4v",
        "outputId": "50f07ed9-fa8a-4d10-bae9-eb2e7f873fe5"
      },
      "execution_count": 60,
      "outputs": [
        {
          "output_type": "stream",
          "name": "stdout",
          "text": [
            "1/1 [==============================] - 0s 34ms/step\n",
            "1/1 [==============================] - 0s 65ms/step\n"
          ]
        },
        {
          "output_type": "execute_result",
          "data": {
            "text/plain": [
              "array([[ True],\n",
              "       [ True],\n",
              "       [ True],\n",
              "       [ True],\n",
              "       [ True],\n",
              "       [ True],\n",
              "       [ True],\n",
              "       [ True],\n",
              "       [ True],\n",
              "       [ True]])"
            ]
          },
          "metadata": {},
          "execution_count": 60
        }
      ]
    },
    {
      "cell_type": "code",
      "source": [
        "# Load in a model using the .h5 format\n",
        "loaded_h5_model = tf.keras.models.load_model(\"/content/best_model_HDF%_format.h5\")\n",
        "loaded_h5_model.summary()"
      ],
      "metadata": {
        "colab": {
          "base_uri": "https://localhost:8080/"
        },
        "id": "kIbN4oCWm30j",
        "outputId": "6686ef76-9743-4871-fb0d-7014d42068f3"
      },
      "execution_count": 61,
      "outputs": [
        {
          "output_type": "stream",
          "name": "stdout",
          "text": [
            "Model: \"sequential_5\"\n",
            "_________________________________________________________________\n",
            " Layer (type)                Output Shape              Param #   \n",
            "=================================================================\n",
            " dense_6 (Dense)             (None, 10)                20        \n",
            "                                                                 \n",
            " dense_7 (Dense)             (None, 1)                 11        \n",
            "                                                                 \n",
            "=================================================================\n",
            "Total params: 31 (124.00 Byte)\n",
            "Trainable params: 31 (124.00 Byte)\n",
            "Non-trainable params: 0 (0.00 Byte)\n",
            "_________________________________________________________________\n"
          ]
        }
      ]
    },
    {
      "cell_type": "code",
      "source": [
        "# Check to see if predictions match\n",
        "model_2_preds = model_2.predict(X_test)\n",
        "loaded_h5_model_preds = loaded_h5_model.predict(X_test)\n",
        "\n",
        "model_2_preds == loaded_h5_model_preds"
      ],
      "metadata": {
        "colab": {
          "base_uri": "https://localhost:8080/"
        },
        "id": "pBRrn8VRnkIG",
        "outputId": "bb27d9ee-77e2-43c3-caf6-7f6a48acc0a0"
      },
      "execution_count": 62,
      "outputs": [
        {
          "output_type": "stream",
          "name": "stdout",
          "text": [
            "1/1 [==============================] - 0s 43ms/step\n",
            "1/1 [==============================] - 0s 105ms/step\n"
          ]
        },
        {
          "output_type": "execute_result",
          "data": {
            "text/plain": [
              "array([[ True],\n",
              "       [ True],\n",
              "       [ True],\n",
              "       [ True],\n",
              "       [ True],\n",
              "       [ True],\n",
              "       [ True],\n",
              "       [ True],\n",
              "       [ True],\n",
              "       [ True]])"
            ]
          },
          "metadata": {},
          "execution_count": 62
        }
      ]
    },
    {
      "cell_type": "code",
      "source": [],
      "metadata": {
        "id": "tpN7dYfonogl"
      },
      "execution_count": 62,
      "outputs": []
    },
    {
      "cell_type": "markdown",
      "source": [
        "## Downloading a model from Google Colabe\n",
        "\n",
        "if you want to download your file from google colab\n",
        "\n",
        "1. You can go to \"files\" tab and right click on the file and click download\n",
        "2. Use code (see the cell below)"
      ],
      "metadata": {
        "id": "c_JE4eEdoDka"
      }
    },
    {
      "cell_type": "code",
      "source": [
        "# Dowload a file from Google Colab\n",
        "\n",
        "from google.colab import files\n",
        "# files.download(\"/content/best_model_HDF%_format.h5\")\n",
        "\n",
        "\"\"\"Comentei para não baixar toda a vez que eu restartar a operação\"\"\"\n"
      ],
      "metadata": {
        "id": "32xaHYwSoeHh",
        "colab": {
          "base_uri": "https://localhost:8080/",
          "height": 35
        },
        "outputId": "1d80f25f-18a5-4dac-e608-083209026217"
      },
      "execution_count": 63,
      "outputs": [
        {
          "output_type": "execute_result",
          "data": {
            "text/plain": [
              "'Comentei para não baixar toda a vez que eu restartar a operação'"
            ],
            "application/vnd.google.colaboratory.intrinsic+json": {
              "type": "string"
            }
          },
          "metadata": {},
          "execution_count": 63
        }
      ]
    },
    {
      "cell_type": "markdown",
      "source": [
        "## A larger example"
      ],
      "metadata": {
        "id": "duZu7KktpVPC"
      }
    },
    {
      "cell_type": "code",
      "source": [
        "# Import required libraries\n",
        "import tensorflow as tf\n",
        "import pandas as pd\n",
        "import matplotlib.pyplot as plt\n",
        "\n"
      ],
      "metadata": {
        "id": "KToMj5KKpZko"
      },
      "execution_count": 64,
      "outputs": []
    },
    {
      "cell_type": "code",
      "source": [
        "# Read in the insurance dataset\n",
        "insurance = pd.read_csv(\"https://raw.githubusercontent.com/stedy/Machine-Learning-with-R-datasets/master/insurance.csv\")\n",
        "insurance"
      ],
      "metadata": {
        "colab": {
          "base_uri": "https://localhost:8080/",
          "height": 424
        },
        "id": "5Ii1E07_vrdq",
        "outputId": "1ce0ff21-c38d-4d45-b507-af05afc258d8"
      },
      "execution_count": 65,
      "outputs": [
        {
          "output_type": "execute_result",
          "data": {
            "text/plain": [
              "      age     sex     bmi  children smoker     region      charges\n",
              "0      19  female  27.900         0    yes  southwest  16884.92400\n",
              "1      18    male  33.770         1     no  southeast   1725.55230\n",
              "2      28    male  33.000         3     no  southeast   4449.46200\n",
              "3      33    male  22.705         0     no  northwest  21984.47061\n",
              "4      32    male  28.880         0     no  northwest   3866.85520\n",
              "...   ...     ...     ...       ...    ...        ...          ...\n",
              "1333   50    male  30.970         3     no  northwest  10600.54830\n",
              "1334   18  female  31.920         0     no  northeast   2205.98080\n",
              "1335   18  female  36.850         0     no  southeast   1629.83350\n",
              "1336   21  female  25.800         0     no  southwest   2007.94500\n",
              "1337   61  female  29.070         0    yes  northwest  29141.36030\n",
              "\n",
              "[1338 rows x 7 columns]"
            ],
            "text/html": [
              "\n",
              "  <div id=\"df-374df663-3ff7-4197-ab02-4c3cf87510b5\" class=\"colab-df-container\">\n",
              "    <div>\n",
              "<style scoped>\n",
              "    .dataframe tbody tr th:only-of-type {\n",
              "        vertical-align: middle;\n",
              "    }\n",
              "\n",
              "    .dataframe tbody tr th {\n",
              "        vertical-align: top;\n",
              "    }\n",
              "\n",
              "    .dataframe thead th {\n",
              "        text-align: right;\n",
              "    }\n",
              "</style>\n",
              "<table border=\"1\" class=\"dataframe\">\n",
              "  <thead>\n",
              "    <tr style=\"text-align: right;\">\n",
              "      <th></th>\n",
              "      <th>age</th>\n",
              "      <th>sex</th>\n",
              "      <th>bmi</th>\n",
              "      <th>children</th>\n",
              "      <th>smoker</th>\n",
              "      <th>region</th>\n",
              "      <th>charges</th>\n",
              "    </tr>\n",
              "  </thead>\n",
              "  <tbody>\n",
              "    <tr>\n",
              "      <th>0</th>\n",
              "      <td>19</td>\n",
              "      <td>female</td>\n",
              "      <td>27.900</td>\n",
              "      <td>0</td>\n",
              "      <td>yes</td>\n",
              "      <td>southwest</td>\n",
              "      <td>16884.92400</td>\n",
              "    </tr>\n",
              "    <tr>\n",
              "      <th>1</th>\n",
              "      <td>18</td>\n",
              "      <td>male</td>\n",
              "      <td>33.770</td>\n",
              "      <td>1</td>\n",
              "      <td>no</td>\n",
              "      <td>southeast</td>\n",
              "      <td>1725.55230</td>\n",
              "    </tr>\n",
              "    <tr>\n",
              "      <th>2</th>\n",
              "      <td>28</td>\n",
              "      <td>male</td>\n",
              "      <td>33.000</td>\n",
              "      <td>3</td>\n",
              "      <td>no</td>\n",
              "      <td>southeast</td>\n",
              "      <td>4449.46200</td>\n",
              "    </tr>\n",
              "    <tr>\n",
              "      <th>3</th>\n",
              "      <td>33</td>\n",
              "      <td>male</td>\n",
              "      <td>22.705</td>\n",
              "      <td>0</td>\n",
              "      <td>no</td>\n",
              "      <td>northwest</td>\n",
              "      <td>21984.47061</td>\n",
              "    </tr>\n",
              "    <tr>\n",
              "      <th>4</th>\n",
              "      <td>32</td>\n",
              "      <td>male</td>\n",
              "      <td>28.880</td>\n",
              "      <td>0</td>\n",
              "      <td>no</td>\n",
              "      <td>northwest</td>\n",
              "      <td>3866.85520</td>\n",
              "    </tr>\n",
              "    <tr>\n",
              "      <th>...</th>\n",
              "      <td>...</td>\n",
              "      <td>...</td>\n",
              "      <td>...</td>\n",
              "      <td>...</td>\n",
              "      <td>...</td>\n",
              "      <td>...</td>\n",
              "      <td>...</td>\n",
              "    </tr>\n",
              "    <tr>\n",
              "      <th>1333</th>\n",
              "      <td>50</td>\n",
              "      <td>male</td>\n",
              "      <td>30.970</td>\n",
              "      <td>3</td>\n",
              "      <td>no</td>\n",
              "      <td>northwest</td>\n",
              "      <td>10600.54830</td>\n",
              "    </tr>\n",
              "    <tr>\n",
              "      <th>1334</th>\n",
              "      <td>18</td>\n",
              "      <td>female</td>\n",
              "      <td>31.920</td>\n",
              "      <td>0</td>\n",
              "      <td>no</td>\n",
              "      <td>northeast</td>\n",
              "      <td>2205.98080</td>\n",
              "    </tr>\n",
              "    <tr>\n",
              "      <th>1335</th>\n",
              "      <td>18</td>\n",
              "      <td>female</td>\n",
              "      <td>36.850</td>\n",
              "      <td>0</td>\n",
              "      <td>no</td>\n",
              "      <td>southeast</td>\n",
              "      <td>1629.83350</td>\n",
              "    </tr>\n",
              "    <tr>\n",
              "      <th>1336</th>\n",
              "      <td>21</td>\n",
              "      <td>female</td>\n",
              "      <td>25.800</td>\n",
              "      <td>0</td>\n",
              "      <td>no</td>\n",
              "      <td>southwest</td>\n",
              "      <td>2007.94500</td>\n",
              "    </tr>\n",
              "    <tr>\n",
              "      <th>1337</th>\n",
              "      <td>61</td>\n",
              "      <td>female</td>\n",
              "      <td>29.070</td>\n",
              "      <td>0</td>\n",
              "      <td>yes</td>\n",
              "      <td>northwest</td>\n",
              "      <td>29141.36030</td>\n",
              "    </tr>\n",
              "  </tbody>\n",
              "</table>\n",
              "<p>1338 rows × 7 columns</p>\n",
              "</div>\n",
              "    <div class=\"colab-df-buttons\">\n",
              "\n",
              "  <div class=\"colab-df-container\">\n",
              "    <button class=\"colab-df-convert\" onclick=\"convertToInteractive('df-374df663-3ff7-4197-ab02-4c3cf87510b5')\"\n",
              "            title=\"Convert this dataframe to an interactive table.\"\n",
              "            style=\"display:none;\">\n",
              "\n",
              "  <svg xmlns=\"http://www.w3.org/2000/svg\" height=\"24px\" viewBox=\"0 -960 960 960\">\n",
              "    <path d=\"M120-120v-720h720v720H120Zm60-500h600v-160H180v160Zm220 220h160v-160H400v160Zm0 220h160v-160H400v160ZM180-400h160v-160H180v160Zm440 0h160v-160H620v160ZM180-180h160v-160H180v160Zm440 0h160v-160H620v160Z\"/>\n",
              "  </svg>\n",
              "    </button>\n",
              "\n",
              "  <style>\n",
              "    .colab-df-container {\n",
              "      display:flex;\n",
              "      gap: 12px;\n",
              "    }\n",
              "\n",
              "    .colab-df-convert {\n",
              "      background-color: #E8F0FE;\n",
              "      border: none;\n",
              "      border-radius: 50%;\n",
              "      cursor: pointer;\n",
              "      display: none;\n",
              "      fill: #1967D2;\n",
              "      height: 32px;\n",
              "      padding: 0 0 0 0;\n",
              "      width: 32px;\n",
              "    }\n",
              "\n",
              "    .colab-df-convert:hover {\n",
              "      background-color: #E2EBFA;\n",
              "      box-shadow: 0px 1px 2px rgba(60, 64, 67, 0.3), 0px 1px 3px 1px rgba(60, 64, 67, 0.15);\n",
              "      fill: #174EA6;\n",
              "    }\n",
              "\n",
              "    .colab-df-buttons div {\n",
              "      margin-bottom: 4px;\n",
              "    }\n",
              "\n",
              "    [theme=dark] .colab-df-convert {\n",
              "      background-color: #3B4455;\n",
              "      fill: #D2E3FC;\n",
              "    }\n",
              "\n",
              "    [theme=dark] .colab-df-convert:hover {\n",
              "      background-color: #434B5C;\n",
              "      box-shadow: 0px 1px 3px 1px rgba(0, 0, 0, 0.15);\n",
              "      filter: drop-shadow(0px 1px 2px rgba(0, 0, 0, 0.3));\n",
              "      fill: #FFFFFF;\n",
              "    }\n",
              "  </style>\n",
              "\n",
              "    <script>\n",
              "      const buttonEl =\n",
              "        document.querySelector('#df-374df663-3ff7-4197-ab02-4c3cf87510b5 button.colab-df-convert');\n",
              "      buttonEl.style.display =\n",
              "        google.colab.kernel.accessAllowed ? 'block' : 'none';\n",
              "\n",
              "      async function convertToInteractive(key) {\n",
              "        const element = document.querySelector('#df-374df663-3ff7-4197-ab02-4c3cf87510b5');\n",
              "        const dataTable =\n",
              "          await google.colab.kernel.invokeFunction('convertToInteractive',\n",
              "                                                    [key], {});\n",
              "        if (!dataTable) return;\n",
              "\n",
              "        const docLinkHtml = 'Like what you see? Visit the ' +\n",
              "          '<a target=\"_blank\" href=https://colab.research.google.com/notebooks/data_table.ipynb>data table notebook</a>'\n",
              "          + ' to learn more about interactive tables.';\n",
              "        element.innerHTML = '';\n",
              "        dataTable['output_type'] = 'display_data';\n",
              "        await google.colab.output.renderOutput(dataTable, element);\n",
              "        const docLink = document.createElement('div');\n",
              "        docLink.innerHTML = docLinkHtml;\n",
              "        element.appendChild(docLink);\n",
              "      }\n",
              "    </script>\n",
              "  </div>\n",
              "\n",
              "\n",
              "<div id=\"df-bbb0e503-3be8-4a17-b7ce-d3d90847b34e\">\n",
              "  <button class=\"colab-df-quickchart\" onclick=\"quickchart('df-bbb0e503-3be8-4a17-b7ce-d3d90847b34e')\"\n",
              "            title=\"Suggest charts.\"\n",
              "            style=\"display:none;\">\n",
              "\n",
              "<svg xmlns=\"http://www.w3.org/2000/svg\" height=\"24px\"viewBox=\"0 0 24 24\"\n",
              "     width=\"24px\">\n",
              "    <g>\n",
              "        <path d=\"M19 3H5c-1.1 0-2 .9-2 2v14c0 1.1.9 2 2 2h14c1.1 0 2-.9 2-2V5c0-1.1-.9-2-2-2zM9 17H7v-7h2v7zm4 0h-2V7h2v10zm4 0h-2v-4h2v4z\"/>\n",
              "    </g>\n",
              "</svg>\n",
              "  </button>\n",
              "\n",
              "<style>\n",
              "  .colab-df-quickchart {\n",
              "      --bg-color: #E8F0FE;\n",
              "      --fill-color: #1967D2;\n",
              "      --hover-bg-color: #E2EBFA;\n",
              "      --hover-fill-color: #174EA6;\n",
              "      --disabled-fill-color: #AAA;\n",
              "      --disabled-bg-color: #DDD;\n",
              "  }\n",
              "\n",
              "  [theme=dark] .colab-df-quickchart {\n",
              "      --bg-color: #3B4455;\n",
              "      --fill-color: #D2E3FC;\n",
              "      --hover-bg-color: #434B5C;\n",
              "      --hover-fill-color: #FFFFFF;\n",
              "      --disabled-bg-color: #3B4455;\n",
              "      --disabled-fill-color: #666;\n",
              "  }\n",
              "\n",
              "  .colab-df-quickchart {\n",
              "    background-color: var(--bg-color);\n",
              "    border: none;\n",
              "    border-radius: 50%;\n",
              "    cursor: pointer;\n",
              "    display: none;\n",
              "    fill: var(--fill-color);\n",
              "    height: 32px;\n",
              "    padding: 0;\n",
              "    width: 32px;\n",
              "  }\n",
              "\n",
              "  .colab-df-quickchart:hover {\n",
              "    background-color: var(--hover-bg-color);\n",
              "    box-shadow: 0 1px 2px rgba(60, 64, 67, 0.3), 0 1px 3px 1px rgba(60, 64, 67, 0.15);\n",
              "    fill: var(--button-hover-fill-color);\n",
              "  }\n",
              "\n",
              "  .colab-df-quickchart-complete:disabled,\n",
              "  .colab-df-quickchart-complete:disabled:hover {\n",
              "    background-color: var(--disabled-bg-color);\n",
              "    fill: var(--disabled-fill-color);\n",
              "    box-shadow: none;\n",
              "  }\n",
              "\n",
              "  .colab-df-spinner {\n",
              "    border: 2px solid var(--fill-color);\n",
              "    border-color: transparent;\n",
              "    border-bottom-color: var(--fill-color);\n",
              "    animation:\n",
              "      spin 1s steps(1) infinite;\n",
              "  }\n",
              "\n",
              "  @keyframes spin {\n",
              "    0% {\n",
              "      border-color: transparent;\n",
              "      border-bottom-color: var(--fill-color);\n",
              "      border-left-color: var(--fill-color);\n",
              "    }\n",
              "    20% {\n",
              "      border-color: transparent;\n",
              "      border-left-color: var(--fill-color);\n",
              "      border-top-color: var(--fill-color);\n",
              "    }\n",
              "    30% {\n",
              "      border-color: transparent;\n",
              "      border-left-color: var(--fill-color);\n",
              "      border-top-color: var(--fill-color);\n",
              "      border-right-color: var(--fill-color);\n",
              "    }\n",
              "    40% {\n",
              "      border-color: transparent;\n",
              "      border-right-color: var(--fill-color);\n",
              "      border-top-color: var(--fill-color);\n",
              "    }\n",
              "    60% {\n",
              "      border-color: transparent;\n",
              "      border-right-color: var(--fill-color);\n",
              "    }\n",
              "    80% {\n",
              "      border-color: transparent;\n",
              "      border-right-color: var(--fill-color);\n",
              "      border-bottom-color: var(--fill-color);\n",
              "    }\n",
              "    90% {\n",
              "      border-color: transparent;\n",
              "      border-bottom-color: var(--fill-color);\n",
              "    }\n",
              "  }\n",
              "</style>\n",
              "\n",
              "  <script>\n",
              "    async function quickchart(key) {\n",
              "      const quickchartButtonEl =\n",
              "        document.querySelector('#' + key + ' button');\n",
              "      quickchartButtonEl.disabled = true;  // To prevent multiple clicks.\n",
              "      quickchartButtonEl.classList.add('colab-df-spinner');\n",
              "      try {\n",
              "        const charts = await google.colab.kernel.invokeFunction(\n",
              "            'suggestCharts', [key], {});\n",
              "      } catch (error) {\n",
              "        console.error('Error during call to suggestCharts:', error);\n",
              "      }\n",
              "      quickchartButtonEl.classList.remove('colab-df-spinner');\n",
              "      quickchartButtonEl.classList.add('colab-df-quickchart-complete');\n",
              "    }\n",
              "    (() => {\n",
              "      let quickchartButtonEl =\n",
              "        document.querySelector('#df-bbb0e503-3be8-4a17-b7ce-d3d90847b34e button');\n",
              "      quickchartButtonEl.style.display =\n",
              "        google.colab.kernel.accessAllowed ? 'block' : 'none';\n",
              "    })();\n",
              "  </script>\n",
              "</div>\n",
              "    </div>\n",
              "  </div>\n"
            ]
          },
          "metadata": {},
          "execution_count": 65
        }
      ]
    },
    {
      "cell_type": "code",
      "source": [
        "# Let's try one-hot encode DataFrame so it's all numbers\n",
        "insurance_one_hot = pd.get_dummies(insurance)\n",
        "insurance_one_hot.head()"
      ],
      "metadata": {
        "colab": {
          "base_uri": "https://localhost:8080/",
          "height": 226
        },
        "id": "sZYxwDsFwEGx",
        "outputId": "f488bac0-e548-4524-8bc2-123619473697"
      },
      "execution_count": 66,
      "outputs": [
        {
          "output_type": "execute_result",
          "data": {
            "text/plain": [
              "   age     bmi  children      charges  sex_female  sex_male  smoker_no  \\\n",
              "0   19  27.900         0  16884.92400           1         0          0   \n",
              "1   18  33.770         1   1725.55230           0         1          1   \n",
              "2   28  33.000         3   4449.46200           0         1          1   \n",
              "3   33  22.705         0  21984.47061           0         1          1   \n",
              "4   32  28.880         0   3866.85520           0         1          1   \n",
              "\n",
              "   smoker_yes  region_northeast  region_northwest  region_southeast  \\\n",
              "0           1                 0                 0                 0   \n",
              "1           0                 0                 0                 1   \n",
              "2           0                 0                 0                 1   \n",
              "3           0                 0                 1                 0   \n",
              "4           0                 0                 1                 0   \n",
              "\n",
              "   region_southwest  \n",
              "0                 1  \n",
              "1                 0  \n",
              "2                 0  \n",
              "3                 0  \n",
              "4                 0  "
            ],
            "text/html": [
              "\n",
              "  <div id=\"df-07230309-a648-44bf-811e-afb79b419df9\" class=\"colab-df-container\">\n",
              "    <div>\n",
              "<style scoped>\n",
              "    .dataframe tbody tr th:only-of-type {\n",
              "        vertical-align: middle;\n",
              "    }\n",
              "\n",
              "    .dataframe tbody tr th {\n",
              "        vertical-align: top;\n",
              "    }\n",
              "\n",
              "    .dataframe thead th {\n",
              "        text-align: right;\n",
              "    }\n",
              "</style>\n",
              "<table border=\"1\" class=\"dataframe\">\n",
              "  <thead>\n",
              "    <tr style=\"text-align: right;\">\n",
              "      <th></th>\n",
              "      <th>age</th>\n",
              "      <th>bmi</th>\n",
              "      <th>children</th>\n",
              "      <th>charges</th>\n",
              "      <th>sex_female</th>\n",
              "      <th>sex_male</th>\n",
              "      <th>smoker_no</th>\n",
              "      <th>smoker_yes</th>\n",
              "      <th>region_northeast</th>\n",
              "      <th>region_northwest</th>\n",
              "      <th>region_southeast</th>\n",
              "      <th>region_southwest</th>\n",
              "    </tr>\n",
              "  </thead>\n",
              "  <tbody>\n",
              "    <tr>\n",
              "      <th>0</th>\n",
              "      <td>19</td>\n",
              "      <td>27.900</td>\n",
              "      <td>0</td>\n",
              "      <td>16884.92400</td>\n",
              "      <td>1</td>\n",
              "      <td>0</td>\n",
              "      <td>0</td>\n",
              "      <td>1</td>\n",
              "      <td>0</td>\n",
              "      <td>0</td>\n",
              "      <td>0</td>\n",
              "      <td>1</td>\n",
              "    </tr>\n",
              "    <tr>\n",
              "      <th>1</th>\n",
              "      <td>18</td>\n",
              "      <td>33.770</td>\n",
              "      <td>1</td>\n",
              "      <td>1725.55230</td>\n",
              "      <td>0</td>\n",
              "      <td>1</td>\n",
              "      <td>1</td>\n",
              "      <td>0</td>\n",
              "      <td>0</td>\n",
              "      <td>0</td>\n",
              "      <td>1</td>\n",
              "      <td>0</td>\n",
              "    </tr>\n",
              "    <tr>\n",
              "      <th>2</th>\n",
              "      <td>28</td>\n",
              "      <td>33.000</td>\n",
              "      <td>3</td>\n",
              "      <td>4449.46200</td>\n",
              "      <td>0</td>\n",
              "      <td>1</td>\n",
              "      <td>1</td>\n",
              "      <td>0</td>\n",
              "      <td>0</td>\n",
              "      <td>0</td>\n",
              "      <td>1</td>\n",
              "      <td>0</td>\n",
              "    </tr>\n",
              "    <tr>\n",
              "      <th>3</th>\n",
              "      <td>33</td>\n",
              "      <td>22.705</td>\n",
              "      <td>0</td>\n",
              "      <td>21984.47061</td>\n",
              "      <td>0</td>\n",
              "      <td>1</td>\n",
              "      <td>1</td>\n",
              "      <td>0</td>\n",
              "      <td>0</td>\n",
              "      <td>1</td>\n",
              "      <td>0</td>\n",
              "      <td>0</td>\n",
              "    </tr>\n",
              "    <tr>\n",
              "      <th>4</th>\n",
              "      <td>32</td>\n",
              "      <td>28.880</td>\n",
              "      <td>0</td>\n",
              "      <td>3866.85520</td>\n",
              "      <td>0</td>\n",
              "      <td>1</td>\n",
              "      <td>1</td>\n",
              "      <td>0</td>\n",
              "      <td>0</td>\n",
              "      <td>1</td>\n",
              "      <td>0</td>\n",
              "      <td>0</td>\n",
              "    </tr>\n",
              "  </tbody>\n",
              "</table>\n",
              "</div>\n",
              "    <div class=\"colab-df-buttons\">\n",
              "\n",
              "  <div class=\"colab-df-container\">\n",
              "    <button class=\"colab-df-convert\" onclick=\"convertToInteractive('df-07230309-a648-44bf-811e-afb79b419df9')\"\n",
              "            title=\"Convert this dataframe to an interactive table.\"\n",
              "            style=\"display:none;\">\n",
              "\n",
              "  <svg xmlns=\"http://www.w3.org/2000/svg\" height=\"24px\" viewBox=\"0 -960 960 960\">\n",
              "    <path d=\"M120-120v-720h720v720H120Zm60-500h600v-160H180v160Zm220 220h160v-160H400v160Zm0 220h160v-160H400v160ZM180-400h160v-160H180v160Zm440 0h160v-160H620v160ZM180-180h160v-160H180v160Zm440 0h160v-160H620v160Z\"/>\n",
              "  </svg>\n",
              "    </button>\n",
              "\n",
              "  <style>\n",
              "    .colab-df-container {\n",
              "      display:flex;\n",
              "      gap: 12px;\n",
              "    }\n",
              "\n",
              "    .colab-df-convert {\n",
              "      background-color: #E8F0FE;\n",
              "      border: none;\n",
              "      border-radius: 50%;\n",
              "      cursor: pointer;\n",
              "      display: none;\n",
              "      fill: #1967D2;\n",
              "      height: 32px;\n",
              "      padding: 0 0 0 0;\n",
              "      width: 32px;\n",
              "    }\n",
              "\n",
              "    .colab-df-convert:hover {\n",
              "      background-color: #E2EBFA;\n",
              "      box-shadow: 0px 1px 2px rgba(60, 64, 67, 0.3), 0px 1px 3px 1px rgba(60, 64, 67, 0.15);\n",
              "      fill: #174EA6;\n",
              "    }\n",
              "\n",
              "    .colab-df-buttons div {\n",
              "      margin-bottom: 4px;\n",
              "    }\n",
              "\n",
              "    [theme=dark] .colab-df-convert {\n",
              "      background-color: #3B4455;\n",
              "      fill: #D2E3FC;\n",
              "    }\n",
              "\n",
              "    [theme=dark] .colab-df-convert:hover {\n",
              "      background-color: #434B5C;\n",
              "      box-shadow: 0px 1px 3px 1px rgba(0, 0, 0, 0.15);\n",
              "      filter: drop-shadow(0px 1px 2px rgba(0, 0, 0, 0.3));\n",
              "      fill: #FFFFFF;\n",
              "    }\n",
              "  </style>\n",
              "\n",
              "    <script>\n",
              "      const buttonEl =\n",
              "        document.querySelector('#df-07230309-a648-44bf-811e-afb79b419df9 button.colab-df-convert');\n",
              "      buttonEl.style.display =\n",
              "        google.colab.kernel.accessAllowed ? 'block' : 'none';\n",
              "\n",
              "      async function convertToInteractive(key) {\n",
              "        const element = document.querySelector('#df-07230309-a648-44bf-811e-afb79b419df9');\n",
              "        const dataTable =\n",
              "          await google.colab.kernel.invokeFunction('convertToInteractive',\n",
              "                                                    [key], {});\n",
              "        if (!dataTable) return;\n",
              "\n",
              "        const docLinkHtml = 'Like what you see? Visit the ' +\n",
              "          '<a target=\"_blank\" href=https://colab.research.google.com/notebooks/data_table.ipynb>data table notebook</a>'\n",
              "          + ' to learn more about interactive tables.';\n",
              "        element.innerHTML = '';\n",
              "        dataTable['output_type'] = 'display_data';\n",
              "        await google.colab.output.renderOutput(dataTable, element);\n",
              "        const docLink = document.createElement('div');\n",
              "        docLink.innerHTML = docLinkHtml;\n",
              "        element.appendChild(docLink);\n",
              "      }\n",
              "    </script>\n",
              "  </div>\n",
              "\n",
              "\n",
              "<div id=\"df-9d35eb69-7a24-44e0-82e6-a8c542e49993\">\n",
              "  <button class=\"colab-df-quickchart\" onclick=\"quickchart('df-9d35eb69-7a24-44e0-82e6-a8c542e49993')\"\n",
              "            title=\"Suggest charts.\"\n",
              "            style=\"display:none;\">\n",
              "\n",
              "<svg xmlns=\"http://www.w3.org/2000/svg\" height=\"24px\"viewBox=\"0 0 24 24\"\n",
              "     width=\"24px\">\n",
              "    <g>\n",
              "        <path d=\"M19 3H5c-1.1 0-2 .9-2 2v14c0 1.1.9 2 2 2h14c1.1 0 2-.9 2-2V5c0-1.1-.9-2-2-2zM9 17H7v-7h2v7zm4 0h-2V7h2v10zm4 0h-2v-4h2v4z\"/>\n",
              "    </g>\n",
              "</svg>\n",
              "  </button>\n",
              "\n",
              "<style>\n",
              "  .colab-df-quickchart {\n",
              "      --bg-color: #E8F0FE;\n",
              "      --fill-color: #1967D2;\n",
              "      --hover-bg-color: #E2EBFA;\n",
              "      --hover-fill-color: #174EA6;\n",
              "      --disabled-fill-color: #AAA;\n",
              "      --disabled-bg-color: #DDD;\n",
              "  }\n",
              "\n",
              "  [theme=dark] .colab-df-quickchart {\n",
              "      --bg-color: #3B4455;\n",
              "      --fill-color: #D2E3FC;\n",
              "      --hover-bg-color: #434B5C;\n",
              "      --hover-fill-color: #FFFFFF;\n",
              "      --disabled-bg-color: #3B4455;\n",
              "      --disabled-fill-color: #666;\n",
              "  }\n",
              "\n",
              "  .colab-df-quickchart {\n",
              "    background-color: var(--bg-color);\n",
              "    border: none;\n",
              "    border-radius: 50%;\n",
              "    cursor: pointer;\n",
              "    display: none;\n",
              "    fill: var(--fill-color);\n",
              "    height: 32px;\n",
              "    padding: 0;\n",
              "    width: 32px;\n",
              "  }\n",
              "\n",
              "  .colab-df-quickchart:hover {\n",
              "    background-color: var(--hover-bg-color);\n",
              "    box-shadow: 0 1px 2px rgba(60, 64, 67, 0.3), 0 1px 3px 1px rgba(60, 64, 67, 0.15);\n",
              "    fill: var(--button-hover-fill-color);\n",
              "  }\n",
              "\n",
              "  .colab-df-quickchart-complete:disabled,\n",
              "  .colab-df-quickchart-complete:disabled:hover {\n",
              "    background-color: var(--disabled-bg-color);\n",
              "    fill: var(--disabled-fill-color);\n",
              "    box-shadow: none;\n",
              "  }\n",
              "\n",
              "  .colab-df-spinner {\n",
              "    border: 2px solid var(--fill-color);\n",
              "    border-color: transparent;\n",
              "    border-bottom-color: var(--fill-color);\n",
              "    animation:\n",
              "      spin 1s steps(1) infinite;\n",
              "  }\n",
              "\n",
              "  @keyframes spin {\n",
              "    0% {\n",
              "      border-color: transparent;\n",
              "      border-bottom-color: var(--fill-color);\n",
              "      border-left-color: var(--fill-color);\n",
              "    }\n",
              "    20% {\n",
              "      border-color: transparent;\n",
              "      border-left-color: var(--fill-color);\n",
              "      border-top-color: var(--fill-color);\n",
              "    }\n",
              "    30% {\n",
              "      border-color: transparent;\n",
              "      border-left-color: var(--fill-color);\n",
              "      border-top-color: var(--fill-color);\n",
              "      border-right-color: var(--fill-color);\n",
              "    }\n",
              "    40% {\n",
              "      border-color: transparent;\n",
              "      border-right-color: var(--fill-color);\n",
              "      border-top-color: var(--fill-color);\n",
              "    }\n",
              "    60% {\n",
              "      border-color: transparent;\n",
              "      border-right-color: var(--fill-color);\n",
              "    }\n",
              "    80% {\n",
              "      border-color: transparent;\n",
              "      border-right-color: var(--fill-color);\n",
              "      border-bottom-color: var(--fill-color);\n",
              "    }\n",
              "    90% {\n",
              "      border-color: transparent;\n",
              "      border-bottom-color: var(--fill-color);\n",
              "    }\n",
              "  }\n",
              "</style>\n",
              "\n",
              "  <script>\n",
              "    async function quickchart(key) {\n",
              "      const quickchartButtonEl =\n",
              "        document.querySelector('#' + key + ' button');\n",
              "      quickchartButtonEl.disabled = true;  // To prevent multiple clicks.\n",
              "      quickchartButtonEl.classList.add('colab-df-spinner');\n",
              "      try {\n",
              "        const charts = await google.colab.kernel.invokeFunction(\n",
              "            'suggestCharts', [key], {});\n",
              "      } catch (error) {\n",
              "        console.error('Error during call to suggestCharts:', error);\n",
              "      }\n",
              "      quickchartButtonEl.classList.remove('colab-df-spinner');\n",
              "      quickchartButtonEl.classList.add('colab-df-quickchart-complete');\n",
              "    }\n",
              "    (() => {\n",
              "      let quickchartButtonEl =\n",
              "        document.querySelector('#df-9d35eb69-7a24-44e0-82e6-a8c542e49993 button');\n",
              "      quickchartButtonEl.style.display =\n",
              "        google.colab.kernel.accessAllowed ? 'block' : 'none';\n",
              "    })();\n",
              "  </script>\n",
              "</div>\n",
              "    </div>\n",
              "  </div>\n"
            ]
          },
          "metadata": {},
          "execution_count": 66
        }
      ]
    },
    {
      "cell_type": "code",
      "source": [
        "# Create a X and y Values (features and labels)\n",
        "X = insurance_one_hot.drop(\"charges\", axis=1)\n",
        "y = insurance_one_hot[\"charges\"]\n"
      ],
      "metadata": {
        "id": "-MSRJLDPw_Fk"
      },
      "execution_count": 67,
      "outputs": []
    },
    {
      "cell_type": "code",
      "source": [
        "X.head()"
      ],
      "metadata": {
        "colab": {
          "base_uri": "https://localhost:8080/",
          "height": 226
        },
        "id": "_6kS92R7yDQU",
        "outputId": "7448579c-4e4f-4e15-9d8e-6ad9ff3823f1"
      },
      "execution_count": 68,
      "outputs": [
        {
          "output_type": "execute_result",
          "data": {
            "text/plain": [
              "   age     bmi  children  sex_female  sex_male  smoker_no  smoker_yes  \\\n",
              "0   19  27.900         0           1         0          0           1   \n",
              "1   18  33.770         1           0         1          1           0   \n",
              "2   28  33.000         3           0         1          1           0   \n",
              "3   33  22.705         0           0         1          1           0   \n",
              "4   32  28.880         0           0         1          1           0   \n",
              "\n",
              "   region_northeast  region_northwest  region_southeast  region_southwest  \n",
              "0                 0                 0                 0                 1  \n",
              "1                 0                 0                 1                 0  \n",
              "2                 0                 0                 1                 0  \n",
              "3                 0                 1                 0                 0  \n",
              "4                 0                 1                 0                 0  "
            ],
            "text/html": [
              "\n",
              "  <div id=\"df-a78eede2-06b1-4ba8-be44-66b084355a02\" class=\"colab-df-container\">\n",
              "    <div>\n",
              "<style scoped>\n",
              "    .dataframe tbody tr th:only-of-type {\n",
              "        vertical-align: middle;\n",
              "    }\n",
              "\n",
              "    .dataframe tbody tr th {\n",
              "        vertical-align: top;\n",
              "    }\n",
              "\n",
              "    .dataframe thead th {\n",
              "        text-align: right;\n",
              "    }\n",
              "</style>\n",
              "<table border=\"1\" class=\"dataframe\">\n",
              "  <thead>\n",
              "    <tr style=\"text-align: right;\">\n",
              "      <th></th>\n",
              "      <th>age</th>\n",
              "      <th>bmi</th>\n",
              "      <th>children</th>\n",
              "      <th>sex_female</th>\n",
              "      <th>sex_male</th>\n",
              "      <th>smoker_no</th>\n",
              "      <th>smoker_yes</th>\n",
              "      <th>region_northeast</th>\n",
              "      <th>region_northwest</th>\n",
              "      <th>region_southeast</th>\n",
              "      <th>region_southwest</th>\n",
              "    </tr>\n",
              "  </thead>\n",
              "  <tbody>\n",
              "    <tr>\n",
              "      <th>0</th>\n",
              "      <td>19</td>\n",
              "      <td>27.900</td>\n",
              "      <td>0</td>\n",
              "      <td>1</td>\n",
              "      <td>0</td>\n",
              "      <td>0</td>\n",
              "      <td>1</td>\n",
              "      <td>0</td>\n",
              "      <td>0</td>\n",
              "      <td>0</td>\n",
              "      <td>1</td>\n",
              "    </tr>\n",
              "    <tr>\n",
              "      <th>1</th>\n",
              "      <td>18</td>\n",
              "      <td>33.770</td>\n",
              "      <td>1</td>\n",
              "      <td>0</td>\n",
              "      <td>1</td>\n",
              "      <td>1</td>\n",
              "      <td>0</td>\n",
              "      <td>0</td>\n",
              "      <td>0</td>\n",
              "      <td>1</td>\n",
              "      <td>0</td>\n",
              "    </tr>\n",
              "    <tr>\n",
              "      <th>2</th>\n",
              "      <td>28</td>\n",
              "      <td>33.000</td>\n",
              "      <td>3</td>\n",
              "      <td>0</td>\n",
              "      <td>1</td>\n",
              "      <td>1</td>\n",
              "      <td>0</td>\n",
              "      <td>0</td>\n",
              "      <td>0</td>\n",
              "      <td>1</td>\n",
              "      <td>0</td>\n",
              "    </tr>\n",
              "    <tr>\n",
              "      <th>3</th>\n",
              "      <td>33</td>\n",
              "      <td>22.705</td>\n",
              "      <td>0</td>\n",
              "      <td>0</td>\n",
              "      <td>1</td>\n",
              "      <td>1</td>\n",
              "      <td>0</td>\n",
              "      <td>0</td>\n",
              "      <td>1</td>\n",
              "      <td>0</td>\n",
              "      <td>0</td>\n",
              "    </tr>\n",
              "    <tr>\n",
              "      <th>4</th>\n",
              "      <td>32</td>\n",
              "      <td>28.880</td>\n",
              "      <td>0</td>\n",
              "      <td>0</td>\n",
              "      <td>1</td>\n",
              "      <td>1</td>\n",
              "      <td>0</td>\n",
              "      <td>0</td>\n",
              "      <td>1</td>\n",
              "      <td>0</td>\n",
              "      <td>0</td>\n",
              "    </tr>\n",
              "  </tbody>\n",
              "</table>\n",
              "</div>\n",
              "    <div class=\"colab-df-buttons\">\n",
              "\n",
              "  <div class=\"colab-df-container\">\n",
              "    <button class=\"colab-df-convert\" onclick=\"convertToInteractive('df-a78eede2-06b1-4ba8-be44-66b084355a02')\"\n",
              "            title=\"Convert this dataframe to an interactive table.\"\n",
              "            style=\"display:none;\">\n",
              "\n",
              "  <svg xmlns=\"http://www.w3.org/2000/svg\" height=\"24px\" viewBox=\"0 -960 960 960\">\n",
              "    <path d=\"M120-120v-720h720v720H120Zm60-500h600v-160H180v160Zm220 220h160v-160H400v160Zm0 220h160v-160H400v160ZM180-400h160v-160H180v160Zm440 0h160v-160H620v160ZM180-180h160v-160H180v160Zm440 0h160v-160H620v160Z\"/>\n",
              "  </svg>\n",
              "    </button>\n",
              "\n",
              "  <style>\n",
              "    .colab-df-container {\n",
              "      display:flex;\n",
              "      gap: 12px;\n",
              "    }\n",
              "\n",
              "    .colab-df-convert {\n",
              "      background-color: #E8F0FE;\n",
              "      border: none;\n",
              "      border-radius: 50%;\n",
              "      cursor: pointer;\n",
              "      display: none;\n",
              "      fill: #1967D2;\n",
              "      height: 32px;\n",
              "      padding: 0 0 0 0;\n",
              "      width: 32px;\n",
              "    }\n",
              "\n",
              "    .colab-df-convert:hover {\n",
              "      background-color: #E2EBFA;\n",
              "      box-shadow: 0px 1px 2px rgba(60, 64, 67, 0.3), 0px 1px 3px 1px rgba(60, 64, 67, 0.15);\n",
              "      fill: #174EA6;\n",
              "    }\n",
              "\n",
              "    .colab-df-buttons div {\n",
              "      margin-bottom: 4px;\n",
              "    }\n",
              "\n",
              "    [theme=dark] .colab-df-convert {\n",
              "      background-color: #3B4455;\n",
              "      fill: #D2E3FC;\n",
              "    }\n",
              "\n",
              "    [theme=dark] .colab-df-convert:hover {\n",
              "      background-color: #434B5C;\n",
              "      box-shadow: 0px 1px 3px 1px rgba(0, 0, 0, 0.15);\n",
              "      filter: drop-shadow(0px 1px 2px rgba(0, 0, 0, 0.3));\n",
              "      fill: #FFFFFF;\n",
              "    }\n",
              "  </style>\n",
              "\n",
              "    <script>\n",
              "      const buttonEl =\n",
              "        document.querySelector('#df-a78eede2-06b1-4ba8-be44-66b084355a02 button.colab-df-convert');\n",
              "      buttonEl.style.display =\n",
              "        google.colab.kernel.accessAllowed ? 'block' : 'none';\n",
              "\n",
              "      async function convertToInteractive(key) {\n",
              "        const element = document.querySelector('#df-a78eede2-06b1-4ba8-be44-66b084355a02');\n",
              "        const dataTable =\n",
              "          await google.colab.kernel.invokeFunction('convertToInteractive',\n",
              "                                                    [key], {});\n",
              "        if (!dataTable) return;\n",
              "\n",
              "        const docLinkHtml = 'Like what you see? Visit the ' +\n",
              "          '<a target=\"_blank\" href=https://colab.research.google.com/notebooks/data_table.ipynb>data table notebook</a>'\n",
              "          + ' to learn more about interactive tables.';\n",
              "        element.innerHTML = '';\n",
              "        dataTable['output_type'] = 'display_data';\n",
              "        await google.colab.output.renderOutput(dataTable, element);\n",
              "        const docLink = document.createElement('div');\n",
              "        docLink.innerHTML = docLinkHtml;\n",
              "        element.appendChild(docLink);\n",
              "      }\n",
              "    </script>\n",
              "  </div>\n",
              "\n",
              "\n",
              "<div id=\"df-f19fddb5-1a63-4a24-b18f-8069c4315d0b\">\n",
              "  <button class=\"colab-df-quickchart\" onclick=\"quickchart('df-f19fddb5-1a63-4a24-b18f-8069c4315d0b')\"\n",
              "            title=\"Suggest charts.\"\n",
              "            style=\"display:none;\">\n",
              "\n",
              "<svg xmlns=\"http://www.w3.org/2000/svg\" height=\"24px\"viewBox=\"0 0 24 24\"\n",
              "     width=\"24px\">\n",
              "    <g>\n",
              "        <path d=\"M19 3H5c-1.1 0-2 .9-2 2v14c0 1.1.9 2 2 2h14c1.1 0 2-.9 2-2V5c0-1.1-.9-2-2-2zM9 17H7v-7h2v7zm4 0h-2V7h2v10zm4 0h-2v-4h2v4z\"/>\n",
              "    </g>\n",
              "</svg>\n",
              "  </button>\n",
              "\n",
              "<style>\n",
              "  .colab-df-quickchart {\n",
              "      --bg-color: #E8F0FE;\n",
              "      --fill-color: #1967D2;\n",
              "      --hover-bg-color: #E2EBFA;\n",
              "      --hover-fill-color: #174EA6;\n",
              "      --disabled-fill-color: #AAA;\n",
              "      --disabled-bg-color: #DDD;\n",
              "  }\n",
              "\n",
              "  [theme=dark] .colab-df-quickchart {\n",
              "      --bg-color: #3B4455;\n",
              "      --fill-color: #D2E3FC;\n",
              "      --hover-bg-color: #434B5C;\n",
              "      --hover-fill-color: #FFFFFF;\n",
              "      --disabled-bg-color: #3B4455;\n",
              "      --disabled-fill-color: #666;\n",
              "  }\n",
              "\n",
              "  .colab-df-quickchart {\n",
              "    background-color: var(--bg-color);\n",
              "    border: none;\n",
              "    border-radius: 50%;\n",
              "    cursor: pointer;\n",
              "    display: none;\n",
              "    fill: var(--fill-color);\n",
              "    height: 32px;\n",
              "    padding: 0;\n",
              "    width: 32px;\n",
              "  }\n",
              "\n",
              "  .colab-df-quickchart:hover {\n",
              "    background-color: var(--hover-bg-color);\n",
              "    box-shadow: 0 1px 2px rgba(60, 64, 67, 0.3), 0 1px 3px 1px rgba(60, 64, 67, 0.15);\n",
              "    fill: var(--button-hover-fill-color);\n",
              "  }\n",
              "\n",
              "  .colab-df-quickchart-complete:disabled,\n",
              "  .colab-df-quickchart-complete:disabled:hover {\n",
              "    background-color: var(--disabled-bg-color);\n",
              "    fill: var(--disabled-fill-color);\n",
              "    box-shadow: none;\n",
              "  }\n",
              "\n",
              "  .colab-df-spinner {\n",
              "    border: 2px solid var(--fill-color);\n",
              "    border-color: transparent;\n",
              "    border-bottom-color: var(--fill-color);\n",
              "    animation:\n",
              "      spin 1s steps(1) infinite;\n",
              "  }\n",
              "\n",
              "  @keyframes spin {\n",
              "    0% {\n",
              "      border-color: transparent;\n",
              "      border-bottom-color: var(--fill-color);\n",
              "      border-left-color: var(--fill-color);\n",
              "    }\n",
              "    20% {\n",
              "      border-color: transparent;\n",
              "      border-left-color: var(--fill-color);\n",
              "      border-top-color: var(--fill-color);\n",
              "    }\n",
              "    30% {\n",
              "      border-color: transparent;\n",
              "      border-left-color: var(--fill-color);\n",
              "      border-top-color: var(--fill-color);\n",
              "      border-right-color: var(--fill-color);\n",
              "    }\n",
              "    40% {\n",
              "      border-color: transparent;\n",
              "      border-right-color: var(--fill-color);\n",
              "      border-top-color: var(--fill-color);\n",
              "    }\n",
              "    60% {\n",
              "      border-color: transparent;\n",
              "      border-right-color: var(--fill-color);\n",
              "    }\n",
              "    80% {\n",
              "      border-color: transparent;\n",
              "      border-right-color: var(--fill-color);\n",
              "      border-bottom-color: var(--fill-color);\n",
              "    }\n",
              "    90% {\n",
              "      border-color: transparent;\n",
              "      border-bottom-color: var(--fill-color);\n",
              "    }\n",
              "  }\n",
              "</style>\n",
              "\n",
              "  <script>\n",
              "    async function quickchart(key) {\n",
              "      const quickchartButtonEl =\n",
              "        document.querySelector('#' + key + ' button');\n",
              "      quickchartButtonEl.disabled = true;  // To prevent multiple clicks.\n",
              "      quickchartButtonEl.classList.add('colab-df-spinner');\n",
              "      try {\n",
              "        const charts = await google.colab.kernel.invokeFunction(\n",
              "            'suggestCharts', [key], {});\n",
              "      } catch (error) {\n",
              "        console.error('Error during call to suggestCharts:', error);\n",
              "      }\n",
              "      quickchartButtonEl.classList.remove('colab-df-spinner');\n",
              "      quickchartButtonEl.classList.add('colab-df-quickchart-complete');\n",
              "    }\n",
              "    (() => {\n",
              "      let quickchartButtonEl =\n",
              "        document.querySelector('#df-f19fddb5-1a63-4a24-b18f-8069c4315d0b button');\n",
              "      quickchartButtonEl.style.display =\n",
              "        google.colab.kernel.accessAllowed ? 'block' : 'none';\n",
              "    })();\n",
              "  </script>\n",
              "</div>\n",
              "    </div>\n",
              "  </div>\n"
            ]
          },
          "metadata": {},
          "execution_count": 68
        }
      ]
    },
    {
      "cell_type": "code",
      "source": [
        "y.head()"
      ],
      "metadata": {
        "colab": {
          "base_uri": "https://localhost:8080/"
        },
        "id": "8GG8pRYsyFaU",
        "outputId": "b7ee1c9e-ecbc-4adb-87d2-8b02493a2450"
      },
      "execution_count": 69,
      "outputs": [
        {
          "output_type": "execute_result",
          "data": {
            "text/plain": [
              "0    16884.92400\n",
              "1     1725.55230\n",
              "2     4449.46200\n",
              "3    21984.47061\n",
              "4     3866.85520\n",
              "Name: charges, dtype: float64"
            ]
          },
          "metadata": {},
          "execution_count": 69
        }
      ]
    },
    {
      "cell_type": "code",
      "source": [
        "# Create training and test sets\n",
        "from sklearn.model_selection import train_test_split\n",
        "X_train, X_test, y_train, y_test = train_test_split(X, y, test_size=0.2, random_state=42)\n",
        "len(X), len(X_train), len(X_test)"
      ],
      "metadata": {
        "colab": {
          "base_uri": "https://localhost:8080/"
        },
        "id": "KO5DYEQxyKjG",
        "outputId": "58a7b875-d657-4170-cc20-e50e8e086adb"
      },
      "execution_count": 70,
      "outputs": [
        {
          "output_type": "execute_result",
          "data": {
            "text/plain": [
              "(1338, 1070, 268)"
            ]
          },
          "metadata": {},
          "execution_count": 70
        }
      ]
    },
    {
      "cell_type": "code",
      "source": [
        "# Buid a neural network\n",
        "tf.random.set_seed(42)\n",
        "\n",
        "# 1. Create a model\n",
        "insurance_model = tf.keras.Sequential([\n",
        "    tf.keras.layers.Dense(10),\n",
        "    tf.keras.layers.Dense(1)\n",
        "])\n",
        "\n",
        "# 2. Compile the model\n",
        "insurance_model.compile(loss=tf.keras.losses.mae,\n",
        "                        optimizer=tf.keras.optimizers.SGD(),\n",
        "                        metrics=[\"mae\"])\n",
        "\n",
        "# 3. fit the model\n",
        "\n",
        "insurance_model.fit(X_train, y_train, epochs=100)"
      ],
      "metadata": {
        "colab": {
          "base_uri": "https://localhost:8080/"
        },
        "id": "lu1o4YK9zFiX",
        "outputId": "8a5a8ea3-e88c-494e-e224-1f34b5294958"
      },
      "execution_count": 71,
      "outputs": [
        {
          "output_type": "stream",
          "name": "stdout",
          "text": [
            "Epoch 1/100\n",
            "34/34 [==============================] - 0s 1ms/step - loss: 8631.3535 - mae: 8631.3535\n",
            "Epoch 2/100\n",
            "34/34 [==============================] - 0s 1ms/step - loss: 7884.8354 - mae: 7884.8354\n",
            "Epoch 3/100\n",
            "34/34 [==============================] - 0s 953us/step - loss: 7583.3672 - mae: 7583.3672\n",
            "Epoch 4/100\n",
            "34/34 [==============================] - 0s 994us/step - loss: 7782.2583 - mae: 7782.2583\n",
            "Epoch 5/100\n",
            "34/34 [==============================] - 0s 999us/step - loss: 7663.3813 - mae: 7663.3813\n",
            "Epoch 6/100\n",
            "34/34 [==============================] - 0s 1ms/step - loss: 7610.3730 - mae: 7610.3730\n",
            "Epoch 7/100\n",
            "34/34 [==============================] - 0s 986us/step - loss: 7563.7373 - mae: 7563.7373\n",
            "Epoch 8/100\n",
            "34/34 [==============================] - 0s 951us/step - loss: 7722.2959 - mae: 7722.2959\n",
            "Epoch 9/100\n",
            "34/34 [==============================] - 0s 958us/step - loss: 7520.1113 - mae: 7520.1113\n",
            "Epoch 10/100\n",
            "34/34 [==============================] - 0s 990us/step - loss: 7702.6152 - mae: 7702.6152\n",
            "Epoch 11/100\n",
            "34/34 [==============================] - 0s 1ms/step - loss: 7514.0259 - mae: 7514.0259\n",
            "Epoch 12/100\n",
            "34/34 [==============================] - 0s 952us/step - loss: 7661.7173 - mae: 7661.7173\n",
            "Epoch 13/100\n",
            "34/34 [==============================] - 0s 1ms/step - loss: 7713.0366 - mae: 7713.0366\n",
            "Epoch 14/100\n",
            "34/34 [==============================] - 0s 1ms/step - loss: 7680.7505 - mae: 7680.7505\n",
            "Epoch 15/100\n",
            "34/34 [==============================] - 0s 1ms/step - loss: 7558.3320 - mae: 7558.3320\n",
            "Epoch 16/100\n",
            "34/34 [==============================] - 0s 1ms/step - loss: 7673.3457 - mae: 7673.3457\n",
            "Epoch 17/100\n",
            "34/34 [==============================] - 0s 1ms/step - loss: 7574.4570 - mae: 7574.4570\n",
            "Epoch 18/100\n",
            "34/34 [==============================] - 0s 1ms/step - loss: 7663.3940 - mae: 7663.3940\n",
            "Epoch 19/100\n",
            "34/34 [==============================] - 0s 1ms/step - loss: 7758.1953 - mae: 7758.1953\n",
            "Epoch 20/100\n",
            "34/34 [==============================] - 0s 990us/step - loss: 7861.1812 - mae: 7861.1812\n",
            "Epoch 21/100\n",
            "34/34 [==============================] - 0s 1ms/step - loss: 7487.2715 - mae: 7487.2715\n",
            "Epoch 22/100\n",
            "34/34 [==============================] - 0s 1ms/step - loss: 7844.6973 - mae: 7844.6973\n",
            "Epoch 23/100\n",
            "34/34 [==============================] - 0s 973us/step - loss: 7640.1504 - mae: 7640.1504\n",
            "Epoch 24/100\n",
            "34/34 [==============================] - 0s 1ms/step - loss: 7567.0933 - mae: 7567.0933\n",
            "Epoch 25/100\n",
            "34/34 [==============================] - 0s 1ms/step - loss: 7688.5566 - mae: 7688.5566\n",
            "Epoch 26/100\n",
            "34/34 [==============================] - 0s 1ms/step - loss: 7646.2642 - mae: 7646.2642\n",
            "Epoch 27/100\n",
            "34/34 [==============================] - 0s 977us/step - loss: 7556.3467 - mae: 7556.3467\n",
            "Epoch 28/100\n",
            "34/34 [==============================] - 0s 958us/step - loss: 7412.7139 - mae: 7412.7139\n",
            "Epoch 29/100\n",
            "34/34 [==============================] - 0s 1ms/step - loss: 7680.0020 - mae: 7680.0020\n",
            "Epoch 30/100\n",
            "34/34 [==============================] - 0s 999us/step - loss: 7617.8896 - mae: 7617.8896\n",
            "Epoch 31/100\n",
            "34/34 [==============================] - 0s 1ms/step - loss: 7654.2480 - mae: 7654.2480\n",
            "Epoch 32/100\n",
            "34/34 [==============================] - 0s 1ms/step - loss: 7510.6621 - mae: 7510.6621\n",
            "Epoch 33/100\n",
            "34/34 [==============================] - 0s 1ms/step - loss: 7396.0459 - mae: 7396.0459\n",
            "Epoch 34/100\n",
            "34/34 [==============================] - 0s 1ms/step - loss: 7332.9668 - mae: 7332.9668\n",
            "Epoch 35/100\n",
            "34/34 [==============================] - 0s 1ms/step - loss: 7401.1030 - mae: 7401.1030\n",
            "Epoch 36/100\n",
            "34/34 [==============================] - 0s 992us/step - loss: 7646.2734 - mae: 7646.2734\n",
            "Epoch 37/100\n",
            "34/34 [==============================] - 0s 1ms/step - loss: 7422.8027 - mae: 7422.8027\n",
            "Epoch 38/100\n",
            "34/34 [==============================] - 0s 1ms/step - loss: 7572.2886 - mae: 7572.2886\n",
            "Epoch 39/100\n",
            "34/34 [==============================] - 0s 965us/step - loss: 7548.1587 - mae: 7548.1587\n",
            "Epoch 40/100\n",
            "34/34 [==============================] - 0s 954us/step - loss: 7452.2744 - mae: 7452.2744\n",
            "Epoch 41/100\n",
            "34/34 [==============================] - 0s 964us/step - loss: 7599.1279 - mae: 7599.1279\n",
            "Epoch 42/100\n",
            "34/34 [==============================] - 0s 971us/step - loss: 7356.8647 - mae: 7356.8647\n",
            "Epoch 43/100\n",
            "34/34 [==============================] - 0s 1ms/step - loss: 7675.2505 - mae: 7675.2505\n",
            "Epoch 44/100\n",
            "34/34 [==============================] - 0s 975us/step - loss: 7424.5342 - mae: 7424.5342\n",
            "Epoch 45/100\n",
            "34/34 [==============================] - 0s 991us/step - loss: 7484.7510 - mae: 7484.7510\n",
            "Epoch 46/100\n",
            "34/34 [==============================] - 0s 965us/step - loss: 7416.5225 - mae: 7416.5225\n",
            "Epoch 47/100\n",
            "34/34 [==============================] - 0s 1ms/step - loss: 7503.9712 - mae: 7503.9712\n",
            "Epoch 48/100\n",
            "34/34 [==============================] - 0s 1ms/step - loss: 7310.7222 - mae: 7310.7222\n",
            "Epoch 49/100\n",
            "34/34 [==============================] - 0s 1ms/step - loss: 7537.8364 - mae: 7537.8364\n",
            "Epoch 50/100\n",
            "34/34 [==============================] - 0s 1ms/step - loss: 7475.4146 - mae: 7475.4146\n",
            "Epoch 51/100\n",
            "34/34 [==============================] - 0s 956us/step - loss: 7402.6069 - mae: 7402.6069\n",
            "Epoch 52/100\n",
            "34/34 [==============================] - 0s 1ms/step - loss: 7384.4404 - mae: 7384.4404\n",
            "Epoch 53/100\n",
            "34/34 [==============================] - 0s 1ms/step - loss: 7657.4341 - mae: 7657.4341\n",
            "Epoch 54/100\n",
            "34/34 [==============================] - 0s 1ms/step - loss: 7171.5083 - mae: 7171.5083\n",
            "Epoch 55/100\n",
            "34/34 [==============================] - 0s 1ms/step - loss: 7498.3296 - mae: 7498.3296\n",
            "Epoch 56/100\n",
            "34/34 [==============================] - 0s 948us/step - loss: 7258.4844 - mae: 7258.4844\n",
            "Epoch 57/100\n",
            "34/34 [==============================] - 0s 978us/step - loss: 7547.3398 - mae: 7547.3398\n",
            "Epoch 58/100\n",
            "34/34 [==============================] - 0s 956us/step - loss: 7404.4209 - mae: 7404.4209\n",
            "Epoch 59/100\n",
            "34/34 [==============================] - 0s 1ms/step - loss: 7570.8213 - mae: 7570.8213\n",
            "Epoch 60/100\n",
            "34/34 [==============================] - 0s 1ms/step - loss: 7391.7739 - mae: 7391.7739\n",
            "Epoch 61/100\n",
            "34/34 [==============================] - 0s 1ms/step - loss: 7470.5474 - mae: 7470.5474\n",
            "Epoch 62/100\n",
            "34/34 [==============================] - 0s 1ms/step - loss: 7401.9624 - mae: 7401.9624\n",
            "Epoch 63/100\n",
            "34/34 [==============================] - 0s 993us/step - loss: 7336.3530 - mae: 7336.3530\n",
            "Epoch 64/100\n",
            "34/34 [==============================] - 0s 953us/step - loss: 7205.6128 - mae: 7205.6128\n",
            "Epoch 65/100\n",
            "34/34 [==============================] - 0s 965us/step - loss: 7585.0054 - mae: 7585.0054\n",
            "Epoch 66/100\n",
            "34/34 [==============================] - 0s 1ms/step - loss: 7353.9482 - mae: 7353.9482\n",
            "Epoch 67/100\n",
            "34/34 [==============================] - 0s 1ms/step - loss: 7473.3066 - mae: 7473.3066\n",
            "Epoch 68/100\n",
            "34/34 [==============================] - 0s 1ms/step - loss: 7506.6558 - mae: 7506.6558\n",
            "Epoch 69/100\n",
            "34/34 [==============================] - 0s 1ms/step - loss: 7587.7681 - mae: 7587.7681\n",
            "Epoch 70/100\n",
            "34/34 [==============================] - 0s 1ms/step - loss: 7564.6934 - mae: 7564.6934\n",
            "Epoch 71/100\n",
            "34/34 [==============================] - 0s 1ms/step - loss: 7365.5596 - mae: 7365.5596\n",
            "Epoch 72/100\n",
            "34/34 [==============================] - 0s 1ms/step - loss: 7355.7485 - mae: 7355.7485\n",
            "Epoch 73/100\n",
            "34/34 [==============================] - 0s 1ms/step - loss: 7317.7456 - mae: 7317.7456\n",
            "Epoch 74/100\n",
            "34/34 [==============================] - 0s 1ms/step - loss: 7569.5718 - mae: 7569.5718\n",
            "Epoch 75/100\n",
            "34/34 [==============================] - 0s 1ms/step - loss: 7310.8013 - mae: 7310.8013\n",
            "Epoch 76/100\n",
            "34/34 [==============================] - 0s 1ms/step - loss: 7184.0435 - mae: 7184.0435\n",
            "Epoch 77/100\n",
            "34/34 [==============================] - 0s 998us/step - loss: 7284.3618 - mae: 7284.3618\n",
            "Epoch 78/100\n",
            "34/34 [==============================] - 0s 1ms/step - loss: 7251.9854 - mae: 7251.9854\n",
            "Epoch 79/100\n",
            "34/34 [==============================] - 0s 1ms/step - loss: 7495.4912 - mae: 7495.4912\n",
            "Epoch 80/100\n",
            "34/34 [==============================] - 0s 1ms/step - loss: 7320.2881 - mae: 7320.2881\n",
            "Epoch 81/100\n",
            "34/34 [==============================] - 0s 1ms/step - loss: 7134.9062 - mae: 7134.9062\n",
            "Epoch 82/100\n",
            "34/34 [==============================] - 0s 1ms/step - loss: 7335.8672 - mae: 7335.8672\n",
            "Epoch 83/100\n",
            "34/34 [==============================] - 0s 1ms/step - loss: 7479.8979 - mae: 7479.8979\n",
            "Epoch 84/100\n",
            "34/34 [==============================] - 0s 1ms/step - loss: 7265.5640 - mae: 7265.5640\n",
            "Epoch 85/100\n",
            "34/34 [==============================] - 0s 992us/step - loss: 7434.0776 - mae: 7434.0776\n",
            "Epoch 86/100\n",
            "34/34 [==============================] - 0s 933us/step - loss: 7501.4487 - mae: 7501.4487\n",
            "Epoch 87/100\n",
            "34/34 [==============================] - 0s 965us/step - loss: 7253.4736 - mae: 7253.4736\n",
            "Epoch 88/100\n",
            "34/34 [==============================] - 0s 1ms/step - loss: 7291.5815 - mae: 7291.5815\n",
            "Epoch 89/100\n",
            "34/34 [==============================] - 0s 946us/step - loss: 7319.2021 - mae: 7319.2021\n",
            "Epoch 90/100\n",
            "34/34 [==============================] - 0s 984us/step - loss: 7172.3350 - mae: 7172.3350\n",
            "Epoch 91/100\n",
            "34/34 [==============================] - 0s 1ms/step - loss: 6953.7036 - mae: 6953.7036\n",
            "Epoch 92/100\n",
            "34/34 [==============================] - 0s 996us/step - loss: 7365.7720 - mae: 7365.7720\n",
            "Epoch 93/100\n",
            "34/34 [==============================] - 0s 987us/step - loss: 7484.5405 - mae: 7484.5405\n",
            "Epoch 94/100\n",
            "34/34 [==============================] - 0s 1ms/step - loss: 7000.1177 - mae: 7000.1177\n",
            "Epoch 95/100\n",
            "34/34 [==============================] - 0s 1ms/step - loss: 7495.4702 - mae: 7495.4702\n",
            "Epoch 96/100\n",
            "34/34 [==============================] - 0s 1ms/step - loss: 7150.7129 - mae: 7150.7129\n",
            "Epoch 97/100\n",
            "34/34 [==============================] - 0s 1ms/step - loss: 7053.6758 - mae: 7053.6758\n",
            "Epoch 98/100\n",
            "34/34 [==============================] - 0s 1ms/step - loss: 7347.1987 - mae: 7347.1987\n",
            "Epoch 99/100\n",
            "34/34 [==============================] - 0s 1ms/step - loss: 7379.3818 - mae: 7379.3818\n",
            "Epoch 100/100\n",
            "34/34 [==============================] - 0s 1ms/step - loss: 7287.7715 - mae: 7287.7715\n"
          ]
        },
        {
          "output_type": "execute_result",
          "data": {
            "text/plain": [
              "<keras.src.callbacks.History at 0x79ee8082d360>"
            ]
          },
          "metadata": {},
          "execution_count": 71
        }
      ]
    },
    {
      "cell_type": "code",
      "source": [
        "# Check the results of the model on the test data\n",
        "insurance_model.evaluate(X_test, y_test)"
      ],
      "metadata": {
        "colab": {
          "base_uri": "https://localhost:8080/"
        },
        "id": "ghq57lH20Vju",
        "outputId": "5c12a281-efc7-4c7d-db27-3efc7d741f71"
      },
      "execution_count": 72,
      "outputs": [
        {
          "output_type": "stream",
          "name": "stdout",
          "text": [
            "9/9 [==============================] - 0s 2ms/step - loss: 7387.1406 - mae: 7387.1406\n"
          ]
        },
        {
          "output_type": "execute_result",
          "data": {
            "text/plain": [
              "[7387.140625, 7387.140625]"
            ]
          },
          "metadata": {},
          "execution_count": 72
        }
      ]
    },
    {
      "cell_type": "code",
      "source": [
        "y_train.median(), y_train.mean()"
      ],
      "metadata": {
        "colab": {
          "base_uri": "https://localhost:8080/"
        },
        "id": "YjHAPpOQ0q6o",
        "outputId": "eeae6959-e85b-4d31-f000-c52384288e27"
      },
      "execution_count": 73,
      "outputs": [
        {
          "output_type": "execute_result",
          "data": {
            "text/plain": [
              "(9575.4421, 13346.089736364485)"
            ]
          },
          "metadata": {},
          "execution_count": 73
        }
      ]
    },
    {
      "cell_type": "markdown",
      "source": [
        "## Right now our model  is not performing too well... let's try to improve it!"
      ],
      "metadata": {
        "id": "7XHLSgTG1AUK"
      }
    },
    {
      "cell_type": "code",
      "source": [
        "# Buid a neural network\n",
        "tf.random.set_seed(42)\n",
        "\n",
        "# 1. Create a model\n",
        "insurance_model_2 = tf.keras.Sequential([\n",
        "    tf.keras.layers.Dense(100),\n",
        "    tf.keras.layers.Dense(10),\n",
        "    tf.keras.layers.Dense(1)\n",
        "])\n",
        "\n",
        "# 2. Compile the model\n",
        "insurance_model_2.compile(loss=tf.keras.losses.mae,\n",
        "                        optimizer=tf.keras.optimizers.Adam(),\n",
        "                        metrics=[\"mae\"])\n",
        "\n",
        "# 3. fit the model\n",
        "\n",
        "insurance_model_2.fit(X_train, y_train, epochs=100, verbose=0)"
      ],
      "metadata": {
        "colab": {
          "base_uri": "https://localhost:8080/"
        },
        "id": "DNZny-AR0vge",
        "outputId": "5b711b2d-f8aa-41b5-ecc5-544568242b0f"
      },
      "execution_count": 74,
      "outputs": [
        {
          "output_type": "execute_result",
          "data": {
            "text/plain": [
              "<keras.src.callbacks.History at 0x79ee85251750>"
            ]
          },
          "metadata": {},
          "execution_count": 74
        }
      ]
    },
    {
      "cell_type": "code",
      "source": [
        "insurance_model_2.evaluate(X_test, y_test)"
      ],
      "metadata": {
        "colab": {
          "base_uri": "https://localhost:8080/"
        },
        "id": "C6lleYYM1o15",
        "outputId": "55318a6b-4bce-4420-87bd-3552cbf28af9"
      },
      "execution_count": 75,
      "outputs": [
        {
          "output_type": "stream",
          "name": "stdout",
          "text": [
            "9/9 [==============================] - 0s 1ms/step - loss: 4785.5024 - mae: 4785.5024\n"
          ]
        },
        {
          "output_type": "execute_result",
          "data": {
            "text/plain": [
              "[4785.50244140625, 4785.50244140625]"
            ]
          },
          "metadata": {},
          "execution_count": 75
        }
      ]
    },
    {
      "cell_type": "code",
      "source": [
        "# Buid a neural network\n",
        "tf.random.set_seed(42)\n",
        "\n",
        "# 1. Create a model\n",
        "insurance_model_3 = tf.keras.Sequential([\n",
        "    tf.keras.layers.Dense(100),\n",
        "    tf.keras.layers.Dense(10),\n",
        "    tf.keras.layers.Dense(1)\n",
        "])\n",
        "\n",
        "# 2. Compile the model\n",
        "insurance_model_3.compile(loss=tf.keras.losses.mae,\n",
        "                        optimizer=tf.keras.optimizers.Adam(),\n",
        "                        metrics=[\"mae\"])\n",
        "\n",
        "# 3. fit the model\n",
        "\n",
        "history = insurance_model_3.fit(X_train, y_train, epochs=200)"
      ],
      "metadata": {
        "colab": {
          "base_uri": "https://localhost:8080/"
        },
        "id": "g6zn1Lzw2uND",
        "outputId": "03a939d5-90e0-411e-baa1-b7b2d6edbc6a"
      },
      "execution_count": 76,
      "outputs": [
        {
          "output_type": "stream",
          "name": "stdout",
          "text": [
            "Epoch 1/200\n",
            "34/34 [==============================] - 1s 1ms/step - loss: 13305.5518 - mae: 13305.5518\n",
            "Epoch 2/200\n",
            "34/34 [==============================] - 0s 1ms/step - loss: 13152.9404 - mae: 13152.9404\n",
            "Epoch 3/200\n",
            "34/34 [==============================] - 0s 1ms/step - loss: 12815.8047 - mae: 12815.8047\n",
            "Epoch 4/200\n",
            "34/34 [==============================] - 0s 1ms/step - loss: 12139.5322 - mae: 12139.5322\n",
            "Epoch 5/200\n",
            "34/34 [==============================] - 0s 1ms/step - loss: 11006.0918 - mae: 11006.0918\n",
            "Epoch 6/200\n",
            "34/34 [==============================] - 0s 1ms/step - loss: 9562.4229 - mae: 9562.4229\n",
            "Epoch 7/200\n",
            "34/34 [==============================] - 0s 1ms/step - loss: 8228.7373 - mae: 8228.7373\n",
            "Epoch 8/200\n",
            "34/34 [==============================] - 0s 1ms/step - loss: 7562.0493 - mae: 7562.0493\n",
            "Epoch 9/200\n",
            "34/34 [==============================] - 0s 1ms/step - loss: 7443.2222 - mae: 7443.2222\n",
            "Epoch 10/200\n",
            "34/34 [==============================] - 0s 1ms/step - loss: 7422.1733 - mae: 7422.1733\n",
            "Epoch 11/200\n",
            "34/34 [==============================] - 0s 1ms/step - loss: 7403.5820 - mae: 7403.5820\n",
            "Epoch 12/200\n",
            "34/34 [==============================] - 0s 1ms/step - loss: 7381.5430 - mae: 7381.5430\n",
            "Epoch 13/200\n",
            "34/34 [==============================] - 0s 1ms/step - loss: 7361.1899 - mae: 7361.1899\n",
            "Epoch 14/200\n",
            "34/34 [==============================] - 0s 1ms/step - loss: 7338.8701 - mae: 7338.8701\n",
            "Epoch 15/200\n",
            "34/34 [==============================] - 0s 1ms/step - loss: 7319.7163 - mae: 7319.7163\n",
            "Epoch 16/200\n",
            "34/34 [==============================] - 0s 1ms/step - loss: 7297.0063 - mae: 7297.0063\n",
            "Epoch 17/200\n",
            "34/34 [==============================] - 0s 1ms/step - loss: 7276.9307 - mae: 7276.9307\n",
            "Epoch 18/200\n",
            "34/34 [==============================] - 0s 1ms/step - loss: 7253.0693 - mae: 7253.0693\n",
            "Epoch 19/200\n",
            "34/34 [==============================] - 0s 1ms/step - loss: 7230.4248 - mae: 7230.4248\n",
            "Epoch 20/200\n",
            "34/34 [==============================] - 0s 1ms/step - loss: 7206.8540 - mae: 7206.8540\n",
            "Epoch 21/200\n",
            "34/34 [==============================] - 0s 1ms/step - loss: 7186.7280 - mae: 7186.7280\n",
            "Epoch 22/200\n",
            "34/34 [==============================] - 0s 1ms/step - loss: 7159.6797 - mae: 7159.6797\n",
            "Epoch 23/200\n",
            "34/34 [==============================] - 0s 1ms/step - loss: 7134.0981 - mae: 7134.0981\n",
            "Epoch 24/200\n",
            "34/34 [==============================] - 0s 1ms/step - loss: 7108.6812 - mae: 7108.6812\n",
            "Epoch 25/200\n",
            "34/34 [==============================] - 0s 1ms/step - loss: 7089.8438 - mae: 7089.8438\n",
            "Epoch 26/200\n",
            "34/34 [==============================] - 0s 1ms/step - loss: 7057.3838 - mae: 7057.3838\n",
            "Epoch 27/200\n",
            "34/34 [==============================] - 0s 1ms/step - loss: 7027.7271 - mae: 7027.7271\n",
            "Epoch 28/200\n",
            "34/34 [==============================] - 0s 1ms/step - loss: 6998.6890 - mae: 6998.6890\n",
            "Epoch 29/200\n",
            "34/34 [==============================] - 0s 1ms/step - loss: 6969.5537 - mae: 6969.5537\n",
            "Epoch 30/200\n",
            "34/34 [==============================] - 0s 1ms/step - loss: 6941.0366 - mae: 6941.0366\n",
            "Epoch 31/200\n",
            "34/34 [==============================] - 0s 1ms/step - loss: 6908.6606 - mae: 6908.6606\n",
            "Epoch 32/200\n",
            "34/34 [==============================] - 0s 1ms/step - loss: 6879.0732 - mae: 6879.0732\n",
            "Epoch 33/200\n",
            "34/34 [==============================] - 0s 1ms/step - loss: 6846.2871 - mae: 6846.2871\n",
            "Epoch 34/200\n",
            "34/34 [==============================] - 0s 1ms/step - loss: 6813.8506 - mae: 6813.8506\n",
            "Epoch 35/200\n",
            "34/34 [==============================] - 0s 1ms/step - loss: 6778.1475 - mae: 6778.1475\n",
            "Epoch 36/200\n",
            "34/34 [==============================] - 0s 1ms/step - loss: 6742.5898 - mae: 6742.5898\n",
            "Epoch 37/200\n",
            "34/34 [==============================] - 0s 1ms/step - loss: 6704.8730 - mae: 6704.8730\n",
            "Epoch 38/200\n",
            "34/34 [==============================] - 0s 1ms/step - loss: 6672.4917 - mae: 6672.4917\n",
            "Epoch 39/200\n",
            "34/34 [==============================] - 0s 1ms/step - loss: 6634.1216 - mae: 6634.1216\n",
            "Epoch 40/200\n",
            "34/34 [==============================] - 0s 1ms/step - loss: 6598.0718 - mae: 6598.0718\n",
            "Epoch 41/200\n",
            "34/34 [==============================] - 0s 1ms/step - loss: 6565.5850 - mae: 6565.5850\n",
            "Epoch 42/200\n",
            "34/34 [==============================] - 0s 1ms/step - loss: 6540.3530 - mae: 6540.3530\n",
            "Epoch 43/200\n",
            "34/34 [==============================] - 0s 1ms/step - loss: 6511.2983 - mae: 6511.2983\n",
            "Epoch 44/200\n",
            "34/34 [==============================] - 0s 1ms/step - loss: 6490.1011 - mae: 6490.1011\n",
            "Epoch 45/200\n",
            "34/34 [==============================] - 0s 1ms/step - loss: 6479.3491 - mae: 6479.3491\n",
            "Epoch 46/200\n",
            "34/34 [==============================] - 0s 1ms/step - loss: 6460.6133 - mae: 6460.6133\n",
            "Epoch 47/200\n",
            "34/34 [==============================] - 0s 1ms/step - loss: 6444.2354 - mae: 6444.2354\n",
            "Epoch 48/200\n",
            "34/34 [==============================] - 0s 1ms/step - loss: 6430.1777 - mae: 6430.1777\n",
            "Epoch 49/200\n",
            "34/34 [==============================] - 0s 1ms/step - loss: 6417.1265 - mae: 6417.1265\n",
            "Epoch 50/200\n",
            "34/34 [==============================] - 0s 1ms/step - loss: 6403.2598 - mae: 6403.2598\n",
            "Epoch 51/200\n",
            "34/34 [==============================] - 0s 1ms/step - loss: 6390.0830 - mae: 6390.0830\n",
            "Epoch 52/200\n",
            "34/34 [==============================] - 0s 1ms/step - loss: 6377.8237 - mae: 6377.8237\n",
            "Epoch 53/200\n",
            "34/34 [==============================] - 0s 1ms/step - loss: 6363.3931 - mae: 6363.3931\n",
            "Epoch 54/200\n",
            "34/34 [==============================] - 0s 1ms/step - loss: 6349.7764 - mae: 6349.7764\n",
            "Epoch 55/200\n",
            "34/34 [==============================] - 0s 1ms/step - loss: 6336.1147 - mae: 6336.1147\n",
            "Epoch 56/200\n",
            "34/34 [==============================] - 0s 1ms/step - loss: 6322.3789 - mae: 6322.3789\n",
            "Epoch 57/200\n",
            "34/34 [==============================] - 0s 1ms/step - loss: 6309.1392 - mae: 6309.1392\n",
            "Epoch 58/200\n",
            "34/34 [==============================] - 0s 1ms/step - loss: 6295.1201 - mae: 6295.1201\n",
            "Epoch 59/200\n",
            "34/34 [==============================] - 0s 1ms/step - loss: 6279.3843 - mae: 6279.3843\n",
            "Epoch 60/200\n",
            "34/34 [==============================] - 0s 1ms/step - loss: 6268.9028 - mae: 6268.9028\n",
            "Epoch 61/200\n",
            "34/34 [==============================] - 0s 1ms/step - loss: 6249.1323 - mae: 6249.1323\n",
            "Epoch 62/200\n",
            "34/34 [==============================] - 0s 1ms/step - loss: 6236.5288 - mae: 6236.5288\n",
            "Epoch 63/200\n",
            "34/34 [==============================] - 0s 1ms/step - loss: 6218.1377 - mae: 6218.1377\n",
            "Epoch 64/200\n",
            "34/34 [==============================] - 0s 1ms/step - loss: 6201.7349 - mae: 6201.7349\n",
            "Epoch 65/200\n",
            "34/34 [==============================] - 0s 1ms/step - loss: 6184.2769 - mae: 6184.2769\n",
            "Epoch 66/200\n",
            "34/34 [==============================] - 0s 1ms/step - loss: 6166.9619 - mae: 6166.9619\n",
            "Epoch 67/200\n",
            "34/34 [==============================] - 0s 1ms/step - loss: 6154.2114 - mae: 6154.2114\n",
            "Epoch 68/200\n",
            "34/34 [==============================] - 0s 1ms/step - loss: 6132.1802 - mae: 6132.1802\n",
            "Epoch 69/200\n",
            "34/34 [==============================] - 0s 1ms/step - loss: 6115.5020 - mae: 6115.5020\n",
            "Epoch 70/200\n",
            "34/34 [==============================] - 0s 1ms/step - loss: 6095.1309 - mae: 6095.1309\n",
            "Epoch 71/200\n",
            "34/34 [==============================] - 0s 1ms/step - loss: 6075.6567 - mae: 6075.6567\n",
            "Epoch 72/200\n",
            "34/34 [==============================] - 0s 1ms/step - loss: 6055.6943 - mae: 6055.6943\n",
            "Epoch 73/200\n",
            "34/34 [==============================] - 0s 1ms/step - loss: 6042.3208 - mae: 6042.3208\n",
            "Epoch 74/200\n",
            "34/34 [==============================] - 0s 1ms/step - loss: 6013.8931 - mae: 6013.8931\n",
            "Epoch 75/200\n",
            "34/34 [==============================] - 0s 1ms/step - loss: 5992.4473 - mae: 5992.4473\n",
            "Epoch 76/200\n",
            "34/34 [==============================] - 0s 1ms/step - loss: 5979.2271 - mae: 5979.2271\n",
            "Epoch 77/200\n",
            "34/34 [==============================] - 0s 1ms/step - loss: 5945.4854 - mae: 5945.4854\n",
            "Epoch 78/200\n",
            "34/34 [==============================] - 0s 1ms/step - loss: 5922.8301 - mae: 5922.8301\n",
            "Epoch 79/200\n",
            "34/34 [==============================] - 0s 1ms/step - loss: 5898.4517 - mae: 5898.4517\n",
            "Epoch 80/200\n",
            "34/34 [==============================] - 0s 1ms/step - loss: 5870.8496 - mae: 5870.8496\n",
            "Epoch 81/200\n",
            "34/34 [==============================] - 0s 1ms/step - loss: 5845.5889 - mae: 5845.5889\n",
            "Epoch 82/200\n",
            "34/34 [==============================] - 0s 1ms/step - loss: 5817.1025 - mae: 5817.1025\n",
            "Epoch 83/200\n",
            "34/34 [==============================] - 0s 1ms/step - loss: 5788.7178 - mae: 5788.7178\n",
            "Epoch 84/200\n",
            "34/34 [==============================] - 0s 1ms/step - loss: 5756.2617 - mae: 5756.2617\n",
            "Epoch 85/200\n",
            "34/34 [==============================] - 0s 1ms/step - loss: 5729.4912 - mae: 5729.4912\n",
            "Epoch 86/200\n",
            "34/34 [==============================] - 0s 1ms/step - loss: 5696.4775 - mae: 5696.4775\n",
            "Epoch 87/200\n",
            "34/34 [==============================] - 0s 1ms/step - loss: 5660.0820 - mae: 5660.0820\n",
            "Epoch 88/200\n",
            "34/34 [==============================] - 0s 1ms/step - loss: 5625.5864 - mae: 5625.5864\n",
            "Epoch 89/200\n",
            "34/34 [==============================] - 0s 1ms/step - loss: 5587.8242 - mae: 5587.8242\n",
            "Epoch 90/200\n",
            "34/34 [==============================] - 0s 1ms/step - loss: 5547.1479 - mae: 5547.1479\n",
            "Epoch 91/200\n",
            "34/34 [==============================] - 0s 1ms/step - loss: 5512.0518 - mae: 5512.0518\n",
            "Epoch 92/200\n",
            "34/34 [==============================] - 0s 1ms/step - loss: 5463.3188 - mae: 5463.3188\n",
            "Epoch 93/200\n",
            "34/34 [==============================] - 0s 1ms/step - loss: 5422.2979 - mae: 5422.2979\n",
            "Epoch 94/200\n",
            "34/34 [==============================] - 0s 1ms/step - loss: 5377.8032 - mae: 5377.8032\n",
            "Epoch 95/200\n",
            "34/34 [==============================] - 0s 1ms/step - loss: 5326.3008 - mae: 5326.3008\n",
            "Epoch 96/200\n",
            "34/34 [==============================] - 0s 1ms/step - loss: 5283.0571 - mae: 5283.0571\n",
            "Epoch 97/200\n",
            "34/34 [==============================] - 0s 1ms/step - loss: 5231.7417 - mae: 5231.7417\n",
            "Epoch 98/200\n",
            "34/34 [==============================] - 0s 1ms/step - loss: 5171.8145 - mae: 5171.8145\n",
            "Epoch 99/200\n",
            "34/34 [==============================] - 0s 1ms/step - loss: 5113.9829 - mae: 5113.9829\n",
            "Epoch 100/200\n",
            "34/34 [==============================] - 0s 1ms/step - loss: 5058.3335 - mae: 5058.3335\n",
            "Epoch 101/200\n",
            "34/34 [==============================] - 0s 1ms/step - loss: 4991.5723 - mae: 4991.5718\n",
            "Epoch 102/200\n",
            "34/34 [==============================] - 0s 1ms/step - loss: 4922.5781 - mae: 4922.5781\n",
            "Epoch 103/200\n",
            "34/34 [==============================] - 0s 1ms/step - loss: 4857.8809 - mae: 4857.8809\n",
            "Epoch 104/200\n",
            "34/34 [==============================] - 0s 1ms/step - loss: 4782.6294 - mae: 4782.6294\n",
            "Epoch 105/200\n",
            "34/34 [==============================] - 0s 1ms/step - loss: 4699.8574 - mae: 4699.8574\n",
            "Epoch 106/200\n",
            "34/34 [==============================] - 0s 1ms/step - loss: 4620.6318 - mae: 4620.6318\n",
            "Epoch 107/200\n",
            "34/34 [==============================] - 0s 1ms/step - loss: 4537.4014 - mae: 4537.4014\n",
            "Epoch 108/200\n",
            "34/34 [==============================] - 0s 1ms/step - loss: 4450.1924 - mae: 4450.1924\n",
            "Epoch 109/200\n",
            "34/34 [==============================] - 0s 1ms/step - loss: 4368.0190 - mae: 4368.0190\n",
            "Epoch 110/200\n",
            "34/34 [==============================] - 0s 1ms/step - loss: 4287.7764 - mae: 4287.7764\n",
            "Epoch 111/200\n",
            "34/34 [==============================] - 0s 1ms/step - loss: 4205.3594 - mae: 4205.3594\n",
            "Epoch 112/200\n",
            "34/34 [==============================] - 0s 1ms/step - loss: 4134.6641 - mae: 4134.6641\n",
            "Epoch 113/200\n",
            "34/34 [==============================] - 0s 1ms/step - loss: 4064.1396 - mae: 4064.1396\n",
            "Epoch 114/200\n",
            "34/34 [==============================] - 0s 1ms/step - loss: 4006.0635 - mae: 4006.0635\n",
            "Epoch 115/200\n",
            "34/34 [==============================] - 0s 1ms/step - loss: 3956.7847 - mae: 3956.7847\n",
            "Epoch 116/200\n",
            "34/34 [==============================] - 0s 1ms/step - loss: 3937.7429 - mae: 3937.7429\n",
            "Epoch 117/200\n",
            "34/34 [==============================] - 0s 1ms/step - loss: 3911.9097 - mae: 3911.9097\n",
            "Epoch 118/200\n",
            "34/34 [==============================] - 0s 1ms/step - loss: 3884.1511 - mae: 3884.1511\n",
            "Epoch 119/200\n",
            "34/34 [==============================] - 0s 1ms/step - loss: 3859.4617 - mae: 3859.4617\n",
            "Epoch 120/200\n",
            "34/34 [==============================] - 0s 1ms/step - loss: 3840.1348 - mae: 3840.1348\n",
            "Epoch 121/200\n",
            "34/34 [==============================] - 0s 1ms/step - loss: 3832.0779 - mae: 3832.0779\n",
            "Epoch 122/200\n",
            "34/34 [==============================] - 0s 1ms/step - loss: 3824.6975 - mae: 3824.6975\n",
            "Epoch 123/200\n",
            "34/34 [==============================] - 0s 1ms/step - loss: 3818.8091 - mae: 3818.8091\n",
            "Epoch 124/200\n",
            "34/34 [==============================] - 0s 1ms/step - loss: 3808.7991 - mae: 3808.7991\n",
            "Epoch 125/200\n",
            "34/34 [==============================] - 0s 1ms/step - loss: 3798.8862 - mae: 3798.8862\n",
            "Epoch 126/200\n",
            "34/34 [==============================] - 0s 1ms/step - loss: 3809.3245 - mae: 3809.3245\n",
            "Epoch 127/200\n",
            "34/34 [==============================] - 0s 1ms/step - loss: 3800.9211 - mae: 3800.9211\n",
            "Epoch 128/200\n",
            "34/34 [==============================] - 0s 1ms/step - loss: 3794.3354 - mae: 3794.3354\n",
            "Epoch 129/200\n",
            "34/34 [==============================] - 0s 1ms/step - loss: 3799.7590 - mae: 3799.7590\n",
            "Epoch 130/200\n",
            "34/34 [==============================] - 0s 1ms/step - loss: 3790.8875 - mae: 3790.8875\n",
            "Epoch 131/200\n",
            "34/34 [==============================] - 0s 1ms/step - loss: 3783.7639 - mae: 3783.7639\n",
            "Epoch 132/200\n",
            "34/34 [==============================] - 0s 1ms/step - loss: 3775.7781 - mae: 3775.7781\n",
            "Epoch 133/200\n",
            "34/34 [==============================] - 0s 1ms/step - loss: 3772.1265 - mae: 3772.1265\n",
            "Epoch 134/200\n",
            "34/34 [==============================] - 0s 1ms/step - loss: 3770.9724 - mae: 3770.9724\n",
            "Epoch 135/200\n",
            "34/34 [==============================] - 0s 1ms/step - loss: 3768.4219 - mae: 3768.4219\n",
            "Epoch 136/200\n",
            "34/34 [==============================] - 0s 1ms/step - loss: 3767.6350 - mae: 3767.6350\n",
            "Epoch 137/200\n",
            "34/34 [==============================] - 0s 1ms/step - loss: 3774.0015 - mae: 3774.0015\n",
            "Epoch 138/200\n",
            "34/34 [==============================] - 0s 1ms/step - loss: 3785.6160 - mae: 3785.6160\n",
            "Epoch 139/200\n",
            "34/34 [==============================] - 0s 1ms/step - loss: 3762.7427 - mae: 3762.7427\n",
            "Epoch 140/200\n",
            "34/34 [==============================] - 0s 1ms/step - loss: 3764.2024 - mae: 3764.2024\n",
            "Epoch 141/200\n",
            "34/34 [==============================] - 0s 1ms/step - loss: 3765.2524 - mae: 3765.2524\n",
            "Epoch 142/200\n",
            "34/34 [==============================] - 0s 1ms/step - loss: 3765.2083 - mae: 3765.2083\n",
            "Epoch 143/200\n",
            "34/34 [==============================] - 0s 1ms/step - loss: 3756.1294 - mae: 3756.1294\n",
            "Epoch 144/200\n",
            "34/34 [==============================] - 0s 1ms/step - loss: 3752.0283 - mae: 3752.0283\n",
            "Epoch 145/200\n",
            "34/34 [==============================] - 0s 1ms/step - loss: 3751.7898 - mae: 3751.7898\n",
            "Epoch 146/200\n",
            "34/34 [==============================] - 0s 1ms/step - loss: 3756.1362 - mae: 3756.1362\n",
            "Epoch 147/200\n",
            "34/34 [==============================] - 0s 1ms/step - loss: 3753.8801 - mae: 3753.8801\n",
            "Epoch 148/200\n",
            "34/34 [==============================] - 0s 1ms/step - loss: 3758.8298 - mae: 3758.8298\n",
            "Epoch 149/200\n",
            "34/34 [==============================] - 0s 1ms/step - loss: 3745.0508 - mae: 3745.0508\n",
            "Epoch 150/200\n",
            "34/34 [==============================] - 0s 1ms/step - loss: 3739.8157 - mae: 3739.8157\n",
            "Epoch 151/200\n",
            "34/34 [==============================] - 0s 1ms/step - loss: 3742.5146 - mae: 3742.5146\n",
            "Epoch 152/200\n",
            "34/34 [==============================] - 0s 1ms/step - loss: 3743.4932 - mae: 3743.4932\n",
            "Epoch 153/200\n",
            "34/34 [==============================] - 0s 1ms/step - loss: 3744.3850 - mae: 3744.3850\n",
            "Epoch 154/200\n",
            "34/34 [==============================] - 0s 1ms/step - loss: 3738.5916 - mae: 3738.5916\n",
            "Epoch 155/200\n",
            "34/34 [==============================] - 0s 1ms/step - loss: 3741.7488 - mae: 3741.7488\n",
            "Epoch 156/200\n",
            "34/34 [==============================] - 0s 1ms/step - loss: 3736.6177 - mae: 3736.6177\n",
            "Epoch 157/200\n",
            "34/34 [==============================] - 0s 1ms/step - loss: 3734.5549 - mae: 3734.5549\n",
            "Epoch 158/200\n",
            "34/34 [==============================] - 0s 1ms/step - loss: 3730.8726 - mae: 3730.8726\n",
            "Epoch 159/200\n",
            "34/34 [==============================] - 0s 1ms/step - loss: 3728.1750 - mae: 3728.1750\n",
            "Epoch 160/200\n",
            "34/34 [==============================] - 0s 1ms/step - loss: 3735.0713 - mae: 3735.0713\n",
            "Epoch 161/200\n",
            "34/34 [==============================] - 0s 1ms/step - loss: 3729.5654 - mae: 3729.5654\n",
            "Epoch 162/200\n",
            "34/34 [==============================] - 0s 1ms/step - loss: 3725.9597 - mae: 3725.9597\n",
            "Epoch 163/200\n",
            "34/34 [==============================] - 0s 1ms/step - loss: 3724.2322 - mae: 3724.2322\n",
            "Epoch 164/200\n",
            "34/34 [==============================] - 0s 1ms/step - loss: 3729.1338 - mae: 3729.1338\n",
            "Epoch 165/200\n",
            "34/34 [==============================] - 0s 1ms/step - loss: 3719.1384 - mae: 3719.1384\n",
            "Epoch 166/200\n",
            "34/34 [==============================] - 0s 1ms/step - loss: 3723.7031 - mae: 3723.7031\n",
            "Epoch 167/200\n",
            "34/34 [==============================] - 0s 1ms/step - loss: 3721.2324 - mae: 3721.2324\n",
            "Epoch 168/200\n",
            "34/34 [==============================] - 0s 1ms/step - loss: 3716.5986 - mae: 3716.5986\n",
            "Epoch 169/200\n",
            "34/34 [==============================] - 0s 1ms/step - loss: 3716.1016 - mae: 3716.1016\n",
            "Epoch 170/200\n",
            "34/34 [==============================] - 0s 1ms/step - loss: 3710.3103 - mae: 3710.3103\n",
            "Epoch 171/200\n",
            "34/34 [==============================] - 0s 1ms/step - loss: 3710.1035 - mae: 3710.1035\n",
            "Epoch 172/200\n",
            "34/34 [==============================] - 0s 1ms/step - loss: 3710.8828 - mae: 3710.8828\n",
            "Epoch 173/200\n",
            "34/34 [==============================] - 0s 1ms/step - loss: 3707.3743 - mae: 3707.3743\n",
            "Epoch 174/200\n",
            "34/34 [==============================] - 0s 1ms/step - loss: 3711.7295 - mae: 3711.7295\n",
            "Epoch 175/200\n",
            "34/34 [==============================] - 0s 1ms/step - loss: 3714.3901 - mae: 3714.3901\n",
            "Epoch 176/200\n",
            "34/34 [==============================] - 0s 1ms/step - loss: 3708.5200 - mae: 3708.5200\n",
            "Epoch 177/200\n",
            "34/34 [==============================] - 0s 1ms/step - loss: 3701.3013 - mae: 3701.3013\n",
            "Epoch 178/200\n",
            "34/34 [==============================] - 0s 1ms/step - loss: 3697.1272 - mae: 3697.1272\n",
            "Epoch 179/200\n",
            "34/34 [==============================] - 0s 1ms/step - loss: 3708.6086 - mae: 3708.6086\n",
            "Epoch 180/200\n",
            "34/34 [==============================] - 0s 1ms/step - loss: 3713.3831 - mae: 3713.3831\n",
            "Epoch 181/200\n",
            "34/34 [==============================] - 0s 1ms/step - loss: 3698.7393 - mae: 3698.7393\n",
            "Epoch 182/200\n",
            "34/34 [==============================] - 0s 1ms/step - loss: 3695.9053 - mae: 3695.9053\n",
            "Epoch 183/200\n",
            "34/34 [==============================] - 0s 1ms/step - loss: 3693.7876 - mae: 3693.7876\n",
            "Epoch 184/200\n",
            "34/34 [==============================] - 0s 1ms/step - loss: 3700.6736 - mae: 3700.6736\n",
            "Epoch 185/200\n",
            "34/34 [==============================] - 0s 1ms/step - loss: 3694.6558 - mae: 3694.6558\n",
            "Epoch 186/200\n",
            "34/34 [==============================] - 0s 1ms/step - loss: 3695.0911 - mae: 3695.0911\n",
            "Epoch 187/200\n",
            "34/34 [==============================] - 0s 1ms/step - loss: 3690.0374 - mae: 3690.0374\n",
            "Epoch 188/200\n",
            "34/34 [==============================] - 0s 1ms/step - loss: 3696.7537 - mae: 3696.7537\n",
            "Epoch 189/200\n",
            "34/34 [==============================] - 0s 1ms/step - loss: 3686.4062 - mae: 3686.4062\n",
            "Epoch 190/200\n",
            "34/34 [==============================] - 0s 1ms/step - loss: 3686.9265 - mae: 3686.9265\n",
            "Epoch 191/200\n",
            "34/34 [==============================] - 0s 1ms/step - loss: 3698.5559 - mae: 3698.5559\n",
            "Epoch 192/200\n",
            "34/34 [==============================] - 0s 1ms/step - loss: 3686.5889 - mae: 3686.5889\n",
            "Epoch 193/200\n",
            "34/34 [==============================] - 0s 1ms/step - loss: 3677.8586 - mae: 3677.8586\n",
            "Epoch 194/200\n",
            "34/34 [==============================] - 0s 1ms/step - loss: 3678.4858 - mae: 3678.4858\n",
            "Epoch 195/200\n",
            "34/34 [==============================] - 0s 1ms/step - loss: 3675.4409 - mae: 3675.4409\n",
            "Epoch 196/200\n",
            "34/34 [==============================] - 0s 1ms/step - loss: 3683.3350 - mae: 3683.3350\n",
            "Epoch 197/200\n",
            "34/34 [==============================] - 0s 1ms/step - loss: 3668.5518 - mae: 3668.5518\n",
            "Epoch 198/200\n",
            "34/34 [==============================] - 0s 1ms/step - loss: 3675.3594 - mae: 3675.3594\n",
            "Epoch 199/200\n",
            "34/34 [==============================] - 0s 1ms/step - loss: 3682.9126 - mae: 3682.9126\n",
            "Epoch 200/200\n",
            "34/34 [==============================] - 0s 2ms/step - loss: 3669.6206 - mae: 3669.6206\n"
          ]
        }
      ]
    },
    {
      "cell_type": "code",
      "source": [
        "# Evaluate our third model\n",
        "insurance_model_3.evaluate(X_test, y_test)"
      ],
      "metadata": {
        "colab": {
          "base_uri": "https://localhost:8080/"
        },
        "id": "edAL5GbT3O4w",
        "outputId": "6c81e2b0-7f02-4972-af26-301682d4dd02"
      },
      "execution_count": 77,
      "outputs": [
        {
          "output_type": "stream",
          "name": "stdout",
          "text": [
            "9/9 [==============================] - 0s 2ms/step - loss: 3495.8882 - mae: 3495.8882\n"
          ]
        },
        {
          "output_type": "execute_result",
          "data": {
            "text/plain": [
              "[3495.88818359375, 3495.88818359375]"
            ]
          },
          "metadata": {},
          "execution_count": 77
        }
      ]
    },
    {
      "cell_type": "code",
      "source": [
        "# Plot history  (also known as a liss curve)\n",
        "pd.DataFrame(history.history).plot()\n",
        "plt.ylabel(\"loss\")\n",
        "plt.xlabel(\"epochs\")"
      ],
      "metadata": {
        "colab": {
          "base_uri": "https://localhost:8080/",
          "height": 466
        },
        "id": "vGta5uTb3XEL",
        "outputId": "e0fd1bbf-f5c2-4514-9b85-242a1d7d16dc"
      },
      "execution_count": 78,
      "outputs": [
        {
          "output_type": "execute_result",
          "data": {
            "text/plain": [
              "Text(0.5, 0, 'epochs')"
            ]
          },
          "metadata": {},
          "execution_count": 78
        },
        {
          "output_type": "display_data",
          "data": {
            "text/plain": [
              "<Figure size 640x480 with 1 Axes>"
            ],
            "image/png": "[encoded data removed]"
          },
          "metadata": {}
        }
      ]
    },
    {
      "cell_type": "markdown",
      "source": [
        "## Processing data (normalization and standardization)"
      ],
      "metadata": {
        "id": "imXDZIkT4baz"
      }
    },
    {
      "cell_type": "code",
      "source": [
        "import pandas as pd\n",
        "import matplotlib.pyplot as plt\n",
        "import tensorflow as tf\n",
        "\n",
        "# read in the insurance dataframe\n",
        "insurance = pd.read_csv(\"https://raw.githubusercontent.com/stedy/Machine-Learning-with-R-datasets/master/insurance.csv\")\n",
        "insurance"
      ],
      "metadata": {
        "id": "uNVb7OOX4Y-A",
        "colab": {
          "base_uri": "https://localhost:8080/",
          "height": 424
        },
        "outputId": "60a60b44-eeb1-4ef6-9a32-de59c96ea509"
      },
      "execution_count": 79,
      "outputs": [
        {
          "output_type": "execute_result",
          "data": {
            "text/plain": [
              "      age     sex     bmi  children smoker     region      charges\n",
              "0      19  female  27.900         0    yes  southwest  16884.92400\n",
              "1      18    male  33.770         1     no  southeast   1725.55230\n",
              "2      28    male  33.000         3     no  southeast   4449.46200\n",
              "3      33    male  22.705         0     no  northwest  21984.47061\n",
              "4      32    male  28.880         0     no  northwest   3866.85520\n",
              "...   ...     ...     ...       ...    ...        ...          ...\n",
              "1333   50    male  30.970         3     no  northwest  10600.54830\n",
              "1334   18  female  31.920         0     no  northeast   2205.98080\n",
              "1335   18  female  36.850         0     no  southeast   1629.83350\n",
              "1336   21  female  25.800         0     no  southwest   2007.94500\n",
              "1337   61  female  29.070         0    yes  northwest  29141.36030\n",
              "\n",
              "[1338 rows x 7 columns]"
            ],
            "text/html": [
              "\n",
              "  <div id=\"df-009fde4e-f9df-4946-99ae-28f8e549addf\" class=\"colab-df-container\">\n",
              "    <div>\n",
              "<style scoped>\n",
              "    .dataframe tbody tr th:only-of-type {\n",
              "        vertical-align: middle;\n",
              "    }\n",
              "\n",
              "    .dataframe tbody tr th {\n",
              "        vertical-align: top;\n",
              "    }\n",
              "\n",
              "    .dataframe thead th {\n",
              "        text-align: right;\n",
              "    }\n",
              "</style>\n",
              "<table border=\"1\" class=\"dataframe\">\n",
              "  <thead>\n",
              "    <tr style=\"text-align: right;\">\n",
              "      <th></th>\n",
              "      <th>age</th>\n",
              "      <th>sex</th>\n",
              "      <th>bmi</th>\n",
              "      <th>children</th>\n",
              "      <th>smoker</th>\n",
              "      <th>region</th>\n",
              "      <th>charges</th>\n",
              "    </tr>\n",
              "  </thead>\n",
              "  <tbody>\n",
              "    <tr>\n",
              "      <th>0</th>\n",
              "      <td>19</td>\n",
              "      <td>female</td>\n",
              "      <td>27.900</td>\n",
              "      <td>0</td>\n",
              "      <td>yes</td>\n",
              "      <td>southwest</td>\n",
              "      <td>16884.92400</td>\n",
              "    </tr>\n",
              "    <tr>\n",
              "      <th>1</th>\n",
              "      <td>18</td>\n",
              "      <td>male</td>\n",
              "      <td>33.770</td>\n",
              "      <td>1</td>\n",
              "      <td>no</td>\n",
              "      <td>southeast</td>\n",
              "      <td>1725.55230</td>\n",
              "    </tr>\n",
              "    <tr>\n",
              "      <th>2</th>\n",
              "      <td>28</td>\n",
              "      <td>male</td>\n",
              "      <td>33.000</td>\n",
              "      <td>3</td>\n",
              "      <td>no</td>\n",
              "      <td>southeast</td>\n",
              "      <td>4449.46200</td>\n",
              "    </tr>\n",
              "    <tr>\n",
              "      <th>3</th>\n",
              "      <td>33</td>\n",
              "      <td>male</td>\n",
              "      <td>22.705</td>\n",
              "      <td>0</td>\n",
              "      <td>no</td>\n",
              "      <td>northwest</td>\n",
              "      <td>21984.47061</td>\n",
              "    </tr>\n",
              "    <tr>\n",
              "      <th>4</th>\n",
              "      <td>32</td>\n",
              "      <td>male</td>\n",
              "      <td>28.880</td>\n",
              "      <td>0</td>\n",
              "      <td>no</td>\n",
              "      <td>northwest</td>\n",
              "      <td>3866.85520</td>\n",
              "    </tr>\n",
              "    <tr>\n",
              "      <th>...</th>\n",
              "      <td>...</td>\n",
              "      <td>...</td>\n",
              "      <td>...</td>\n",
              "      <td>...</td>\n",
              "      <td>...</td>\n",
              "      <td>...</td>\n",
              "      <td>...</td>\n",
              "    </tr>\n",
              "    <tr>\n",
              "      <th>1333</th>\n",
              "      <td>50</td>\n",
              "      <td>male</td>\n",
              "      <td>30.970</td>\n",
              "      <td>3</td>\n",
              "      <td>no</td>\n",
              "      <td>northwest</td>\n",
              "      <td>10600.54830</td>\n",
              "    </tr>\n",
              "    <tr>\n",
              "      <th>1334</th>\n",
              "      <td>18</td>\n",
              "      <td>female</td>\n",
              "      <td>31.920</td>\n",
              "      <td>0</td>\n",
              "      <td>no</td>\n",
              "      <td>northeast</td>\n",
              "      <td>2205.98080</td>\n",
              "    </tr>\n",
              "    <tr>\n",
              "      <th>1335</th>\n",
              "      <td>18</td>\n",
              "      <td>female</td>\n",
              "      <td>36.850</td>\n",
              "      <td>0</td>\n",
              "      <td>no</td>\n",
              "      <td>southeast</td>\n",
              "      <td>1629.83350</td>\n",
              "    </tr>\n",
              "    <tr>\n",
              "      <th>1336</th>\n",
              "      <td>21</td>\n",
              "      <td>female</td>\n",
              "      <td>25.800</td>\n",
              "      <td>0</td>\n",
              "      <td>no</td>\n",
              "      <td>southwest</td>\n",
              "      <td>2007.94500</td>\n",
              "    </tr>\n",
              "    <tr>\n",
              "      <th>1337</th>\n",
              "      <td>61</td>\n",
              "      <td>female</td>\n",
              "      <td>29.070</td>\n",
              "      <td>0</td>\n",
              "      <td>yes</td>\n",
              "      <td>northwest</td>\n",
              "      <td>29141.36030</td>\n",
              "    </tr>\n",
              "  </tbody>\n",
              "</table>\n",
              "<p>1338 rows × 7 columns</p>\n",
              "</div>\n",
              "    <div class=\"colab-df-buttons\">\n",
              "\n",
              "  <div class=\"colab-df-container\">\n",
              "    <button class=\"colab-df-convert\" onclick=\"convertToInteractive('df-009fde4e-f9df-4946-99ae-28f8e549addf')\"\n",
              "            title=\"Convert this dataframe to an interactive table.\"\n",
              "            style=\"display:none;\">\n",
              "\n",
              "  <svg xmlns=\"http://www.w3.org/2000/svg\" height=\"24px\" viewBox=\"0 -960 960 960\">\n",
              "    <path d=\"M120-120v-720h720v720H120Zm60-500h600v-160H180v160Zm220 220h160v-160H400v160Zm0 220h160v-160H400v160ZM180-400h160v-160H180v160Zm440 0h160v-160H620v160ZM180-180h160v-160H180v160Zm440 0h160v-160H620v160Z\"/>\n",
              "  </svg>\n",
              "    </button>\n",
              "\n",
              "  <style>\n",
              "    .colab-df-container {\n",
              "      display:flex;\n",
              "      gap: 12px;\n",
              "    }\n",
              "\n",
              "    .colab-df-convert {\n",
              "      background-color: #E8F0FE;\n",
              "      border: none;\n",
              "      border-radius: 50%;\n",
              "      cursor: pointer;\n",
              "      display: none;\n",
              "      fill: #1967D2;\n",
              "      height: 32px;\n",
              "      padding: 0 0 0 0;\n",
              "      width: 32px;\n",
              "    }\n",
              "\n",
              "    .colab-df-convert:hover {\n",
              "      background-color: #E2EBFA;\n",
              "      box-shadow: 0px 1px 2px rgba(60, 64, 67, 0.3), 0px 1px 3px 1px rgba(60, 64, 67, 0.15);\n",
              "      fill: #174EA6;\n",
              "    }\n",
              "\n",
              "    .colab-df-buttons div {\n",
              "      margin-bottom: 4px;\n",
              "    }\n",
              "\n",
              "    [theme=dark] .colab-df-convert {\n",
              "      background-color: #3B4455;\n",
              "      fill: #D2E3FC;\n",
              "    }\n",
              "\n",
              "    [theme=dark] .colab-df-convert:hover {\n",
              "      background-color: #434B5C;\n",
              "      box-shadow: 0px 1px 3px 1px rgba(0, 0, 0, 0.15);\n",
              "      filter: drop-shadow(0px 1px 2px rgba(0, 0, 0, 0.3));\n",
              "      fill: #FFFFFF;\n",
              "    }\n",
              "  </style>\n",
              "\n",
              "    <script>\n",
              "      const buttonEl =\n",
              "        document.querySelector('#df-009fde4e-f9df-4946-99ae-28f8e549addf button.colab-df-convert');\n",
              "      buttonEl.style.display =\n",
              "        google.colab.kernel.accessAllowed ? 'block' : 'none';\n",
              "\n",
              "      async function convertToInteractive(key) {\n",
              "        const element = document.querySelector('#df-009fde4e-f9df-4946-99ae-28f8e549addf');\n",
              "        const dataTable =\n",
              "          await google.colab.kernel.invokeFunction('convertToInteractive',\n",
              "                                                    [key], {});\n",
              "        if (!dataTable) return;\n",
              "\n",
              "        const docLinkHtml = 'Like what you see? Visit the ' +\n",
              "          '<a target=\"_blank\" href=https://colab.research.google.com/notebooks/data_table.ipynb>data table notebook</a>'\n",
              "          + ' to learn more about interactive tables.';\n",
              "        element.innerHTML = '';\n",
              "        dataTable['output_type'] = 'display_data';\n",
              "        await google.colab.output.renderOutput(dataTable, element);\n",
              "        const docLink = document.createElement('div');\n",
              "        docLink.innerHTML = docLinkHtml;\n",
              "        element.appendChild(docLink);\n",
              "      }\n",
              "    </script>\n",
              "  </div>\n",
              "\n",
              "\n",
              "<div id=\"df-8824dee8-963e-467d-a83d-c6c8d419508c\">\n",
              "  <button class=\"colab-df-quickchart\" onclick=\"quickchart('df-8824dee8-963e-467d-a83d-c6c8d419508c')\"\n",
              "            title=\"Suggest charts.\"\n",
              "            style=\"display:none;\">\n",
              "\n",
              "<svg xmlns=\"http://www.w3.org/2000/svg\" height=\"24px\"viewBox=\"0 0 24 24\"\n",
              "     width=\"24px\">\n",
              "    <g>\n",
              "        <path d=\"M19 3H5c-1.1 0-2 .9-2 2v14c0 1.1.9 2 2 2h14c1.1 0 2-.9 2-2V5c0-1.1-.9-2-2-2zM9 17H7v-7h2v7zm4 0h-2V7h2v10zm4 0h-2v-4h2v4z\"/>\n",
              "    </g>\n",
              "</svg>\n",
              "  </button>\n",
              "\n",
              "<style>\n",
              "  .colab-df-quickchart {\n",
              "      --bg-color: #E8F0FE;\n",
              "      --fill-color: #1967D2;\n",
              "      --hover-bg-color: #E2EBFA;\n",
              "      --hover-fill-color: #174EA6;\n",
              "      --disabled-fill-color: #AAA;\n",
              "      --disabled-bg-color: #DDD;\n",
              "  }\n",
              "\n",
              "  [theme=dark] .colab-df-quickchart {\n",
              "      --bg-color: #3B4455;\n",
              "      --fill-color: #D2E3FC;\n",
              "      --hover-bg-color: #434B5C;\n",
              "      --hover-fill-color: #FFFFFF;\n",
              "      --disabled-bg-color: #3B4455;\n",
              "      --disabled-fill-color: #666;\n",
              "  }\n",
              "\n",
              "  .colab-df-quickchart {\n",
              "    background-color: var(--bg-color);\n",
              "    border: none;\n",
              "    border-radius: 50%;\n",
              "    cursor: pointer;\n",
              "    display: none;\n",
              "    fill: var(--fill-color);\n",
              "    height: 32px;\n",
              "    padding: 0;\n",
              "    width: 32px;\n",
              "  }\n",
              "\n",
              "  .colab-df-quickchart:hover {\n",
              "    background-color: var(--hover-bg-color);\n",
              "    box-shadow: 0 1px 2px rgba(60, 64, 67, 0.3), 0 1px 3px 1px rgba(60, 64, 67, 0.15);\n",
              "    fill: var(--button-hover-fill-color);\n",
              "  }\n",
              "\n",
              "  .colab-df-quickchart-complete:disabled,\n",
              "  .colab-df-quickchart-complete:disabled:hover {\n",
              "    background-color: var(--disabled-bg-color);\n",
              "    fill: var(--disabled-fill-color);\n",
              "    box-shadow: none;\n",
              "  }\n",
              "\n",
              "  .colab-df-spinner {\n",
              "    border: 2px solid var(--fill-color);\n",
              "    border-color: transparent;\n",
              "    border-bottom-color: var(--fill-color);\n",
              "    animation:\n",
              "      spin 1s steps(1) infinite;\n",
              "  }\n",
              "\n",
              "  @keyframes spin {\n",
              "    0% {\n",
              "      border-color: transparent;\n",
              "      border-bottom-color: var(--fill-color);\n",
              "      border-left-color: var(--fill-color);\n",
              "    }\n",
              "    20% {\n",
              "      border-color: transparent;\n",
              "      border-left-color: var(--fill-color);\n",
              "      border-top-color: var(--fill-color);\n",
              "    }\n",
              "    30% {\n",
              "      border-color: transparent;\n",
              "      border-left-color: var(--fill-color);\n",
              "      border-top-color: var(--fill-color);\n",
              "      border-right-color: var(--fill-color);\n",
              "    }\n",
              "    40% {\n",
              "      border-color: transparent;\n",
              "      border-right-color: var(--fill-color);\n",
              "      border-top-color: var(--fill-color);\n",
              "    }\n",
              "    60% {\n",
              "      border-color: transparent;\n",
              "      border-right-color: var(--fill-color);\n",
              "    }\n",
              "    80% {\n",
              "      border-color: transparent;\n",
              "      border-right-color: var(--fill-color);\n",
              "      border-bottom-color: var(--fill-color);\n",
              "    }\n",
              "    90% {\n",
              "      border-color: transparent;\n",
              "      border-bottom-color: var(--fill-color);\n",
              "    }\n",
              "  }\n",
              "</style>\n",
              "\n",
              "  <script>\n",
              "    async function quickchart(key) {\n",
              "      const quickchartButtonEl =\n",
              "        document.querySelector('#' + key + ' button');\n",
              "      quickchartButtonEl.disabled = true;  // To prevent multiple clicks.\n",
              "      quickchartButtonEl.classList.add('colab-df-spinner');\n",
              "      try {\n",
              "        const charts = await google.colab.kernel.invokeFunction(\n",
              "            'suggestCharts', [key], {});\n",
              "      } catch (error) {\n",
              "        console.error('Error during call to suggestCharts:', error);\n",
              "      }\n",
              "      quickchartButtonEl.classList.remove('colab-df-spinner');\n",
              "      quickchartButtonEl.classList.add('colab-df-quickchart-complete');\n",
              "    }\n",
              "    (() => {\n",
              "      let quickchartButtonEl =\n",
              "        document.querySelector('#df-8824dee8-963e-467d-a83d-c6c8d419508c button');\n",
              "      quickchartButtonEl.style.display =\n",
              "        google.colab.kernel.accessAllowed ? 'block' : 'none';\n",
              "    })();\n",
              "  </script>\n",
              "</div>\n",
              "    </div>\n",
              "  </div>\n"
            ]
          },
          "metadata": {},
          "execution_count": 79
        }
      ]
    },
    {
      "cell_type": "code",
      "source": [
        "\n",
        "from sklearn.compose import make_column_transformer\n",
        "from sklearn.preprocessing import MinMaxScaler, OneHotEncoder\n",
        "\n",
        "# Create column transformer (this will help us normalize/preprocess our data)\n",
        "ct = make_column_transformer(\n",
        "    (MinMaxScaler(), [\"age\", \"bmi\", \"children\"]), # get all values between 0 and 1\n",
        "    (OneHotEncoder(handle_unknown=\"ignore\"), [\"sex\", \"smoker\", \"region\"])\n",
        ")\n",
        "\n",
        "# Create X & y\n",
        "X = insurance.drop(\"charges\", axis=1)\n",
        "y = insurance[\"charges\"]\n",
        "\n",
        "# Build our train and test sets (use random state to ensure same split as before)\n",
        "X_train, X_test, y_train, y_test = train_test_split(X, y, test_size=0.2, random_state=42)\n",
        "\n",
        "# Fit column transformer on the training data only (doing so on test data would result in data leakage)\n",
        "ct.fit(X_train)\n",
        "\n",
        "# Transform training and test data with normalization (MinMaxScalar) and one hot encoding (OneHotEncoder)\n",
        "X_train_normal = ct.transform(X_train)\n",
        "X_test_normal = ct.transform(X_test)"
      ],
      "metadata": {
        "id": "ix0rjLXY_2I9"
      },
      "execution_count": 83,
      "outputs": []
    },
    {
      "cell_type": "code",
      "source": [
        "X_train.loc[0]"
      ],
      "metadata": {
        "colab": {
          "base_uri": "https://localhost:8080/"
        },
        "id": "WSEnMef3QZJc",
        "outputId": "f60539bc-7ac8-4b53-bbad-93e38998ff5f"
      },
      "execution_count": 80,
      "outputs": [
        {
          "output_type": "execute_result",
          "data": {
            "text/plain": [
              "age                 19.0\n",
              "bmi                 27.9\n",
              "children             0.0\n",
              "sex_female           1.0\n",
              "sex_male             0.0\n",
              "smoker_no            0.0\n",
              "smoker_yes           1.0\n",
              "region_northeast     0.0\n",
              "region_northwest     0.0\n",
              "region_southeast     0.0\n",
              "region_southwest     1.0\n",
              "Name: 0, dtype: float64"
            ]
          },
          "metadata": {},
          "execution_count": 80
        }
      ]
    },
    {
      "cell_type": "code",
      "source": [
        "X_train_normal[0]"
      ],
      "metadata": {
        "colab": {
          "base_uri": "https://localhost:8080/"
        },
        "id": "d9lF53yWQdUM",
        "outputId": "f943f2c3-1765-4558-e5ee-5c4bf0e9db93"
      },
      "execution_count": 84,
      "outputs": [
        {
          "output_type": "execute_result",
          "data": {
            "text/plain": [
              "array([0.60869565, 0.10734463, 0.4       , 1.        , 0.        ,\n",
              "       1.        , 0.        , 0.        , 1.        , 0.        ,\n",
              "       0.        ])"
            ]
          },
          "metadata": {},
          "execution_count": 84
        }
      ]
    },
    {
      "cell_type": "code",
      "source": [
        "X_train_normal.shape, X_train.shape"
      ],
      "metadata": {
        "colab": {
          "base_uri": "https://localhost:8080/"
        },
        "id": "cbXBTOiXQgXC",
        "outputId": "679486ae-47de-46cf-eb03-1cfce8dd4be7"
      },
      "execution_count": 85,
      "outputs": [
        {
          "output_type": "execute_result",
          "data": {
            "text/plain": [
              "((1070, 11), (1070, 6))"
            ]
          },
          "metadata": {},
          "execution_count": 85
        }
      ]
    },
    {
      "cell_type": "code",
      "source": [
        "# Set random seed\n",
        "tf.random.set_seed(42)\n",
        "\n",
        "# Build the model (3 layers, 100, 10, 1 units)\n",
        "insurance_model_4 = tf.keras.Sequential([\n",
        "  tf.keras.layers.Dense(100),\n",
        "  tf.keras.layers.Dense(10),\n",
        "  tf.keras.layers.Dense(1)\n",
        "])\n",
        "\n",
        "# Compile the model\n",
        "insurance_model_4.compile(loss=tf.keras.losses.mae,\n",
        "                          optimizer=tf.keras.optimizers.Adam(),\n",
        "                          metrics=['mae'])\n",
        "\n",
        "# Fit the model for 200 epochs (same as insurance_model_2)\n",
        "insurance_model_4.fit(X_train_normal, y_train, epochs=200, verbose=0)\n",
        ""
      ],
      "metadata": {
        "colab": {
          "base_uri": "https://localhost:8080/"
        },
        "id": "DfT5fg8aQ1XT",
        "outputId": "ed814dce-904c-4936-b117-b3514e11665d"
      },
      "execution_count": 87,
      "outputs": [
        {
          "output_type": "execute_result",
          "data": {
            "text/plain": [
              "<keras.src.callbacks.History at 0x79ee84dfd330>"
            ]
          },
          "metadata": {},
          "execution_count": 87
        }
      ]
    },
    {
      "cell_type": "code",
      "source": [
        "# Evaluate our insurance model trained on normalized data\n",
        "insurance_model_4.evaluate(X_test_normal,  y_test)"
      ],
      "metadata": {
        "colab": {
          "base_uri": "https://localhost:8080/"
        },
        "id": "HPjNkGGXRsZI",
        "outputId": "212b29d9-3a73-4c7d-9cda-91d0eda62b38"
      },
      "execution_count": 89,
      "outputs": [
        {
          "output_type": "stream",
          "name": "stdout",
          "text": [
            "9/9 [==============================] - 0s 2ms/step - loss: 3172.0330 - mae: 3172.0330\n"
          ]
        },
        {
          "output_type": "execute_result",
          "data": {
            "text/plain": [
              "[3172.032958984375, 3172.032958984375]"
            ]
          },
          "metadata": {},
          "execution_count": 89
        }
      ]
    },
    {
      "cell_type": "code",
      "source": [],
      "metadata": {
        "id": "hpI0D6oZRxEt"
      },
      "execution_count": null,
      "outputs": []
    }
  ]
}